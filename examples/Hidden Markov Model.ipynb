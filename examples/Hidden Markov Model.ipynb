{
 "cells": [
  {
   "cell_type": "markdown",
   "metadata": {},
   "source": [
    "# How to train your Hidden Markov Model"
   ]
  },
  {
   "cell_type": "code",
   "execution_count": 11,
   "metadata": {
    "scrolled": true
   },
   "outputs": [
    {
     "name": "stderr",
     "output_type": "stream",
     "text": [
      "\u001b[32m\u001b[1m  Activating\u001b[22m\u001b[39m project at `~/biaslab/repos/RxInfer.jl/examples`\n",
      "┌ Warning: The project dependencies or compat requirements have changed since the manifest was last resolved.\n",
      "│ It is recommended to `Pkg.resolve()` or consider `Pkg.update()` if necessary.\n",
      "└ @ Pkg.API /cache/build/default-amdci4-2/julialang/julia-release-1-dot-8/usr/share/julia/stdlib/v1.8/Pkg/src/API.jl:1535\n"
     ]
    }
   ],
   "source": [
    "# Activate local environment, see `Project.toml`\n",
    "import Pkg; Pkg.activate(\".\"); Pkg.instantiate(); "
   ]
  },
  {
   "cell_type": "markdown",
   "metadata": {},
   "source": [
    "In this example, we'll be tracking a Roomba as it moves throughout a 3-bedroom apartment consisting of a bathroom, a master bedroom, and a living room. It's important to keep track of your AI's, so we want to make sure we can keep tabs on it whenever we leave the apartment. \n",
    "\n",
    "\n"
   ]
  },
  {
   "cell_type": "markdown",
   "metadata": {},
   "source": [
    "First, in order to track the Roomba's movements, we need to come up with a model. Since we have a discrete set of rooms in the apartment, we can use a categorical distribution to represent the Roomba's position. There are three  rooms in the apartment, meaning we need three states in our categorical distribution. At time $t$, let's call the estimate of the Roomba's position $s_t$.\n",
    "\n",
    "However, we also know that some rooms are more accessible than others, meaning the Roomba is more likely to move between these rooms - for example, it's rare to have a door directly between the bathroom and the master bedroom. We can encode this information using a transition matrix, which we will call $A$.\n",
    "\n",
    "Our Roomba is equipped with a small camera that tracks the surface it is moving over. We will use this camera to obtain our observations since we know that there is a carpet in the living room, tiles in the bathroom, and hardwood floors in the master bedroom. However, this method is not foolproof, and sometimes the Roomba will make mistakes and mistake the hardwood floor for tiles. Don't be too hard on the little guy, it's just a Roomba after all.\n",
    "\n",
    "At time $t$, we will call our observations $x_t$ and encode the mapping from the Roomba's position to the observations in a matrix we call $B$:\n",
    "\n",
    "\n",
    "$$\\begin{aligned}\n",
    "    s_t & \\sim \\mathcal{C}at(A s_{t-1}),\\\\\n",
    "    x_t & \\sim \\mathcal{C}at(B s_t).\\\\\n",
    "\\end{aligned}$$\n",
    "\n",
    "This type of discrete state space model is known as a *Hidden Markov Model* or HMM for short. Our goal is to learn the matrices $A$ and $B$ so we can use them to track the whereabouts of our little cleaning agent."
   ]
  },
  {
   "cell_type": "code",
   "execution_count": 2,
   "metadata": {},
   "outputs": [
    {
     "name": "stderr",
     "output_type": "stream",
     "text": [
      "┌ Info: Precompiling BenchmarkTools [6e4b80f9-dd63-53aa-95a3-0cdb28fa8baf]\n",
      "└ @ Base loading.jl:1664\n"
     ]
    }
   ],
   "source": [
    "using RxInfer, Random, BenchmarkTools, Distributions, LinearAlgebra, Plots"
   ]
  },
  {
   "cell_type": "markdown",
   "metadata": {},
   "source": [
    "In order to generate data to mimic the observations of the Roomba, we need to specify two things: the actual transition probabilities between the states (i.e., how likely is the Roomba to move from one room to another), and the observation distribution (i.e., what type of texture will the Roomba encounter in each room). We can then use these specifications to generate observations from our hidden Markov model (HMM).\n",
    "\n",
    "To generate our observation data, we'll follow these steps:\n",
    "1. Assume an initial state for the Roomba. For example, we can start the Roomba in the bedroom.\n",
    "2. Determine where the Roomba went next by drawing from a Categorical distribution with the transition probabilities between the different rooms.\n",
    "3. Determine the observation encountered in this room by drawing from a Categorical distribution with the corresponding observation probabilities.\n",
    "4. Repeat steps 2-3 for as many samples as we want.\n",
    "\n",
    "The following code implements this process and generates our observation data:\n"
   ]
  },
  {
   "cell_type": "code",
   "execution_count": 13,
   "metadata": {
    "scrolled": true
   },
   "outputs": [
    {
     "data": {
      "text/plain": [
       "generate_data (generic function with 1 method)"
      ]
     },
     "execution_count": 13,
     "metadata": {},
     "output_type": "execute_result"
    }
   ],
   "source": [
    "\"\"\"\n",
    "    rand_vec(rng, distribution::Categorical)\n",
    "\n",
    "This function returns a one-hot encoding of a random sample from a categorical distribution. The sample is drawn with the `rng` random number generator.\n",
    "\"\"\"\n",
    "function rand_vec(rng, distribution::Categorical) \n",
    "    k = ncategories(distribution)\n",
    "    s = zeros(k)\n",
    "    drawn_category = rand(rng, distribution)\n",
    "    s[drawn_category] = 1.0\n",
    "    return s\n",
    "end\n",
    "\n",
    "function generate_data(n_samples; seed = 42)\n",
    "    \n",
    "    rng = MersenneTwister(seed)\n",
    "    \n",
    "    # Transition probabilities \n",
    "    state_transition_matrix = [0.9 0.0 0.1;\n",
    "                                                        0.0 0.9 0.1; \n",
    "                                                        0.05 0.05 0.9] \n",
    "    # Observation noise\n",
    "    observation_distribution_matrix = [0.9 0.05 0.05;\n",
    "                                                                         0.05 0.9 0.05;\n",
    "                                                                         0.05 0.05 0.9] \n",
    "    # Initial state\n",
    "    s_initial = [1.0, 0.0, 0.0] \n",
    "    \n",
    "    states = Vector{Vector{Float64}}(undef, n_samples) # one-hot encoding of the states\n",
    "    observations = Vector{Vector{Float64}}(undef, n_samples) # one-hot encoding of the observations\n",
    "    \n",
    "    s_prev = s_initial\n",
    "    \n",
    "    for t = 1:n_samples\n",
    "        s_probvec = state_transition_matrix * s_prev\n",
    "        states[t] = rand_vec(rng, Categorical(s_probvec ./ sum(s_probvec)))\n",
    "        obs_probvec = observation_distribution_matrix * states[t]\n",
    "        observations[t] = rand_vec(rng, Categorical(obs_probvec ./ sum(obs_probvec)))\n",
    "        s_prev = states[t]\n",
    "    end\n",
    "    \n",
    "    return observations, states\n",
    "end"
   ]
  },
  {
   "cell_type": "markdown",
   "metadata": {},
   "source": [
    "We will generate 100 data points to simulate 100 ticks of the Roomba moving through the apartment. `x_data` will contain the Roomba's measurements of the floor it's currently on, and `s_data` will contain information on the room the Roomba was actually in."
   ]
  },
  {
   "cell_type": "code",
   "execution_count": 29,
   "metadata": {},
   "outputs": [
    {
     "data": {
      "image/svg+xml": [
       "<?xml version=\"1.0\" encoding=\"utf-8\"?>\n",
       "<svg xmlns=\"http://www.w3.org/2000/svg\" xmlns:xlink=\"http://www.w3.org/1999/xlink\" width=\"600\" height=\"400\" viewBox=\"0 0 2400 1600\">\n",
       "<defs>\n",
       "  <clipPath id=\"clip400\">\n",
       "    <rect x=\"0\" y=\"0\" width=\"2400\" height=\"1600\"/>\n",
       "  </clipPath>\n",
       "</defs>\n",
       "<path clip-path=\"url(#clip400)\" d=\"M0 1600 L2400 1600 L2400 0 L0 0  Z\" fill=\"#ffffff\" fill-rule=\"evenodd\" fill-opacity=\"1\"/>\n",
       "<defs>\n",
       "  <clipPath id=\"clip401\">\n",
       "    <rect x=\"480\" y=\"0\" width=\"1681\" height=\"1600\"/>\n",
       "  </clipPath>\n",
       "</defs>\n",
       "<path clip-path=\"url(#clip400)\" d=\"M369.329 1423.18 L2352.76 1423.18 L2352.76 47.2441 L369.329 47.2441  Z\" fill=\"#ffffff\" fill-rule=\"evenodd\" fill-opacity=\"1\"/>\n",
       "<defs>\n",
       "  <clipPath id=\"clip402\">\n",
       "    <rect x=\"369\" y=\"47\" width=\"1984\" height=\"1377\"/>\n",
       "  </clipPath>\n",
       "</defs>\n",
       "<polyline clip-path=\"url(#clip402)\" style=\"stroke:#000000; stroke-linecap:round; stroke-linejoin:round; stroke-width:2; stroke-opacity:0.1; fill:none\" points=\"406.563,1423.18 406.563,47.2441 \"/>\n",
       "<polyline clip-path=\"url(#clip402)\" style=\"stroke:#000000; stroke-linecap:round; stroke-linejoin:round; stroke-width:2; stroke-opacity:0.1; fill:none\" points=\"879.077,1423.18 879.077,47.2441 \"/>\n",
       "<polyline clip-path=\"url(#clip402)\" style=\"stroke:#000000; stroke-linecap:round; stroke-linejoin:round; stroke-width:2; stroke-opacity:0.1; fill:none\" points=\"1351.59,1423.18 1351.59,47.2441 \"/>\n",
       "<polyline clip-path=\"url(#clip402)\" style=\"stroke:#000000; stroke-linecap:round; stroke-linejoin:round; stroke-width:2; stroke-opacity:0.1; fill:none\" points=\"1824.11,1423.18 1824.11,47.2441 \"/>\n",
       "<polyline clip-path=\"url(#clip402)\" style=\"stroke:#000000; stroke-linecap:round; stroke-linejoin:round; stroke-width:2; stroke-opacity:0.1; fill:none\" points=\"2296.62,1423.18 2296.62,47.2441 \"/>\n",
       "<polyline clip-path=\"url(#clip400)\" style=\"stroke:#000000; stroke-linecap:round; stroke-linejoin:round; stroke-width:4; stroke-opacity:1; fill:none\" points=\"369.329,1423.18 2352.76,1423.18 \"/>\n",
       "<polyline clip-path=\"url(#clip400)\" style=\"stroke:#000000; stroke-linecap:round; stroke-linejoin:round; stroke-width:4; stroke-opacity:1; fill:none\" points=\"406.563,1423.18 406.563,1404.28 \"/>\n",
       "<polyline clip-path=\"url(#clip400)\" style=\"stroke:#000000; stroke-linecap:round; stroke-linejoin:round; stroke-width:4; stroke-opacity:1; fill:none\" points=\"879.077,1423.18 879.077,1404.28 \"/>\n",
       "<polyline clip-path=\"url(#clip400)\" style=\"stroke:#000000; stroke-linecap:round; stroke-linejoin:round; stroke-width:4; stroke-opacity:1; fill:none\" points=\"1351.59,1423.18 1351.59,1404.28 \"/>\n",
       "<polyline clip-path=\"url(#clip400)\" style=\"stroke:#000000; stroke-linecap:round; stroke-linejoin:round; stroke-width:4; stroke-opacity:1; fill:none\" points=\"1824.11,1423.18 1824.11,1404.28 \"/>\n",
       "<polyline clip-path=\"url(#clip400)\" style=\"stroke:#000000; stroke-linecap:round; stroke-linejoin:round; stroke-width:4; stroke-opacity:1; fill:none\" points=\"2296.62,1423.18 2296.62,1404.28 \"/>\n",
       "<path clip-path=\"url(#clip400)\" d=\"M406.563 1454.1 Q402.952 1454.1 401.123 1457.66 Q399.317 1461.2 399.317 1468.33 Q399.317 1475.44 401.123 1479.01 Q402.952 1482.55 406.563 1482.55 Q410.197 1482.55 412.003 1479.01 Q413.831 1475.44 413.831 1468.33 Q413.831 1461.2 412.003 1457.66 Q410.197 1454.1 406.563 1454.1 M406.563 1450.39 Q412.373 1450.39 415.428 1455 Q418.507 1459.58 418.507 1468.33 Q418.507 1477.06 415.428 1481.67 Q412.373 1486.25 406.563 1486.25 Q400.753 1486.25 397.674 1481.67 Q394.618 1477.06 394.618 1468.33 Q394.618 1459.58 397.674 1455 Q400.753 1450.39 406.563 1450.39 Z\" fill=\"#000000\" fill-rule=\"evenodd\" fill-opacity=\"1\" /><path clip-path=\"url(#clip400)\" d=\"M858.348 1481.64 L874.668 1481.64 L874.668 1485.58 L852.723 1485.58 L852.723 1481.64 Q855.385 1478.89 859.969 1474.26 Q864.575 1469.61 865.756 1468.27 Q868.001 1465.74 868.881 1464.01 Q869.783 1462.25 869.783 1460.56 Q869.783 1457.8 867.839 1456.07 Q865.918 1454.33 862.816 1454.33 Q860.617 1454.33 858.163 1455.09 Q855.733 1455.86 852.955 1457.41 L852.955 1452.69 Q855.779 1451.55 858.233 1450.97 Q860.686 1450.39 862.723 1450.39 Q868.094 1450.39 871.288 1453.08 Q874.482 1455.77 874.482 1460.26 Q874.482 1462.39 873.672 1464.31 Q872.885 1466.2 870.779 1468.8 Q870.2 1469.47 867.098 1472.69 Q863.996 1475.88 858.348 1481.64 Z\" fill=\"#000000\" fill-rule=\"evenodd\" fill-opacity=\"1\" /><path clip-path=\"url(#clip400)\" d=\"M884.529 1451.02 L902.885 1451.02 L902.885 1454.96 L888.811 1454.96 L888.811 1463.43 Q889.83 1463.08 890.848 1462.92 Q891.867 1462.73 892.885 1462.73 Q898.672 1462.73 902.052 1465.9 Q905.431 1469.08 905.431 1474.49 Q905.431 1480.07 901.959 1483.17 Q898.487 1486.25 892.168 1486.25 Q889.992 1486.25 887.723 1485.88 Q885.478 1485.51 883.07 1484.77 L883.07 1480.07 Q885.154 1481.2 887.376 1481.76 Q889.598 1482.32 892.075 1482.32 Q896.08 1482.32 898.418 1480.21 Q900.755 1478.1 900.755 1474.49 Q900.755 1470.88 898.418 1468.77 Q896.08 1466.67 892.075 1466.67 Q890.2 1466.67 888.325 1467.08 Q886.473 1467.5 884.529 1468.38 L884.529 1451.02 Z\" fill=\"#000000\" fill-rule=\"evenodd\" fill-opacity=\"1\" /><path clip-path=\"url(#clip400)\" d=\"M1326.29 1451.02 L1344.65 1451.02 L1344.65 1454.96 L1330.57 1454.96 L1330.57 1463.43 Q1331.59 1463.08 1332.61 1462.92 Q1333.63 1462.73 1334.65 1462.73 Q1340.43 1462.73 1343.81 1465.9 Q1347.19 1469.08 1347.19 1474.49 Q1347.19 1480.07 1343.72 1483.17 Q1340.25 1486.25 1333.93 1486.25 Q1331.75 1486.25 1329.49 1485.88 Q1327.24 1485.51 1324.83 1484.77 L1324.83 1480.07 Q1326.92 1481.2 1329.14 1481.76 Q1331.36 1482.32 1333.84 1482.32 Q1337.84 1482.32 1340.18 1480.21 Q1342.52 1478.1 1342.52 1474.49 Q1342.52 1470.88 1340.18 1468.77 Q1337.84 1466.67 1333.84 1466.67 Q1331.96 1466.67 1330.09 1467.08 Q1328.24 1467.5 1326.29 1468.38 L1326.29 1451.02 Z\" fill=\"#000000\" fill-rule=\"evenodd\" fill-opacity=\"1\" /><path clip-path=\"url(#clip400)\" d=\"M1366.41 1454.1 Q1362.8 1454.1 1360.97 1457.66 Q1359.16 1461.2 1359.16 1468.33 Q1359.16 1475.44 1360.97 1479.01 Q1362.8 1482.55 1366.41 1482.55 Q1370.04 1482.55 1371.85 1479.01 Q1373.68 1475.44 1373.68 1468.33 Q1373.68 1461.2 1371.85 1457.66 Q1370.04 1454.1 1366.41 1454.1 M1366.41 1450.39 Q1372.22 1450.39 1375.27 1455 Q1378.35 1459.58 1378.35 1468.33 Q1378.35 1477.06 1375.27 1481.67 Q1372.22 1486.25 1366.41 1486.25 Q1360.6 1486.25 1357.52 1481.67 Q1354.46 1477.06 1354.46 1468.33 Q1354.46 1459.58 1357.52 1455 Q1360.6 1450.39 1366.41 1450.39 Z\" fill=\"#000000\" fill-rule=\"evenodd\" fill-opacity=\"1\" /><path clip-path=\"url(#clip400)\" d=\"M1797.96 1451.02 L1820.18 1451.02 L1820.18 1453.01 L1807.64 1485.58 L1802.75 1485.58 L1814.56 1454.96 L1797.96 1454.96 L1797.96 1451.02 Z\" fill=\"#000000\" fill-rule=\"evenodd\" fill-opacity=\"1\" /><path clip-path=\"url(#clip400)\" d=\"M1829.35 1451.02 L1847.71 1451.02 L1847.71 1454.96 L1833.63 1454.96 L1833.63 1463.43 Q1834.65 1463.08 1835.67 1462.92 Q1836.69 1462.73 1837.71 1462.73 Q1843.49 1462.73 1846.87 1465.9 Q1850.25 1469.08 1850.25 1474.49 Q1850.25 1480.07 1846.78 1483.17 Q1843.31 1486.25 1836.99 1486.25 Q1834.81 1486.25 1832.54 1485.88 Q1830.3 1485.51 1827.89 1484.77 L1827.89 1480.07 Q1829.97 1481.2 1832.2 1481.76 Q1834.42 1482.32 1836.9 1482.32 Q1840.9 1482.32 1843.24 1480.21 Q1845.58 1478.1 1845.58 1474.49 Q1845.58 1470.88 1843.24 1468.77 Q1840.9 1466.67 1836.9 1466.67 Q1835.02 1466.67 1833.15 1467.08 Q1831.29 1467.5 1829.35 1468.38 L1829.35 1451.02 Z\" fill=\"#000000\" fill-rule=\"evenodd\" fill-opacity=\"1\" /><path clip-path=\"url(#clip400)\" d=\"M2256.23 1481.64 L2263.87 1481.64 L2263.87 1455.28 L2255.56 1456.95 L2255.56 1452.69 L2263.82 1451.02 L2268.5 1451.02 L2268.5 1481.64 L2276.14 1481.64 L2276.14 1485.58 L2256.23 1485.58 L2256.23 1481.64 Z\" fill=\"#000000\" fill-rule=\"evenodd\" fill-opacity=\"1\" /><path clip-path=\"url(#clip400)\" d=\"M2295.58 1454.1 Q2291.97 1454.1 2290.14 1457.66 Q2288.33 1461.2 2288.33 1468.33 Q2288.33 1475.44 2290.14 1479.01 Q2291.97 1482.55 2295.58 1482.55 Q2299.21 1482.55 2301.02 1479.01 Q2302.85 1475.44 2302.85 1468.33 Q2302.85 1461.2 2301.02 1457.66 Q2299.21 1454.1 2295.58 1454.1 M2295.58 1450.39 Q2301.39 1450.39 2304.45 1455 Q2307.52 1459.58 2307.52 1468.33 Q2307.52 1477.06 2304.45 1481.67 Q2301.39 1486.25 2295.58 1486.25 Q2289.77 1486.25 2286.69 1481.67 Q2283.64 1477.06 2283.64 1468.33 Q2283.64 1459.58 2286.69 1455 Q2289.77 1450.39 2295.58 1450.39 Z\" fill=\"#000000\" fill-rule=\"evenodd\" fill-opacity=\"1\" /><path clip-path=\"url(#clip400)\" d=\"M2325.74 1454.1 Q2322.13 1454.1 2320.3 1457.66 Q2318.5 1461.2 2318.5 1468.33 Q2318.5 1475.44 2320.3 1479.01 Q2322.13 1482.55 2325.74 1482.55 Q2329.38 1482.55 2331.18 1479.01 Q2333.01 1475.44 2333.01 1468.33 Q2333.01 1461.2 2331.18 1457.66 Q2329.38 1454.1 2325.74 1454.1 M2325.74 1450.39 Q2331.55 1450.39 2334.61 1455 Q2337.69 1459.58 2337.69 1468.33 Q2337.69 1477.06 2334.61 1481.67 Q2331.55 1486.25 2325.74 1486.25 Q2319.93 1486.25 2316.85 1481.67 Q2313.8 1477.06 2313.8 1468.33 Q2313.8 1459.58 2316.85 1455 Q2319.93 1450.39 2325.74 1450.39 Z\" fill=\"#000000\" fill-rule=\"evenodd\" fill-opacity=\"1\" /><path clip-path=\"url(#clip400)\" d=\"M1282.92 1520.52 L1323.12 1520.52 L1323.12 1525.93 L1306.25 1525.93 L1306.25 1568.04 L1299.79 1568.04 L1299.79 1525.93 L1282.92 1525.93 L1282.92 1520.52 Z\" fill=\"#000000\" fill-rule=\"evenodd\" fill-opacity=\"1\" /><path clip-path=\"url(#clip400)\" d=\"M1327.07 1532.4 L1332.92 1532.4 L1332.92 1568.04 L1327.07 1568.04 L1327.07 1532.4 M1327.07 1518.52 L1332.92 1518.52 L1332.92 1525.93 L1327.07 1525.93 L1327.07 1518.52 Z\" fill=\"#000000\" fill-rule=\"evenodd\" fill-opacity=\"1\" /><path clip-path=\"url(#clip400)\" d=\"M1372.93 1539.24 Q1375.13 1535.29 1378.18 1533.41 Q1381.24 1531.54 1385.38 1531.54 Q1390.95 1531.54 1393.97 1535.45 Q1396.99 1539.33 1396.99 1546.53 L1396.99 1568.04 L1391.1 1568.04 L1391.1 1546.72 Q1391.1 1541.59 1389.29 1539.11 Q1387.48 1536.63 1383.75 1536.63 Q1379.2 1536.63 1376.56 1539.65 Q1373.92 1542.68 1373.92 1547.9 L1373.92 1568.04 L1368.03 1568.04 L1368.03 1546.72 Q1368.03 1541.56 1366.21 1539.11 Q1364.4 1536.63 1360.61 1536.63 Q1356.12 1536.63 1353.48 1539.68 Q1350.84 1542.71 1350.84 1547.9 L1350.84 1568.04 L1344.95 1568.04 L1344.95 1532.4 L1350.84 1532.4 L1350.84 1537.93 Q1352.85 1534.66 1355.65 1533.1 Q1358.45 1531.54 1362.3 1531.54 Q1366.18 1531.54 1368.89 1533.51 Q1371.63 1535.48 1372.93 1539.24 Z\" fill=\"#000000\" fill-rule=\"evenodd\" fill-opacity=\"1\" /><path clip-path=\"url(#clip400)\" d=\"M1439.17 1548.76 L1439.17 1551.62 L1412.24 1551.62 Q1412.62 1557.67 1415.87 1560.85 Q1419.15 1564 1424.97 1564 Q1428.34 1564 1431.49 1563.17 Q1434.68 1562.35 1437.8 1560.69 L1437.8 1566.23 Q1434.65 1567.57 1431.34 1568.27 Q1428.03 1568.97 1424.62 1568.97 Q1416.09 1568.97 1411.09 1564 Q1406.13 1559.04 1406.13 1550.57 Q1406.13 1541.82 1410.84 1536.69 Q1415.58 1531.54 1423.6 1531.54 Q1430.79 1531.54 1434.96 1536.18 Q1439.17 1540.8 1439.17 1548.76 M1433.31 1547.04 Q1433.25 1542.23 1430.6 1539.37 Q1427.99 1536.5 1423.66 1536.5 Q1418.76 1536.5 1415.8 1539.27 Q1412.88 1542.04 1412.43 1547.07 L1433.31 1547.04 Z\" fill=\"#000000\" fill-rule=\"evenodd\" fill-opacity=\"1\" /><polyline clip-path=\"url(#clip402)\" style=\"stroke:#000000; stroke-linecap:round; stroke-linejoin:round; stroke-width:2; stroke-opacity:0.1; fill:none\" points=\"369.329,1384.24 2352.76,1384.24 \"/>\n",
       "<polyline clip-path=\"url(#clip402)\" style=\"stroke:#000000; stroke-linecap:round; stroke-linejoin:round; stroke-width:2; stroke-opacity:0.1; fill:none\" points=\"369.329,735.212 2352.76,735.212 \"/>\n",
       "<polyline clip-path=\"url(#clip402)\" style=\"stroke:#000000; stroke-linecap:round; stroke-linejoin:round; stroke-width:2; stroke-opacity:0.1; fill:none\" points=\"369.329,86.1857 2352.76,86.1857 \"/>\n",
       "<polyline clip-path=\"url(#clip400)\" style=\"stroke:#000000; stroke-linecap:round; stroke-linejoin:round; stroke-width:4; stroke-opacity:1; fill:none\" points=\"369.329,1423.18 369.329,47.2441 \"/>\n",
       "<polyline clip-path=\"url(#clip400)\" style=\"stroke:#000000; stroke-linecap:round; stroke-linejoin:round; stroke-width:4; stroke-opacity:1; fill:none\" points=\"369.329,1384.24 388.226,1384.24 \"/>\n",
       "<polyline clip-path=\"url(#clip400)\" style=\"stroke:#000000; stroke-linecap:round; stroke-linejoin:round; stroke-width:4; stroke-opacity:1; fill:none\" points=\"369.329,735.212 388.226,735.212 \"/>\n",
       "<polyline clip-path=\"url(#clip400)\" style=\"stroke:#000000; stroke-linecap:round; stroke-linejoin:round; stroke-width:4; stroke-opacity:1; fill:none\" points=\"369.329,86.1857 388.226,86.1857 \"/>\n",
       "<path clip-path=\"url(#clip400)\" d=\"M132.265 1385.01 L132.265 1397.68 L139.765 1397.68 Q143.538 1397.68 145.343 1396.12 Q147.172 1394.55 147.172 1391.33 Q147.172 1388.09 145.343 1386.56 Q143.538 1385.01 139.765 1385.01 L132.265 1385.01 M132.265 1370.8 L132.265 1381.22 L139.186 1381.22 Q142.612 1381.22 144.279 1379.94 Q145.968 1378.65 145.968 1376.01 Q145.968 1373.39 144.279 1372.1 Q142.612 1370.8 139.186 1370.8 L132.265 1370.8 M127.589 1366.96 L139.533 1366.96 Q144.881 1366.96 147.774 1369.18 Q150.668 1371.4 150.668 1375.5 Q150.668 1378.67 149.186 1380.55 Q147.705 1382.42 144.834 1382.88 Q148.283 1383.62 150.181 1385.99 Q152.103 1388.32 152.103 1391.84 Q152.103 1396.47 148.955 1399 Q145.806 1401.52 139.996 1401.52 L127.589 1401.52 L127.589 1366.96 Z\" fill=\"#000000\" fill-rule=\"evenodd\" fill-opacity=\"1\" /><path clip-path=\"url(#clip400)\" d=\"M182.103 1387.49 L182.103 1389.57 L162.519 1389.57 Q162.797 1393.97 165.158 1396.29 Q167.542 1398.58 171.779 1398.58 Q174.232 1398.58 176.524 1397.98 Q178.839 1397.37 181.107 1396.17 L181.107 1400.2 Q178.816 1401.17 176.408 1401.68 Q174.001 1402.19 171.524 1402.19 Q165.32 1402.19 161.686 1398.58 Q158.075 1394.97 158.075 1388.81 Q158.075 1382.44 161.501 1378.72 Q164.95 1374.97 170.783 1374.97 Q176.015 1374.97 179.047 1378.35 Q182.103 1381.7 182.103 1387.49 M177.843 1386.24 Q177.797 1382.75 175.876 1380.66 Q173.978 1378.58 170.829 1378.58 Q167.265 1378.58 165.112 1380.59 Q162.982 1382.61 162.658 1386.26 L177.843 1386.24 Z\" fill=\"#000000\" fill-rule=\"evenodd\" fill-opacity=\"1\" /><path clip-path=\"url(#clip400)\" d=\"M206.153 1379.53 L206.153 1365.5 L210.413 1365.5 L210.413 1401.52 L206.153 1401.52 L206.153 1397.63 Q204.811 1399.94 202.751 1401.08 Q200.714 1402.19 197.843 1402.19 Q193.144 1402.19 190.181 1398.44 Q187.241 1394.69 187.241 1388.58 Q187.241 1382.47 190.181 1378.72 Q193.144 1374.97 197.843 1374.97 Q200.714 1374.97 202.751 1376.1 Q204.811 1377.21 206.153 1379.53 M191.64 1388.58 Q191.64 1393.28 193.561 1395.96 Q195.505 1398.62 198.885 1398.62 Q202.264 1398.62 204.209 1395.96 Q206.153 1393.28 206.153 1388.58 Q206.153 1383.88 204.209 1381.22 Q202.264 1378.53 198.885 1378.53 Q195.505 1378.53 193.561 1381.22 Q191.64 1383.88 191.64 1388.58 Z\" fill=\"#000000\" fill-rule=\"evenodd\" fill-opacity=\"1\" /><path clip-path=\"url(#clip400)\" d=\"M234.209 1379.57 Q233.491 1379.16 232.635 1378.97 Q231.801 1378.76 230.783 1378.76 Q227.172 1378.76 225.227 1381.12 Q223.306 1383.46 223.306 1387.86 L223.306 1401.52 L219.024 1401.52 L219.024 1375.59 L223.306 1375.59 L223.306 1379.62 Q224.649 1377.26 226.801 1376.12 Q228.954 1374.97 232.033 1374.97 Q232.473 1374.97 233.005 1375.04 Q233.537 1375.08 234.186 1375.2 L234.209 1379.57 Z\" fill=\"#000000\" fill-rule=\"evenodd\" fill-opacity=\"1\" /><path clip-path=\"url(#clip400)\" d=\"M247.681 1378.58 Q244.255 1378.58 242.264 1381.26 Q240.274 1383.93 240.274 1388.58 Q240.274 1393.23 242.241 1395.92 Q244.232 1398.58 247.681 1398.58 Q251.084 1398.58 253.074 1395.89 Q255.065 1393.21 255.065 1388.58 Q255.065 1383.97 253.074 1381.29 Q251.084 1378.58 247.681 1378.58 M247.681 1374.97 Q253.236 1374.97 256.408 1378.58 Q259.579 1382.19 259.579 1388.58 Q259.579 1394.94 256.408 1398.58 Q253.236 1402.19 247.681 1402.19 Q242.102 1402.19 238.931 1398.58 Q235.783 1394.94 235.783 1388.58 Q235.783 1382.19 238.931 1378.58 Q242.102 1374.97 247.681 1374.97 Z\" fill=\"#000000\" fill-rule=\"evenodd\" fill-opacity=\"1\" /><path clip-path=\"url(#clip400)\" d=\"M276.685 1378.58 Q273.259 1378.58 271.269 1381.26 Q269.278 1383.93 269.278 1388.58 Q269.278 1393.23 271.246 1395.92 Q273.236 1398.58 276.685 1398.58 Q280.088 1398.58 282.079 1395.89 Q284.07 1393.21 284.07 1388.58 Q284.07 1383.97 282.079 1381.29 Q280.088 1378.58 276.685 1378.58 M276.685 1374.97 Q282.241 1374.97 285.412 1378.58 Q288.583 1382.19 288.583 1388.58 Q288.583 1394.94 285.412 1398.58 Q282.241 1402.19 276.685 1402.19 Q271.107 1402.19 267.935 1398.58 Q264.787 1394.94 264.787 1388.58 Q264.787 1382.19 267.935 1378.58 Q271.107 1374.97 276.685 1374.97 Z\" fill=\"#000000\" fill-rule=\"evenodd\" fill-opacity=\"1\" /><path clip-path=\"url(#clip400)\" d=\"M315.829 1380.57 Q317.426 1377.7 319.648 1376.33 Q321.87 1374.97 324.88 1374.97 Q328.93 1374.97 331.13 1377.81 Q333.329 1380.64 333.329 1385.87 L333.329 1401.52 L329.046 1401.52 L329.046 1386.01 Q329.046 1382.28 327.727 1380.48 Q326.407 1378.67 323.699 1378.67 Q320.389 1378.67 318.468 1380.87 Q316.546 1383.07 316.546 1386.87 L316.546 1401.52 L312.264 1401.52 L312.264 1386.01 Q312.264 1382.26 310.944 1380.48 Q309.625 1378.67 306.87 1378.67 Q303.607 1378.67 301.685 1380.89 Q299.764 1383.09 299.764 1386.87 L299.764 1401.52 L295.482 1401.52 L295.482 1375.59 L299.764 1375.59 L299.764 1379.62 Q301.222 1377.24 303.259 1376.1 Q305.296 1374.97 308.097 1374.97 Q310.921 1374.97 312.889 1376.4 Q314.88 1377.84 315.829 1380.57 Z\" fill=\"#000000\" fill-rule=\"evenodd\" fill-opacity=\"1\" /><path clip-path=\"url(#clip400)\" d=\"M50.9921 717.932 L55.668 717.932 L55.668 748.557 L72.4966 748.557 L72.4966 752.492 L50.9921 752.492 L50.9921 717.932 Z\" fill=\"#000000\" fill-rule=\"evenodd\" fill-opacity=\"1\" /><path clip-path=\"url(#clip400)\" d=\"M77.2188 726.566 L81.4781 726.566 L81.4781 752.492 L77.2188 752.492 L77.2188 726.566 M77.2188 716.474 L81.4781 716.474 L81.4781 721.867 L77.2188 721.867 L77.2188 716.474 Z\" fill=\"#000000\" fill-rule=\"evenodd\" fill-opacity=\"1\" /><path clip-path=\"url(#clip400)\" d=\"M87.3345 726.566 L91.8484 726.566 L99.9502 748.325 L108.052 726.566 L112.566 726.566 L102.844 752.492 L97.0567 752.492 L87.3345 726.566 Z\" fill=\"#000000\" fill-rule=\"evenodd\" fill-opacity=\"1\" /><path clip-path=\"url(#clip400)\" d=\"M118.445 726.566 L122.705 726.566 L122.705 752.492 L118.445 752.492 L118.445 726.566 M118.445 716.474 L122.705 716.474 L122.705 721.867 L118.445 721.867 L118.445 716.474 Z\" fill=\"#000000\" fill-rule=\"evenodd\" fill-opacity=\"1\" /><path clip-path=\"url(#clip400)\" d=\"M153.168 736.844 L153.168 752.492 L148.908 752.492 L148.908 736.983 Q148.908 733.302 147.473 731.474 Q146.038 729.645 143.168 729.645 Q139.719 729.645 137.728 731.844 Q135.737 734.043 135.737 737.839 L135.737 752.492 L131.455 752.492 L131.455 726.566 L135.737 726.566 L135.737 730.594 Q137.265 728.256 139.325 727.099 Q141.408 725.941 144.117 725.941 Q148.584 725.941 150.876 728.719 Q153.168 731.474 153.168 736.844 Z\" fill=\"#000000\" fill-rule=\"evenodd\" fill-opacity=\"1\" /><path clip-path=\"url(#clip400)\" d=\"M178.723 739.228 Q178.723 734.599 176.802 732.052 Q174.903 729.506 171.454 729.506 Q168.029 729.506 166.107 732.052 Q164.209 734.599 164.209 739.228 Q164.209 743.835 166.107 746.381 Q168.029 748.927 171.454 748.927 Q174.903 748.927 176.802 746.381 Q178.723 743.835 178.723 739.228 M182.982 749.274 Q182.982 755.895 180.042 759.112 Q177.103 762.353 171.038 762.353 Q168.792 762.353 166.802 762.006 Q164.811 761.682 162.936 760.987 L162.936 756.844 Q164.811 757.862 166.64 758.348 Q168.468 758.835 170.366 758.835 Q174.556 758.835 176.64 756.635 Q178.723 754.46 178.723 750.038 L178.723 747.932 Q177.403 750.223 175.343 751.358 Q173.283 752.492 170.413 752.492 Q165.644 752.492 162.728 748.858 Q159.811 745.223 159.811 739.228 Q159.811 733.21 162.728 729.575 Q165.644 725.941 170.413 725.941 Q173.283 725.941 175.343 727.075 Q177.403 728.21 178.723 730.501 L178.723 726.566 L182.982 726.566 L182.982 749.274 Z\" fill=\"#000000\" fill-rule=\"evenodd\" fill-opacity=\"1\" /><path clip-path=\"url(#clip400)\" d=\"M223.399 736.288 Q224.903 736.798 226.315 738.464 Q227.75 740.131 229.186 743.048 L233.931 752.492 L228.908 752.492 L224.487 743.626 Q222.774 740.154 221.153 739.02 Q219.556 737.886 216.778 737.886 L211.686 737.886 L211.686 752.492 L207.01 752.492 L207.01 717.932 L217.565 717.932 Q223.491 717.932 226.408 720.409 Q229.325 722.886 229.325 727.886 Q229.325 731.149 227.797 733.302 Q226.292 735.455 223.399 736.288 M211.686 721.775 L211.686 734.043 L217.565 734.043 Q220.945 734.043 222.658 732.492 Q224.394 730.918 224.394 727.886 Q224.394 724.853 222.658 723.325 Q220.945 721.775 217.565 721.775 L211.686 721.775 Z\" fill=\"#000000\" fill-rule=\"evenodd\" fill-opacity=\"1\" /><path clip-path=\"url(#clip400)\" d=\"M247.681 729.552 Q244.255 729.552 242.264 732.237 Q240.274 734.899 240.274 739.552 Q240.274 744.205 242.241 746.89 Q244.232 749.552 247.681 749.552 Q251.084 749.552 253.074 746.867 Q255.065 744.182 255.065 739.552 Q255.065 734.946 253.074 732.261 Q251.084 729.552 247.681 729.552 M247.681 725.941 Q253.236 725.941 256.408 729.552 Q259.579 733.163 259.579 739.552 Q259.579 745.918 256.408 749.552 Q253.236 753.163 247.681 753.163 Q242.102 753.163 238.931 749.552 Q235.783 745.918 235.783 739.552 Q235.783 733.163 238.931 729.552 Q242.102 725.941 247.681 725.941 Z\" fill=\"#000000\" fill-rule=\"evenodd\" fill-opacity=\"1\" /><path clip-path=\"url(#clip400)\" d=\"M276.685 729.552 Q273.259 729.552 271.269 732.237 Q269.278 734.899 269.278 739.552 Q269.278 744.205 271.246 746.89 Q273.236 749.552 276.685 749.552 Q280.088 749.552 282.079 746.867 Q284.07 744.182 284.07 739.552 Q284.07 734.946 282.079 732.261 Q280.088 729.552 276.685 729.552 M276.685 725.941 Q282.241 725.941 285.412 729.552 Q288.583 733.163 288.583 739.552 Q288.583 745.918 285.412 749.552 Q282.241 753.163 276.685 753.163 Q271.107 753.163 267.935 749.552 Q264.787 745.918 264.787 739.552 Q264.787 733.163 267.935 729.552 Q271.107 725.941 276.685 725.941 Z\" fill=\"#000000\" fill-rule=\"evenodd\" fill-opacity=\"1\" /><path clip-path=\"url(#clip400)\" d=\"M315.829 731.543 Q317.426 728.673 319.648 727.307 Q321.87 725.941 324.88 725.941 Q328.93 725.941 331.13 728.788 Q333.329 731.612 333.329 736.844 L333.329 752.492 L329.046 752.492 L329.046 736.983 Q329.046 733.256 327.727 731.45 Q326.407 729.645 323.699 729.645 Q320.389 729.645 318.468 731.844 Q316.546 734.043 316.546 737.839 L316.546 752.492 L312.264 752.492 L312.264 736.983 Q312.264 733.233 310.944 731.45 Q309.625 729.645 306.87 729.645 Q303.607 729.645 301.685 731.867 Q299.764 734.066 299.764 737.839 L299.764 752.492 L295.482 752.492 L295.482 726.566 L299.764 726.566 L299.764 730.594 Q301.222 728.21 303.259 727.075 Q305.296 725.941 308.097 725.941 Q310.921 725.941 312.889 727.376 Q314.88 728.812 315.829 731.543 Z\" fill=\"#000000\" fill-rule=\"evenodd\" fill-opacity=\"1\" /><path clip-path=\"url(#clip400)\" d=\"M113.839 86.9611 L113.839 99.6231 L121.339 99.6231 Q125.112 99.6231 126.918 98.0722 Q128.746 96.4981 128.746 93.2805 Q128.746 90.0398 126.918 88.512 Q125.112 86.9611 121.339 86.9611 L113.839 86.9611 M113.839 72.7482 L113.839 83.1649 L120.76 83.1649 Q124.186 83.1649 125.853 81.8917 Q127.543 80.5954 127.543 77.9565 Q127.543 75.3408 125.853 74.0445 Q124.186 72.7482 120.76 72.7482 L113.839 72.7482 M109.163 68.9057 L121.107 68.9057 Q126.455 68.9057 129.348 71.1279 Q132.242 73.3501 132.242 77.4473 Q132.242 80.6186 130.76 82.4936 Q129.279 84.3686 126.408 84.8315 Q129.857 85.5722 131.756 87.9333 Q133.677 90.2713 133.677 93.7898 Q133.677 98.4194 130.529 100.943 Q127.381 103.466 121.57 103.466 L109.163 103.466 L109.163 68.9057 Z\" fill=\"#000000\" fill-rule=\"evenodd\" fill-opacity=\"1\" /><path clip-path=\"url(#clip400)\" d=\"M153.283 90.4333 Q148.121 90.4333 146.131 91.6139 Q144.14 92.7944 144.14 95.6416 Q144.14 97.9101 145.621 99.2527 Q147.126 100.572 149.695 100.572 Q153.237 100.572 155.367 98.0722 Q157.519 95.549 157.519 91.3824 L157.519 90.4333 L153.283 90.4333 M161.779 88.6741 L161.779 103.466 L157.519 103.466 L157.519 99.5305 Q156.061 101.892 153.885 103.026 Q151.709 104.137 148.561 104.137 Q144.58 104.137 142.218 101.915 Q139.881 99.6694 139.881 95.9194 Q139.881 91.5444 142.797 89.3222 Q145.737 87.1 151.547 87.1 L157.519 87.1 L157.519 86.6834 Q157.519 83.7436 155.575 82.1463 Q153.654 80.526 150.158 80.526 Q147.936 80.526 145.83 81.0584 Q143.723 81.5908 141.779 82.6556 L141.779 78.7204 Q144.117 77.8177 146.316 77.3778 Q148.515 76.9149 150.598 76.9149 Q156.223 76.9149 159.001 79.8315 Q161.779 82.7482 161.779 88.6741 Z\" fill=\"#000000\" fill-rule=\"evenodd\" fill-opacity=\"1\" /><path clip-path=\"url(#clip400)\" d=\"M174.765 70.1788 L174.765 77.5399 L183.538 77.5399 L183.538 80.8501 L174.765 80.8501 L174.765 94.9241 Q174.765 98.0953 175.621 98.9981 Q176.501 99.9009 179.163 99.9009 L183.538 99.9009 L183.538 103.466 L179.163 103.466 Q174.232 103.466 172.357 101.637 Q170.482 99.7851 170.482 94.9241 L170.482 80.8501 L167.357 80.8501 L167.357 77.5399 L170.482 77.5399 L170.482 70.1788 L174.765 70.1788 Z\" fill=\"#000000\" fill-rule=\"evenodd\" fill-opacity=\"1\" /><path clip-path=\"url(#clip400)\" d=\"M210.69 87.8176 L210.69 103.466 L206.431 103.466 L206.431 87.9565 Q206.431 84.276 204.996 82.4473 Q203.561 80.6186 200.69 80.6186 Q197.241 80.6186 195.251 82.8176 Q193.26 85.0167 193.26 88.813 L193.26 103.466 L188.977 103.466 L188.977 67.4473 L193.26 67.4473 L193.26 81.5676 Q194.788 79.2297 196.848 78.0723 Q198.931 76.9149 201.639 76.9149 Q206.107 76.9149 208.399 79.6927 Q210.69 82.4473 210.69 87.8176 Z\" fill=\"#000000\" fill-rule=\"evenodd\" fill-opacity=\"1\" /><path clip-path=\"url(#clip400)\" d=\"M234.209 81.5213 Q233.491 81.1047 232.635 80.9195 Q231.801 80.7112 230.783 80.7112 Q227.172 80.7112 225.227 83.0723 Q223.306 85.4102 223.306 89.8083 L223.306 103.466 L219.024 103.466 L219.024 77.5399 L223.306 77.5399 L223.306 81.5676 Q224.649 79.2065 226.801 78.0723 Q228.954 76.9149 232.033 76.9149 Q232.473 76.9149 233.005 76.9843 Q233.537 77.0306 234.186 77.1464 L234.209 81.5213 Z\" fill=\"#000000\" fill-rule=\"evenodd\" fill-opacity=\"1\" /><path clip-path=\"url(#clip400)\" d=\"M247.681 80.526 Q244.255 80.526 242.264 83.2112 Q240.274 85.8732 240.274 90.5259 Q240.274 95.1787 242.241 97.8639 Q244.232 100.526 247.681 100.526 Q251.084 100.526 253.074 97.8407 Q255.065 95.1555 255.065 90.5259 Q255.065 85.9195 253.074 83.2343 Q251.084 80.526 247.681 80.526 M247.681 76.9149 Q253.236 76.9149 256.408 80.526 Q259.579 84.1371 259.579 90.5259 Q259.579 96.8916 256.408 100.526 Q253.236 104.137 247.681 104.137 Q242.102 104.137 238.931 100.526 Q235.783 96.8916 235.783 90.5259 Q235.783 84.1371 238.931 80.526 Q242.102 76.9149 247.681 76.9149 Z\" fill=\"#000000\" fill-rule=\"evenodd\" fill-opacity=\"1\" /><path clip-path=\"url(#clip400)\" d=\"M276.685 80.526 Q273.259 80.526 271.269 83.2112 Q269.278 85.8732 269.278 90.5259 Q269.278 95.1787 271.246 97.8639 Q273.236 100.526 276.685 100.526 Q280.088 100.526 282.079 97.8407 Q284.07 95.1555 284.07 90.5259 Q284.07 85.9195 282.079 83.2343 Q280.088 80.526 276.685 80.526 M276.685 76.9149 Q282.241 76.9149 285.412 80.526 Q288.583 84.1371 288.583 90.5259 Q288.583 96.8916 285.412 100.526 Q282.241 104.137 276.685 104.137 Q271.107 104.137 267.935 100.526 Q264.787 96.8916 264.787 90.5259 Q264.787 84.1371 267.935 80.526 Q271.107 76.9149 276.685 76.9149 Z\" fill=\"#000000\" fill-rule=\"evenodd\" fill-opacity=\"1\" /><path clip-path=\"url(#clip400)\" d=\"M315.829 82.5167 Q317.426 79.6464 319.648 78.2806 Q321.87 76.9149 324.88 76.9149 Q328.93 76.9149 331.13 79.7621 Q333.329 82.5862 333.329 87.8176 L333.329 103.466 L329.046 103.466 L329.046 87.9565 Q329.046 84.2297 327.727 82.4241 Q326.407 80.6186 323.699 80.6186 Q320.389 80.6186 318.468 82.8176 Q316.546 85.0167 316.546 88.813 L316.546 103.466 L312.264 103.466 L312.264 87.9565 Q312.264 84.2065 310.944 82.4241 Q309.625 80.6186 306.87 80.6186 Q303.607 80.6186 301.685 82.8408 Q299.764 85.0398 299.764 88.813 L299.764 103.466 L295.482 103.466 L295.482 77.5399 L299.764 77.5399 L299.764 81.5676 Q301.222 79.1834 303.259 78.0491 Q305.296 76.9149 308.097 76.9149 Q310.921 76.9149 312.889 78.3501 Q314.88 79.7852 315.829 82.5167 Z\" fill=\"#000000\" fill-rule=\"evenodd\" fill-opacity=\"1\" /><circle clip-path=\"url(#clip402)\" cx=\"425.463\" cy=\"1384.24\" r=\"14.4\" fill=\"#009af9\" fill-rule=\"evenodd\" fill-opacity=\"1\" stroke=\"#000000\" stroke-opacity=\"1\" stroke-width=\"3.2\"/>\n",
       "<circle clip-path=\"url(#clip402)\" cx=\"444.364\" cy=\"1384.24\" r=\"14.4\" fill=\"#009af9\" fill-rule=\"evenodd\" fill-opacity=\"1\" stroke=\"#000000\" stroke-opacity=\"1\" stroke-width=\"3.2\"/>\n",
       "<circle clip-path=\"url(#clip402)\" cx=\"463.264\" cy=\"86.1857\" r=\"14.4\" fill=\"#009af9\" fill-rule=\"evenodd\" fill-opacity=\"1\" stroke=\"#000000\" stroke-opacity=\"1\" stroke-width=\"3.2\"/>\n",
       "<circle clip-path=\"url(#clip402)\" cx=\"482.165\" cy=\"86.1857\" r=\"14.4\" fill=\"#009af9\" fill-rule=\"evenodd\" fill-opacity=\"1\" stroke=\"#000000\" stroke-opacity=\"1\" stroke-width=\"3.2\"/>\n",
       "<circle clip-path=\"url(#clip402)\" cx=\"501.066\" cy=\"86.1857\" r=\"14.4\" fill=\"#009af9\" fill-rule=\"evenodd\" fill-opacity=\"1\" stroke=\"#000000\" stroke-opacity=\"1\" stroke-width=\"3.2\"/>\n",
       "<circle clip-path=\"url(#clip402)\" cx=\"519.966\" cy=\"86.1857\" r=\"14.4\" fill=\"#009af9\" fill-rule=\"evenodd\" fill-opacity=\"1\" stroke=\"#000000\" stroke-opacity=\"1\" stroke-width=\"3.2\"/>\n",
       "<circle clip-path=\"url(#clip402)\" cx=\"538.867\" cy=\"86.1857\" r=\"14.4\" fill=\"#009af9\" fill-rule=\"evenodd\" fill-opacity=\"1\" stroke=\"#000000\" stroke-opacity=\"1\" stroke-width=\"3.2\"/>\n",
       "<circle clip-path=\"url(#clip402)\" cx=\"557.767\" cy=\"86.1857\" r=\"14.4\" fill=\"#009af9\" fill-rule=\"evenodd\" fill-opacity=\"1\" stroke=\"#000000\" stroke-opacity=\"1\" stroke-width=\"3.2\"/>\n",
       "<circle clip-path=\"url(#clip402)\" cx=\"576.668\" cy=\"86.1857\" r=\"14.4\" fill=\"#009af9\" fill-rule=\"evenodd\" fill-opacity=\"1\" stroke=\"#000000\" stroke-opacity=\"1\" stroke-width=\"3.2\"/>\n",
       "<circle clip-path=\"url(#clip402)\" cx=\"595.569\" cy=\"86.1857\" r=\"14.4\" fill=\"#009af9\" fill-rule=\"evenodd\" fill-opacity=\"1\" stroke=\"#000000\" stroke-opacity=\"1\" stroke-width=\"3.2\"/>\n",
       "<circle clip-path=\"url(#clip402)\" cx=\"614.469\" cy=\"86.1857\" r=\"14.4\" fill=\"#009af9\" fill-rule=\"evenodd\" fill-opacity=\"1\" stroke=\"#000000\" stroke-opacity=\"1\" stroke-width=\"3.2\"/>\n",
       "<circle clip-path=\"url(#clip402)\" cx=\"633.37\" cy=\"735.212\" r=\"14.4\" fill=\"#009af9\" fill-rule=\"evenodd\" fill-opacity=\"1\" stroke=\"#000000\" stroke-opacity=\"1\" stroke-width=\"3.2\"/>\n",
       "<circle clip-path=\"url(#clip402)\" cx=\"652.27\" cy=\"86.1857\" r=\"14.4\" fill=\"#009af9\" fill-rule=\"evenodd\" fill-opacity=\"1\" stroke=\"#000000\" stroke-opacity=\"1\" stroke-width=\"3.2\"/>\n",
       "<circle clip-path=\"url(#clip402)\" cx=\"671.171\" cy=\"86.1857\" r=\"14.4\" fill=\"#009af9\" fill-rule=\"evenodd\" fill-opacity=\"1\" stroke=\"#000000\" stroke-opacity=\"1\" stroke-width=\"3.2\"/>\n",
       "<circle clip-path=\"url(#clip402)\" cx=\"690.071\" cy=\"86.1857\" r=\"14.4\" fill=\"#009af9\" fill-rule=\"evenodd\" fill-opacity=\"1\" stroke=\"#000000\" stroke-opacity=\"1\" stroke-width=\"3.2\"/>\n",
       "<circle clip-path=\"url(#clip402)\" cx=\"708.972\" cy=\"735.212\" r=\"14.4\" fill=\"#009af9\" fill-rule=\"evenodd\" fill-opacity=\"1\" stroke=\"#000000\" stroke-opacity=\"1\" stroke-width=\"3.2\"/>\n",
       "<circle clip-path=\"url(#clip402)\" cx=\"727.873\" cy=\"735.212\" r=\"14.4\" fill=\"#009af9\" fill-rule=\"evenodd\" fill-opacity=\"1\" stroke=\"#000000\" stroke-opacity=\"1\" stroke-width=\"3.2\"/>\n",
       "<circle clip-path=\"url(#clip402)\" cx=\"746.773\" cy=\"735.212\" r=\"14.4\" fill=\"#009af9\" fill-rule=\"evenodd\" fill-opacity=\"1\" stroke=\"#000000\" stroke-opacity=\"1\" stroke-width=\"3.2\"/>\n",
       "<circle clip-path=\"url(#clip402)\" cx=\"765.674\" cy=\"735.212\" r=\"14.4\" fill=\"#009af9\" fill-rule=\"evenodd\" fill-opacity=\"1\" stroke=\"#000000\" stroke-opacity=\"1\" stroke-width=\"3.2\"/>\n",
       "<circle clip-path=\"url(#clip402)\" cx=\"784.574\" cy=\"735.212\" r=\"14.4\" fill=\"#009af9\" fill-rule=\"evenodd\" fill-opacity=\"1\" stroke=\"#000000\" stroke-opacity=\"1\" stroke-width=\"3.2\"/>\n",
       "<circle clip-path=\"url(#clip402)\" cx=\"803.475\" cy=\"735.212\" r=\"14.4\" fill=\"#009af9\" fill-rule=\"evenodd\" fill-opacity=\"1\" stroke=\"#000000\" stroke-opacity=\"1\" stroke-width=\"3.2\"/>\n",
       "<circle clip-path=\"url(#clip402)\" cx=\"822.376\" cy=\"735.212\" r=\"14.4\" fill=\"#009af9\" fill-rule=\"evenodd\" fill-opacity=\"1\" stroke=\"#000000\" stroke-opacity=\"1\" stroke-width=\"3.2\"/>\n",
       "<circle clip-path=\"url(#clip402)\" cx=\"841.276\" cy=\"735.212\" r=\"14.4\" fill=\"#009af9\" fill-rule=\"evenodd\" fill-opacity=\"1\" stroke=\"#000000\" stroke-opacity=\"1\" stroke-width=\"3.2\"/>\n",
       "<circle clip-path=\"url(#clip402)\" cx=\"860.177\" cy=\"735.212\" r=\"14.4\" fill=\"#009af9\" fill-rule=\"evenodd\" fill-opacity=\"1\" stroke=\"#000000\" stroke-opacity=\"1\" stroke-width=\"3.2\"/>\n",
       "<circle clip-path=\"url(#clip402)\" cx=\"879.077\" cy=\"86.1857\" r=\"14.4\" fill=\"#009af9\" fill-rule=\"evenodd\" fill-opacity=\"1\" stroke=\"#000000\" stroke-opacity=\"1\" stroke-width=\"3.2\"/>\n",
       "<circle clip-path=\"url(#clip402)\" cx=\"897.978\" cy=\"86.1857\" r=\"14.4\" fill=\"#009af9\" fill-rule=\"evenodd\" fill-opacity=\"1\" stroke=\"#000000\" stroke-opacity=\"1\" stroke-width=\"3.2\"/>\n",
       "<circle clip-path=\"url(#clip402)\" cx=\"916.879\" cy=\"86.1857\" r=\"14.4\" fill=\"#009af9\" fill-rule=\"evenodd\" fill-opacity=\"1\" stroke=\"#000000\" stroke-opacity=\"1\" stroke-width=\"3.2\"/>\n",
       "<circle clip-path=\"url(#clip402)\" cx=\"935.779\" cy=\"86.1857\" r=\"14.4\" fill=\"#009af9\" fill-rule=\"evenodd\" fill-opacity=\"1\" stroke=\"#000000\" stroke-opacity=\"1\" stroke-width=\"3.2\"/>\n",
       "<circle clip-path=\"url(#clip402)\" cx=\"954.68\" cy=\"86.1857\" r=\"14.4\" fill=\"#009af9\" fill-rule=\"evenodd\" fill-opacity=\"1\" stroke=\"#000000\" stroke-opacity=\"1\" stroke-width=\"3.2\"/>\n",
       "<circle clip-path=\"url(#clip402)\" cx=\"973.58\" cy=\"86.1857\" r=\"14.4\" fill=\"#009af9\" fill-rule=\"evenodd\" fill-opacity=\"1\" stroke=\"#000000\" stroke-opacity=\"1\" stroke-width=\"3.2\"/>\n",
       "<circle clip-path=\"url(#clip402)\" cx=\"992.481\" cy=\"86.1857\" r=\"14.4\" fill=\"#009af9\" fill-rule=\"evenodd\" fill-opacity=\"1\" stroke=\"#000000\" stroke-opacity=\"1\" stroke-width=\"3.2\"/>\n",
       "<circle clip-path=\"url(#clip402)\" cx=\"1011.38\" cy=\"86.1857\" r=\"14.4\" fill=\"#009af9\" fill-rule=\"evenodd\" fill-opacity=\"1\" stroke=\"#000000\" stroke-opacity=\"1\" stroke-width=\"3.2\"/>\n",
       "<circle clip-path=\"url(#clip402)\" cx=\"1030.28\" cy=\"86.1857\" r=\"14.4\" fill=\"#009af9\" fill-rule=\"evenodd\" fill-opacity=\"1\" stroke=\"#000000\" stroke-opacity=\"1\" stroke-width=\"3.2\"/>\n",
       "<circle clip-path=\"url(#clip402)\" cx=\"1049.18\" cy=\"86.1857\" r=\"14.4\" fill=\"#009af9\" fill-rule=\"evenodd\" fill-opacity=\"1\" stroke=\"#000000\" stroke-opacity=\"1\" stroke-width=\"3.2\"/>\n",
       "<circle clip-path=\"url(#clip402)\" cx=\"1068.08\" cy=\"86.1857\" r=\"14.4\" fill=\"#009af9\" fill-rule=\"evenodd\" fill-opacity=\"1\" stroke=\"#000000\" stroke-opacity=\"1\" stroke-width=\"3.2\"/>\n",
       "<circle clip-path=\"url(#clip402)\" cx=\"1086.98\" cy=\"735.212\" r=\"14.4\" fill=\"#009af9\" fill-rule=\"evenodd\" fill-opacity=\"1\" stroke=\"#000000\" stroke-opacity=\"1\" stroke-width=\"3.2\"/>\n",
       "<circle clip-path=\"url(#clip402)\" cx=\"1105.88\" cy=\"735.212\" r=\"14.4\" fill=\"#009af9\" fill-rule=\"evenodd\" fill-opacity=\"1\" stroke=\"#000000\" stroke-opacity=\"1\" stroke-width=\"3.2\"/>\n",
       "<circle clip-path=\"url(#clip402)\" cx=\"1124.78\" cy=\"735.212\" r=\"14.4\" fill=\"#009af9\" fill-rule=\"evenodd\" fill-opacity=\"1\" stroke=\"#000000\" stroke-opacity=\"1\" stroke-width=\"3.2\"/>\n",
       "<circle clip-path=\"url(#clip402)\" cx=\"1143.69\" cy=\"735.212\" r=\"14.4\" fill=\"#009af9\" fill-rule=\"evenodd\" fill-opacity=\"1\" stroke=\"#000000\" stroke-opacity=\"1\" stroke-width=\"3.2\"/>\n",
       "<circle clip-path=\"url(#clip402)\" cx=\"1162.59\" cy=\"735.212\" r=\"14.4\" fill=\"#009af9\" fill-rule=\"evenodd\" fill-opacity=\"1\" stroke=\"#000000\" stroke-opacity=\"1\" stroke-width=\"3.2\"/>\n",
       "<circle clip-path=\"url(#clip402)\" cx=\"1181.49\" cy=\"735.212\" r=\"14.4\" fill=\"#009af9\" fill-rule=\"evenodd\" fill-opacity=\"1\" stroke=\"#000000\" stroke-opacity=\"1\" stroke-width=\"3.2\"/>\n",
       "<circle clip-path=\"url(#clip402)\" cx=\"1200.39\" cy=\"735.212\" r=\"14.4\" fill=\"#009af9\" fill-rule=\"evenodd\" fill-opacity=\"1\" stroke=\"#000000\" stroke-opacity=\"1\" stroke-width=\"3.2\"/>\n",
       "<circle clip-path=\"url(#clip402)\" cx=\"1219.29\" cy=\"735.212\" r=\"14.4\" fill=\"#009af9\" fill-rule=\"evenodd\" fill-opacity=\"1\" stroke=\"#000000\" stroke-opacity=\"1\" stroke-width=\"3.2\"/>\n",
       "<circle clip-path=\"url(#clip402)\" cx=\"1238.19\" cy=\"735.212\" r=\"14.4\" fill=\"#009af9\" fill-rule=\"evenodd\" fill-opacity=\"1\" stroke=\"#000000\" stroke-opacity=\"1\" stroke-width=\"3.2\"/>\n",
       "<circle clip-path=\"url(#clip402)\" cx=\"1257.09\" cy=\"735.212\" r=\"14.4\" fill=\"#009af9\" fill-rule=\"evenodd\" fill-opacity=\"1\" stroke=\"#000000\" stroke-opacity=\"1\" stroke-width=\"3.2\"/>\n",
       "<circle clip-path=\"url(#clip402)\" cx=\"1275.99\" cy=\"735.212\" r=\"14.4\" fill=\"#009af9\" fill-rule=\"evenodd\" fill-opacity=\"1\" stroke=\"#000000\" stroke-opacity=\"1\" stroke-width=\"3.2\"/>\n",
       "<circle clip-path=\"url(#clip402)\" cx=\"1294.89\" cy=\"735.212\" r=\"14.4\" fill=\"#009af9\" fill-rule=\"evenodd\" fill-opacity=\"1\" stroke=\"#000000\" stroke-opacity=\"1\" stroke-width=\"3.2\"/>\n",
       "<circle clip-path=\"url(#clip402)\" cx=\"1313.79\" cy=\"735.212\" r=\"14.4\" fill=\"#009af9\" fill-rule=\"evenodd\" fill-opacity=\"1\" stroke=\"#000000\" stroke-opacity=\"1\" stroke-width=\"3.2\"/>\n",
       "<circle clip-path=\"url(#clip402)\" cx=\"1332.69\" cy=\"86.1857\" r=\"14.4\" fill=\"#009af9\" fill-rule=\"evenodd\" fill-opacity=\"1\" stroke=\"#000000\" stroke-opacity=\"1\" stroke-width=\"3.2\"/>\n",
       "<circle clip-path=\"url(#clip402)\" cx=\"1351.59\" cy=\"86.1857\" r=\"14.4\" fill=\"#009af9\" fill-rule=\"evenodd\" fill-opacity=\"1\" stroke=\"#000000\" stroke-opacity=\"1\" stroke-width=\"3.2\"/>\n",
       "<circle clip-path=\"url(#clip402)\" cx=\"1370.49\" cy=\"735.212\" r=\"14.4\" fill=\"#009af9\" fill-rule=\"evenodd\" fill-opacity=\"1\" stroke=\"#000000\" stroke-opacity=\"1\" stroke-width=\"3.2\"/>\n",
       "<circle clip-path=\"url(#clip402)\" cx=\"1389.39\" cy=\"735.212\" r=\"14.4\" fill=\"#009af9\" fill-rule=\"evenodd\" fill-opacity=\"1\" stroke=\"#000000\" stroke-opacity=\"1\" stroke-width=\"3.2\"/>\n",
       "<circle clip-path=\"url(#clip402)\" cx=\"1408.29\" cy=\"735.212\" r=\"14.4\" fill=\"#009af9\" fill-rule=\"evenodd\" fill-opacity=\"1\" stroke=\"#000000\" stroke-opacity=\"1\" stroke-width=\"3.2\"/>\n",
       "<circle clip-path=\"url(#clip402)\" cx=\"1427.19\" cy=\"735.212\" r=\"14.4\" fill=\"#009af9\" fill-rule=\"evenodd\" fill-opacity=\"1\" stroke=\"#000000\" stroke-opacity=\"1\" stroke-width=\"3.2\"/>\n",
       "<circle clip-path=\"url(#clip402)\" cx=\"1446.09\" cy=\"735.212\" r=\"14.4\" fill=\"#009af9\" fill-rule=\"evenodd\" fill-opacity=\"1\" stroke=\"#000000\" stroke-opacity=\"1\" stroke-width=\"3.2\"/>\n",
       "<circle clip-path=\"url(#clip402)\" cx=\"1465\" cy=\"735.212\" r=\"14.4\" fill=\"#009af9\" fill-rule=\"evenodd\" fill-opacity=\"1\" stroke=\"#000000\" stroke-opacity=\"1\" stroke-width=\"3.2\"/>\n",
       "<circle clip-path=\"url(#clip402)\" cx=\"1483.9\" cy=\"735.212\" r=\"14.4\" fill=\"#009af9\" fill-rule=\"evenodd\" fill-opacity=\"1\" stroke=\"#000000\" stroke-opacity=\"1\" stroke-width=\"3.2\"/>\n",
       "<circle clip-path=\"url(#clip402)\" cx=\"1502.8\" cy=\"735.212\" r=\"14.4\" fill=\"#009af9\" fill-rule=\"evenodd\" fill-opacity=\"1\" stroke=\"#000000\" stroke-opacity=\"1\" stroke-width=\"3.2\"/>\n",
       "<circle clip-path=\"url(#clip402)\" cx=\"1521.7\" cy=\"735.212\" r=\"14.4\" fill=\"#009af9\" fill-rule=\"evenodd\" fill-opacity=\"1\" stroke=\"#000000\" stroke-opacity=\"1\" stroke-width=\"3.2\"/>\n",
       "<circle clip-path=\"url(#clip402)\" cx=\"1540.6\" cy=\"86.1857\" r=\"14.4\" fill=\"#009af9\" fill-rule=\"evenodd\" fill-opacity=\"1\" stroke=\"#000000\" stroke-opacity=\"1\" stroke-width=\"3.2\"/>\n",
       "<circle clip-path=\"url(#clip402)\" cx=\"1559.5\" cy=\"86.1857\" r=\"14.4\" fill=\"#009af9\" fill-rule=\"evenodd\" fill-opacity=\"1\" stroke=\"#000000\" stroke-opacity=\"1\" stroke-width=\"3.2\"/>\n",
       "<circle clip-path=\"url(#clip402)\" cx=\"1578.4\" cy=\"86.1857\" r=\"14.4\" fill=\"#009af9\" fill-rule=\"evenodd\" fill-opacity=\"1\" stroke=\"#000000\" stroke-opacity=\"1\" stroke-width=\"3.2\"/>\n",
       "<circle clip-path=\"url(#clip402)\" cx=\"1597.3\" cy=\"86.1857\" r=\"14.4\" fill=\"#009af9\" fill-rule=\"evenodd\" fill-opacity=\"1\" stroke=\"#000000\" stroke-opacity=\"1\" stroke-width=\"3.2\"/>\n",
       "<circle clip-path=\"url(#clip402)\" cx=\"1616.2\" cy=\"1384.24\" r=\"14.4\" fill=\"#009af9\" fill-rule=\"evenodd\" fill-opacity=\"1\" stroke=\"#000000\" stroke-opacity=\"1\" stroke-width=\"3.2\"/>\n",
       "<circle clip-path=\"url(#clip402)\" cx=\"1635.1\" cy=\"1384.24\" r=\"14.4\" fill=\"#009af9\" fill-rule=\"evenodd\" fill-opacity=\"1\" stroke=\"#000000\" stroke-opacity=\"1\" stroke-width=\"3.2\"/>\n",
       "<circle clip-path=\"url(#clip402)\" cx=\"1654\" cy=\"1384.24\" r=\"14.4\" fill=\"#009af9\" fill-rule=\"evenodd\" fill-opacity=\"1\" stroke=\"#000000\" stroke-opacity=\"1\" stroke-width=\"3.2\"/>\n",
       "<circle clip-path=\"url(#clip402)\" cx=\"1672.9\" cy=\"1384.24\" r=\"14.4\" fill=\"#009af9\" fill-rule=\"evenodd\" fill-opacity=\"1\" stroke=\"#000000\" stroke-opacity=\"1\" stroke-width=\"3.2\"/>\n",
       "<circle clip-path=\"url(#clip402)\" cx=\"1691.8\" cy=\"1384.24\" r=\"14.4\" fill=\"#009af9\" fill-rule=\"evenodd\" fill-opacity=\"1\" stroke=\"#000000\" stroke-opacity=\"1\" stroke-width=\"3.2\"/>\n",
       "<circle clip-path=\"url(#clip402)\" cx=\"1710.7\" cy=\"1384.24\" r=\"14.4\" fill=\"#009af9\" fill-rule=\"evenodd\" fill-opacity=\"1\" stroke=\"#000000\" stroke-opacity=\"1\" stroke-width=\"3.2\"/>\n",
       "<circle clip-path=\"url(#clip402)\" cx=\"1729.6\" cy=\"1384.24\" r=\"14.4\" fill=\"#009af9\" fill-rule=\"evenodd\" fill-opacity=\"1\" stroke=\"#000000\" stroke-opacity=\"1\" stroke-width=\"3.2\"/>\n",
       "<circle clip-path=\"url(#clip402)\" cx=\"1748.5\" cy=\"1384.24\" r=\"14.4\" fill=\"#009af9\" fill-rule=\"evenodd\" fill-opacity=\"1\" stroke=\"#000000\" stroke-opacity=\"1\" stroke-width=\"3.2\"/>\n",
       "<circle clip-path=\"url(#clip402)\" cx=\"1767.4\" cy=\"1384.24\" r=\"14.4\" fill=\"#009af9\" fill-rule=\"evenodd\" fill-opacity=\"1\" stroke=\"#000000\" stroke-opacity=\"1\" stroke-width=\"3.2\"/>\n",
       "<circle clip-path=\"url(#clip402)\" cx=\"1786.31\" cy=\"1384.24\" r=\"14.4\" fill=\"#009af9\" fill-rule=\"evenodd\" fill-opacity=\"1\" stroke=\"#000000\" stroke-opacity=\"1\" stroke-width=\"3.2\"/>\n",
       "<circle clip-path=\"url(#clip402)\" cx=\"1805.21\" cy=\"1384.24\" r=\"14.4\" fill=\"#009af9\" fill-rule=\"evenodd\" fill-opacity=\"1\" stroke=\"#000000\" stroke-opacity=\"1\" stroke-width=\"3.2\"/>\n",
       "<circle clip-path=\"url(#clip402)\" cx=\"1824.11\" cy=\"1384.24\" r=\"14.4\" fill=\"#009af9\" fill-rule=\"evenodd\" fill-opacity=\"1\" stroke=\"#000000\" stroke-opacity=\"1\" stroke-width=\"3.2\"/>\n",
       "<circle clip-path=\"url(#clip402)\" cx=\"1843.01\" cy=\"1384.24\" r=\"14.4\" fill=\"#009af9\" fill-rule=\"evenodd\" fill-opacity=\"1\" stroke=\"#000000\" stroke-opacity=\"1\" stroke-width=\"3.2\"/>\n",
       "<circle clip-path=\"url(#clip402)\" cx=\"1861.91\" cy=\"1384.24\" r=\"14.4\" fill=\"#009af9\" fill-rule=\"evenodd\" fill-opacity=\"1\" stroke=\"#000000\" stroke-opacity=\"1\" stroke-width=\"3.2\"/>\n",
       "<circle clip-path=\"url(#clip402)\" cx=\"1880.81\" cy=\"1384.24\" r=\"14.4\" fill=\"#009af9\" fill-rule=\"evenodd\" fill-opacity=\"1\" stroke=\"#000000\" stroke-opacity=\"1\" stroke-width=\"3.2\"/>\n",
       "<circle clip-path=\"url(#clip402)\" cx=\"1899.71\" cy=\"1384.24\" r=\"14.4\" fill=\"#009af9\" fill-rule=\"evenodd\" fill-opacity=\"1\" stroke=\"#000000\" stroke-opacity=\"1\" stroke-width=\"3.2\"/>\n",
       "<circle clip-path=\"url(#clip402)\" cx=\"1918.61\" cy=\"1384.24\" r=\"14.4\" fill=\"#009af9\" fill-rule=\"evenodd\" fill-opacity=\"1\" stroke=\"#000000\" stroke-opacity=\"1\" stroke-width=\"3.2\"/>\n",
       "<circle clip-path=\"url(#clip402)\" cx=\"1937.51\" cy=\"1384.24\" r=\"14.4\" fill=\"#009af9\" fill-rule=\"evenodd\" fill-opacity=\"1\" stroke=\"#000000\" stroke-opacity=\"1\" stroke-width=\"3.2\"/>\n",
       "<circle clip-path=\"url(#clip402)\" cx=\"1956.41\" cy=\"1384.24\" r=\"14.4\" fill=\"#009af9\" fill-rule=\"evenodd\" fill-opacity=\"1\" stroke=\"#000000\" stroke-opacity=\"1\" stroke-width=\"3.2\"/>\n",
       "<circle clip-path=\"url(#clip402)\" cx=\"1975.31\" cy=\"1384.24\" r=\"14.4\" fill=\"#009af9\" fill-rule=\"evenodd\" fill-opacity=\"1\" stroke=\"#000000\" stroke-opacity=\"1\" stroke-width=\"3.2\"/>\n",
       "<circle clip-path=\"url(#clip402)\" cx=\"1994.21\" cy=\"1384.24\" r=\"14.4\" fill=\"#009af9\" fill-rule=\"evenodd\" fill-opacity=\"1\" stroke=\"#000000\" stroke-opacity=\"1\" stroke-width=\"3.2\"/>\n",
       "<circle clip-path=\"url(#clip402)\" cx=\"2013.11\" cy=\"1384.24\" r=\"14.4\" fill=\"#009af9\" fill-rule=\"evenodd\" fill-opacity=\"1\" stroke=\"#000000\" stroke-opacity=\"1\" stroke-width=\"3.2\"/>\n",
       "<circle clip-path=\"url(#clip402)\" cx=\"2032.01\" cy=\"1384.24\" r=\"14.4\" fill=\"#009af9\" fill-rule=\"evenodd\" fill-opacity=\"1\" stroke=\"#000000\" stroke-opacity=\"1\" stroke-width=\"3.2\"/>\n",
       "<circle clip-path=\"url(#clip402)\" cx=\"2050.91\" cy=\"1384.24\" r=\"14.4\" fill=\"#009af9\" fill-rule=\"evenodd\" fill-opacity=\"1\" stroke=\"#000000\" stroke-opacity=\"1\" stroke-width=\"3.2\"/>\n",
       "<circle clip-path=\"url(#clip402)\" cx=\"2069.81\" cy=\"1384.24\" r=\"14.4\" fill=\"#009af9\" fill-rule=\"evenodd\" fill-opacity=\"1\" stroke=\"#000000\" stroke-opacity=\"1\" stroke-width=\"3.2\"/>\n",
       "<circle clip-path=\"url(#clip402)\" cx=\"2088.71\" cy=\"1384.24\" r=\"14.4\" fill=\"#009af9\" fill-rule=\"evenodd\" fill-opacity=\"1\" stroke=\"#000000\" stroke-opacity=\"1\" stroke-width=\"3.2\"/>\n",
       "<circle clip-path=\"url(#clip402)\" cx=\"2107.62\" cy=\"1384.24\" r=\"14.4\" fill=\"#009af9\" fill-rule=\"evenodd\" fill-opacity=\"1\" stroke=\"#000000\" stroke-opacity=\"1\" stroke-width=\"3.2\"/>\n",
       "<circle clip-path=\"url(#clip402)\" cx=\"2126.52\" cy=\"86.1857\" r=\"14.4\" fill=\"#009af9\" fill-rule=\"evenodd\" fill-opacity=\"1\" stroke=\"#000000\" stroke-opacity=\"1\" stroke-width=\"3.2\"/>\n",
       "<circle clip-path=\"url(#clip402)\" cx=\"2145.42\" cy=\"86.1857\" r=\"14.4\" fill=\"#009af9\" fill-rule=\"evenodd\" fill-opacity=\"1\" stroke=\"#000000\" stroke-opacity=\"1\" stroke-width=\"3.2\"/>\n",
       "<circle clip-path=\"url(#clip402)\" cx=\"2164.32\" cy=\"86.1857\" r=\"14.4\" fill=\"#009af9\" fill-rule=\"evenodd\" fill-opacity=\"1\" stroke=\"#000000\" stroke-opacity=\"1\" stroke-width=\"3.2\"/>\n",
       "<circle clip-path=\"url(#clip402)\" cx=\"2183.22\" cy=\"86.1857\" r=\"14.4\" fill=\"#009af9\" fill-rule=\"evenodd\" fill-opacity=\"1\" stroke=\"#000000\" stroke-opacity=\"1\" stroke-width=\"3.2\"/>\n",
       "<circle clip-path=\"url(#clip402)\" cx=\"2202.12\" cy=\"86.1857\" r=\"14.4\" fill=\"#009af9\" fill-rule=\"evenodd\" fill-opacity=\"1\" stroke=\"#000000\" stroke-opacity=\"1\" stroke-width=\"3.2\"/>\n",
       "<circle clip-path=\"url(#clip402)\" cx=\"2221.02\" cy=\"86.1857\" r=\"14.4\" fill=\"#009af9\" fill-rule=\"evenodd\" fill-opacity=\"1\" stroke=\"#000000\" stroke-opacity=\"1\" stroke-width=\"3.2\"/>\n",
       "<circle clip-path=\"url(#clip402)\" cx=\"2239.92\" cy=\"86.1857\" r=\"14.4\" fill=\"#009af9\" fill-rule=\"evenodd\" fill-opacity=\"1\" stroke=\"#000000\" stroke-opacity=\"1\" stroke-width=\"3.2\"/>\n",
       "<circle clip-path=\"url(#clip402)\" cx=\"2258.82\" cy=\"86.1857\" r=\"14.4\" fill=\"#009af9\" fill-rule=\"evenodd\" fill-opacity=\"1\" stroke=\"#000000\" stroke-opacity=\"1\" stroke-width=\"3.2\"/>\n",
       "<circle clip-path=\"url(#clip402)\" cx=\"2277.72\" cy=\"86.1857\" r=\"14.4\" fill=\"#009af9\" fill-rule=\"evenodd\" fill-opacity=\"1\" stroke=\"#000000\" stroke-opacity=\"1\" stroke-width=\"3.2\"/>\n",
       "<circle clip-path=\"url(#clip402)\" cx=\"2296.62\" cy=\"86.1857\" r=\"14.4\" fill=\"#009af9\" fill-rule=\"evenodd\" fill-opacity=\"1\" stroke=\"#000000\" stroke-opacity=\"1\" stroke-width=\"3.2\"/>\n",
       "</svg>\n"
      ]
     },
     "execution_count": 29,
     "metadata": {},
     "output_type": "execute_result"
    }
   ],
   "source": [
    "# Test data\n",
    "N = 100\n",
    "x_data, s_data = generate_data(N);\n",
    "\n",
    "scatter(argmax.(s_data), leg=false, xlabel=\"Time\",yticks= ([1,2,3],[\"Bedroom\",\"Living Room\",\"Bathroom\"]))"
   ]
  },
  {
   "cell_type": "markdown",
   "metadata": {},
   "source": [
    "Now it is time to build our model. As mentioned earlier, we will use Categorical distributions for the states and observations. To learn the $A$ and $B$ matrices we can use `MatrixDirichlet` priors. For the $A$-matrix, since we have no apriori idea how the roomba is actually going to move, we will assume that it stays in the same room. We can represent this by adding ones on the diagonal of our `MatrixDirichlet` prior on $A$ and zeros everywhere else. Remember that this will get updated once we start learning, so it's fine if our initial guess is not quite accurate.\n",
    "As for the observations, we have good reason to trust our Roomba's measurements. To represent this, we will add large values to the diagonal of our prior on $B$. However, we also acknowledge that the Roomba is not infallible, so we will add some noise on the off-diagonal entries.\n",
    "\n",
    "Since we will use Variational Inference, we also have to specify inference constraints. We will use a structured variational approximation to the true posterior distribution, where we decouple the variational posterior over the states (`q(s_0, s)`) from the posteriors over the transition matrices (`q(A)` and `q(B)`). This dependency decoupling in the approximate posterior distribution ensures that inference is tractable. Let's build the model!"
   ]
  },
  {
   "cell_type": "code",
   "execution_count": 32,
   "metadata": {},
   "outputs": [
    {
     "data": {
      "text/plain": [
       "hidden_markov_model_constraints (generic function with 1 method)"
      ]
     },
     "execution_count": 32,
     "metadata": {},
     "output_type": "execute_result"
    }
   ],
   "source": [
    "# Model specification\n",
    "@model function hidden_markov_model(n)\n",
    "    \n",
    "    A ~ MatrixDirichlet(diageye(3)) # This handy function creates a matrix ones on the diagonal and 0's everywhere else\n",
    "    B ~ MatrixDirichlet([ 10.0 1.0 1.0; \n",
    "                                            1.0 10.0 1.0; \n",
    "                                            1.0 1.0 10.0 ])\n",
    "    \n",
    "    s_0 ~ Categorical(fill(1.0 / 3.0, 3))\n",
    "    \n",
    "    s = randomvar(n)\n",
    "    x = datavar(Vector{Float64}, n)\n",
    "    \n",
    "    s_prev = s_0\n",
    "    \n",
    "    for t in 1:n\n",
    "        s[t] ~ Transition(s_prev, A) \n",
    "        x[t] ~ Transition(s[t], B)\n",
    "        s_prev = s[t]\n",
    "    end\n",
    "    \n",
    "end\n",
    "\n",
    "# Constraints specification\n",
    "@constraints function hidden_markov_model_constraints()\n",
    "    q(s_0, s, A, B) = q(s_0, s)q(A)q(B)\n",
    "end"
   ]
  },
  {
   "cell_type": "markdown",
   "metadata": {},
   "source": [
    "Now it's time to perform inference and find out where the Roomba went in our absence. Did it remember to clean the bathroom?\n",
    "\n",
    "We'll be using Variational Inference to perform inference, which means we need to set some initial marginals as a starting point. RxInfer makes this easy with the `vague` function, which provides an uninformative guess. If you have better ideas, you can try a different initial guess and see what happens.\n",
    "\n",
    "Since we're only interested in the final result - the best guess about the Roomba's position - we'll only keep the last results. Let's start the inference process!"
   ]
  },
  {
   "cell_type": "code",
   "execution_count": 37,
   "metadata": {},
   "outputs": [
    {
     "ename": "LoadError",
     "evalue": "MethodError: no method matching activate!(::DataVariable{PointMass{Vector{Float64}}, Rocket.RecentSubjectInstance{Message{PointMass{Vector{Float64}}}, Subject{Message{PointMass{Vector{Float64}}}, AsapScheduler, AsapScheduler}}}, ::RxInfer.ModelInferenceOptions{Nothing, Nothing, Nothing})\n\u001b[0mClosest candidates are:\n\u001b[0m  activate!(\u001b[91m::DeltaFnNode\u001b[39m, ::Any) at ~/.config/julia/packages/ReactiveMP/pK1sJ/src/nodes/delta/delta.jl:150\n\u001b[0m  activate!(\u001b[91m::ReactiveMP.AbstractFactorNode\u001b[39m, ::Any) at ~/.config/julia/packages/ReactiveMP/pK1sJ/src/node.jl:846\n\u001b[0m  activate!(\u001b[91m::MetaSpecification\u001b[39m, ::Any, \u001b[91m::Any\u001b[39m) at ~/.config/julia/packages/ReactiveMP/pK1sJ/src/constraints/specifications/meta.jl:107\n\u001b[0m  ...",
     "output_type": "error",
     "traceback": [
      "MethodError: no method matching activate!(::DataVariable{PointMass{Vector{Float64}}, Rocket.RecentSubjectInstance{Message{PointMass{Vector{Float64}}}, Subject{Message{PointMass{Vector{Float64}}}, AsapScheduler, AsapScheduler}}}, ::RxInfer.ModelInferenceOptions{Nothing, Nothing, Nothing})\n\u001b[0mClosest candidates are:\n\u001b[0m  activate!(\u001b[91m::DeltaFnNode\u001b[39m, ::Any) at ~/.config/julia/packages/ReactiveMP/pK1sJ/src/nodes/delta/delta.jl:150\n\u001b[0m  activate!(\u001b[91m::ReactiveMP.AbstractFactorNode\u001b[39m, ::Any) at ~/.config/julia/packages/ReactiveMP/pK1sJ/src/node.jl:846\n\u001b[0m  activate!(\u001b[91m::MetaSpecification\u001b[39m, ::Any, \u001b[91m::Any\u001b[39m) at ~/.config/julia/packages/ReactiveMP/pK1sJ/src/constraints/specifications/meta.jl:107\n\u001b[0m  ...",
      "",
      "Stacktrace:",
      " [1] (::RxInfer.var\"#91#97\"{RxInfer.ModelInferenceOptions{Nothing, Nothing, Nothing}})(d::DataVariable{PointMass{Vector{Float64}}, Rocket.RecentSubjectInstance{Message{PointMass{Vector{Float64}}}, Subject{Message{PointMass{Vector{Float64}}}, AsapScheduler, AsapScheduler}}})",
      "   @ RxInfer ~/.config/julia/packages/RxInfer/CjJdi/src/model.jl:183",
      " [2] foreach",
      "   @ ./abstractarray.jl:2774 [inlined]",
      " [3] activate!(model::FactorGraphModel)",
      "   @ RxInfer ~/.config/julia/packages/RxInfer/CjJdi/src/model.jl:183",
      " [4] #create_model#100",
      "   @ ~/.config/julia/packages/RxInfer/CjJdi/src/model.jl:268 [inlined]",
      " [5] inference(; model::RxInfer.ModelGenerator{var\"###hidden_markov_model#384\", Tuple{Int64}, NamedTuple{(), Tuple{}}}, data::Vector{Vector{Float64}}, initmarginals::NamedTuple{(:A, :B, :s), Tuple{MatrixDirichlet{Float64, Matrix{Float64}}, MatrixDirichlet{Float64, Matrix{Float64}}, Categorical{Float64, Vector{Float64}}}}, initmessages::Nothing, constraints::ConstraintsSpecification{Tuple{ReactiveMP.FactorisationConstraintsSpecification{(:s_0, :s, :A, :B), (q(s_0, s), q(A), q(B))}}, NamedTuple{(), Tuple{}}, NamedTuple{(), Tuple{}}}, meta::Nothing, options::Nothing, returnvars::NamedTuple{(:A, :B, :s), Tuple{KeepLast, KeepLast, KeepLast}}, predictvars::Nothing, iterations::Int64, free_energy::Bool, free_energy_diagnostics::Tuple{BetheFreeEnergyCheckNaNs, BetheFreeEnergyCheckInfs}, showprogress::Bool, callbacks::Nothing, addons::Nothing, postprocess::DefaultPostprocess, warn::Bool)",
      "   @ RxInfer ~/.config/julia/packages/RxInfer/CjJdi/src/inference.jl:543",
      " [6] top-level scope",
      "   @ In[37]:17",
      " [7] eval",
      "   @ ./boot.jl:368 [inlined]",
      " [8] include_string(mapexpr::typeof(REPL.softscope), mod::Module, code::String, filename::String)",
      "   @ Base ./loading.jl:1428"
     ]
    }
   ],
   "source": [
    "idata = (x = x_data, )\n",
    "\n",
    "imodel = hidden_markov_model(N)\n",
    "\n",
    "imarginals = (\n",
    "    A = vague(MatrixDirichlet, 3, 3), \n",
    "    B = vague(MatrixDirichlet, 3, 3), \n",
    "    s = vague(Categorical, 3)\n",
    ")\n",
    "\n",
    "ireturnvars = (\n",
    "    A = KeepLast(),\n",
    "    B = KeepLast(),\n",
    "    s = KeepLast()\n",
    ")\n",
    "\n",
    "result = inference(\n",
    "    model         = imodel, \n",
    "    data          = (x = x_data),\n",
    "    constraints   = hidden_markov_model_constraints(),\n",
    "    initmarginals = imarginals, \n",
    "    returnvars    = ireturnvars, \n",
    "    iterations    = 20, \n",
    "    free_energy   = true\n",
    ");"
   ]
  },
  {
   "cell_type": "markdown",
   "metadata": {},
   "source": [
    "That was fast! Let's take a look at our results. If we're successful, we should have a good idea about the actual layout of the apartment (a good posterior marginal over $A$) and about the uncertainty in the roombas observations (A good posterior over $B$). Let's see if it worked"
   ]
  },
  {
   "cell_type": "code",
   "execution_count": 34,
   "metadata": {},
   "outputs": [
    {
     "ename": "LoadError",
     "evalue": "UndefVarError: result not defined",
     "output_type": "error",
     "traceback": [
      "UndefVarError: result not defined",
      "",
      "Stacktrace:",
      " [1] top-level scope",
      "   @ In[34]:1",
      " [2] eval",
      "   @ ./boot.jl:368 [inlined]",
      " [3] include_string(mapexpr::typeof(REPL.softscope), mod::Module, code::String, filename::String)",
      "   @ Base ./loading.jl:1428"
     ]
    }
   ],
   "source": [
    "mean(result.posteriors[:A])"
   ]
  },
  {
   "cell_type": "code",
   "execution_count": 8,
   "metadata": {},
   "outputs": [
    {
     "ename": "LoadError",
     "evalue": "UndefVarError: result not defined",
     "output_type": "error",
     "traceback": [
      "UndefVarError: result not defined",
      "",
      "Stacktrace:",
      " [1] top-level scope",
      "   @ In[8]:1",
      " [2] eval",
      "   @ ./boot.jl:368 [inlined]",
      " [3] include_string(mapexpr::typeof(REPL.softscope), mod::Module, code::String, filename::String)",
      "   @ Base ./loading.jl:1428"
     ]
    }
   ],
   "source": [
    "mean(result.posteriors[:B])"
   ]
  },
  {
   "cell_type": "markdown",
   "metadata": {},
   "source": [
    "Finally, we can check if we were successful in keeping tabs on our Roomba's whereabouts. We can also check if our model has converged by looking at the Free Energy. \n"
   ]
  },
  {
   "cell_type": "code",
   "execution_count": 9,
   "metadata": {},
   "outputs": [
    {
     "ename": "LoadError",
     "evalue": "UndefVarError: result not defined",
     "output_type": "error",
     "traceback": [
      "UndefVarError: result not defined",
      "",
      "Stacktrace:",
      " [1] top-level scope",
      "   @ In[9]:2",
      " [2] eval",
      "   @ ./boot.jl:368 [inlined]",
      " [3] include_string(mapexpr::typeof(REPL.softscope), mod::Module, code::String, filename::String)",
      "   @ Base ./loading.jl:1428"
     ]
    }
   ],
   "source": [
    "p1 = scatter(argmax.(s_data), title=\"Inference results\", label = \"real\", ms = 6)\n",
    "p1 = scatter!(p1, argmax.(ReactiveMP.probvec.(result.posteriors[:s])), label = \"inferred\", ms = 2)\n",
    "p2 = plot(result.free_energy, label=\"Free energy\")\n",
    "\n",
    "plot(p1, p2, layout = @layout([ a; b ]))"
   ]
  },
  {
   "cell_type": "markdown",
   "metadata": {},
   "source": [
    "Neat! Now you know how to track a Roomba if you ever need to. You also learned how to fit a Hidden Markov Model using `RxInfer`. Let's end by seeing some benchmarks to check how fast `RxInfer` really is.\n"
   ]
  },
  {
   "cell_type": "markdown",
   "metadata": {},
   "source": [
    "# Benchmark timings"
   ]
  },
  {
   "cell_type": "code",
   "execution_count": 10,
   "metadata": {},
   "outputs": [
    {
     "ename": "LoadError",
     "evalue": "MethodError: no method matching activate!(::DataVariable{PointMass{Vector{Float64}}, Rocket.RecentSubjectInstance{Message{PointMass{Vector{Float64}}}, Subject{Message{PointMass{Vector{Float64}}}, AsapScheduler, AsapScheduler}}}, ::RxInfer.ModelInferenceOptions{Nothing, Nothing, Nothing})\n\u001b[0mClosest candidates are:\n\u001b[0m  activate!(\u001b[91m::DeltaFnNode\u001b[39m, ::Any) at ~/.config/julia/packages/ReactiveMP/pK1sJ/src/nodes/delta/delta.jl:150\n\u001b[0m  activate!(\u001b[91m::ReactiveMP.AbstractFactorNode\u001b[39m, ::Any) at ~/.config/julia/packages/ReactiveMP/pK1sJ/src/node.jl:846\n\u001b[0m  activate!(\u001b[91m::MetaSpecification\u001b[39m, ::Any, \u001b[91m::Any\u001b[39m) at ~/.config/julia/packages/ReactiveMP/pK1sJ/src/constraints/specifications/meta.jl:107\n\u001b[0m  ...",
     "output_type": "error",
     "traceback": [
      "MethodError: no method matching activate!(::DataVariable{PointMass{Vector{Float64}}, Rocket.RecentSubjectInstance{Message{PointMass{Vector{Float64}}}, Subject{Message{PointMass{Vector{Float64}}}, AsapScheduler, AsapScheduler}}}, ::RxInfer.ModelInferenceOptions{Nothing, Nothing, Nothing})\n\u001b[0mClosest candidates are:\n\u001b[0m  activate!(\u001b[91m::DeltaFnNode\u001b[39m, ::Any) at ~/.config/julia/packages/ReactiveMP/pK1sJ/src/nodes/delta/delta.jl:150\n\u001b[0m  activate!(\u001b[91m::ReactiveMP.AbstractFactorNode\u001b[39m, ::Any) at ~/.config/julia/packages/ReactiveMP/pK1sJ/src/node.jl:846\n\u001b[0m  activate!(\u001b[91m::MetaSpecification\u001b[39m, ::Any, \u001b[91m::Any\u001b[39m) at ~/.config/julia/packages/ReactiveMP/pK1sJ/src/constraints/specifications/meta.jl:107\n\u001b[0m  ...",
      "",
      "Stacktrace:",
      "  [1] (::RxInfer.var\"#91#97\"{RxInfer.ModelInferenceOptions{Nothing, Nothing, Nothing}})(d::DataVariable{PointMass{Vector{Float64}}, Rocket.RecentSubjectInstance{Message{PointMass{Vector{Float64}}}, Subject{Message{PointMass{Vector{Float64}}}, AsapScheduler, AsapScheduler}}})",
      "    @ RxInfer ~/.config/julia/packages/RxInfer/CjJdi/src/model.jl:183",
      "  [2] foreach",
      "    @ ./abstractarray.jl:2774 [inlined]",
      "  [3] activate!(model::FactorGraphModel)",
      "    @ RxInfer ~/.config/julia/packages/RxInfer/CjJdi/src/model.jl:183",
      "  [4] #create_model#100",
      "    @ ~/.config/julia/packages/RxInfer/CjJdi/src/model.jl:268 [inlined]",
      "  [5] inference(; model::RxInfer.ModelGenerator{var\"###hidden_markov_model#328\", Tuple{Int64}, NamedTuple{(), Tuple{}}}, data::NamedTuple{(:x,), Tuple{Vector{Vector{Float64}}}}, initmarginals::NamedTuple{(:A, :B, :s), Tuple{MatrixDirichlet{Float64, Matrix{Float64}}, MatrixDirichlet{Float64, Matrix{Float64}}, Categorical{Float64, Vector{Float64}}}}, initmessages::Nothing, constraints::ConstraintsSpecification{Tuple{ReactiveMP.FactorisationConstraintsSpecification{(:s_0, :s, :A, :B), (q(s_0, s), q(A), q(B))}}, NamedTuple{(), Tuple{}}, NamedTuple{(), Tuple{}}}, meta::Nothing, options::Nothing, returnvars::NamedTuple{(:A, :B, :s), Tuple{KeepLast, KeepLast, KeepLast}}, predictvars::Nothing, iterations::Int64, free_energy::Bool, free_energy_diagnostics::Tuple{BetheFreeEnergyCheckNaNs, BetheFreeEnergyCheckInfs}, showprogress::Bool, callbacks::Nothing, addons::Nothing, postprocess::DefaultPostprocess, warn::Bool)",
      "    @ RxInfer ~/.config/julia/packages/RxInfer/CjJdi/src/inference.jl:543",
      "  [6] var\"##core#339\"(imodel#335::RxInfer.ModelGenerator{var\"###hidden_markov_model#328\", Tuple{Int64}, NamedTuple{(), Tuple{}}}, idata#336::NamedTuple{(:x,), Tuple{Vector{Vector{Float64}}}}, imarginals#337::NamedTuple{(:A, :B, :s), Tuple{MatrixDirichlet{Float64, Matrix{Float64}}, MatrixDirichlet{Float64, Matrix{Float64}}, Categorical{Float64, Vector{Float64}}}}, ireturnvars#338::NamedTuple{(:A, :B, :s), Tuple{KeepLast, KeepLast, KeepLast}})",
      "    @ Main ~/.config/julia/packages/BenchmarkTools/0owsb/src/execution.jl:489",
      "  [7] var\"##sample#340\"(::Tuple{RxInfer.ModelGenerator{var\"###hidden_markov_model#328\", Tuple{Int64}, NamedTuple{(), Tuple{}}}, NamedTuple{(:x,), Tuple{Vector{Vector{Float64}}}}, NamedTuple{(:A, :B, :s), Tuple{MatrixDirichlet{Float64, Matrix{Float64}}, MatrixDirichlet{Float64, Matrix{Float64}}, Categorical{Float64, Vector{Float64}}}}, NamedTuple{(:A, :B, :s), Tuple{KeepLast, KeepLast, KeepLast}}}, __params::BenchmarkTools.Parameters)",
      "    @ Main ~/.config/julia/packages/BenchmarkTools/0owsb/src/execution.jl:495",
      "  [8] _run(b::BenchmarkTools.Benchmark, p::BenchmarkTools.Parameters; verbose::Bool, pad::String, kwargs::Base.Pairs{Symbol, Integer, NTuple{4, Symbol}, NamedTuple{(:samples, :evals, :gctrial, :gcsample), Tuple{Int64, Int64, Bool, Bool}}})",
      "    @ BenchmarkTools ~/.config/julia/packages/BenchmarkTools/0owsb/src/execution.jl:99",
      "  [9] #invokelatest#2",
      "    @ ./essentials.jl:731 [inlined]",
      " [10] #run_result#45",
      "    @ ~/.config/julia/packages/BenchmarkTools/0owsb/src/execution.jl:34 [inlined]",
      " [11] run(b::BenchmarkTools.Benchmark, p::BenchmarkTools.Parameters; progressid::Nothing, nleaves::Float64, ndone::Float64, kwargs::Base.Pairs{Symbol, Integer, NTuple{5, Symbol}, NamedTuple{(:verbose, :samples, :evals, :gctrial, :gcsample), Tuple{Bool, Int64, Int64, Bool, Bool}}})",
      "    @ BenchmarkTools ~/.config/julia/packages/BenchmarkTools/0owsb/src/execution.jl:117",
      " [12] #warmup#54",
      "    @ ~/.config/julia/packages/BenchmarkTools/0owsb/src/execution.jl:169 [inlined]",
      " [13] warmup(item::BenchmarkTools.Benchmark)",
      "    @ BenchmarkTools ~/.config/julia/packages/BenchmarkTools/0owsb/src/execution.jl:168",
      " [14] top-level scope",
      "    @ ~/.config/julia/packages/BenchmarkTools/0owsb/src/execution.jl:393",
      " [15] eval",
      "    @ ./boot.jl:368 [inlined]",
      " [16] include_string(mapexpr::typeof(REPL.softscope), mod::Module, code::String, filename::String)",
      "    @ Base ./loading.jl:1428"
     ]
    }
   ],
   "source": [
    "@benchmark inference(\n",
    "    model         = $imodel, \n",
    "    data          = $idata,\n",
    "    constraints   = hidden_markov_model_constraints(),\n",
    "    initmarginals = $imarginals, \n",
    "    returnvars    = $ireturnvars, \n",
    "    iterations    = 20, \n",
    "    free_energy   = true\n",
    ")"
   ]
  }
 ],
 "metadata": {
  "kernelspec": {
   "display_name": "Julia 1.8.5",
   "language": "julia",
   "name": "julia-1.8"
  },
  "language_info": {
   "file_extension": ".jl",
   "mimetype": "application/julia",
   "name": "julia",
   "version": "1.8.5"
  }
 },
 "nbformat": 4,
 "nbformat_minor": 4
}
