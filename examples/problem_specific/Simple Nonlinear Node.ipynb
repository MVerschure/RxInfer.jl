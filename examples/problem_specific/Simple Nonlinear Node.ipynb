{
 "cells": [
  {
   "cell_type": "markdown",
   "metadata": {},
   "source": [
    "# Simple Nonlinear Node"
   ]
  },
  {
   "cell_type": "code",
   "execution_count": 1,
   "metadata": {},
   "outputs": [],
   "source": [
    "# Activate local environment, see `Project.toml`\n",
    "import Pkg; Pkg.activate(\"..\"); Pkg.instantiate();"
   ]
  },
  {
   "cell_type": "code",
   "execution_count": 2,
   "metadata": {},
   "outputs": [],
   "source": [
    "using RxInfer, Random, StableRNGs"
   ]
  },
  {
   "cell_type": "markdown",
   "metadata": {},
   "source": [
    "Here is an example of creating custom node with nonlinear function approximation with samplelist."
   ]
  },
  {
   "cell_type": "markdown",
   "metadata": {},
   "source": [
    "### Custom node creation"
   ]
  },
  {
   "cell_type": "code",
   "execution_count": 3,
   "metadata": {},
   "outputs": [],
   "source": [
    "struct NonlinearNode end # Dummy structure just to make Julia happy\n",
    "\n",
    "struct NonlinearMeta{R, F}\n",
    "    rng      :: R\n",
    "    fn       :: F   # Nonlinear function, we assume 1 float input - 1 float output\n",
    "    nsamples :: Int # Number of samples used in approximation\n",
    "end"
   ]
  },
  {
   "cell_type": "code",
   "execution_count": 4,
   "metadata": {},
   "outputs": [],
   "source": [
    "@node NonlinearNode Deterministic [ out, in ]"
   ]
  },
  {
   "cell_type": "markdown",
   "metadata": {},
   "source": [
    "We need to define two Sum-product message computation rules for our new custom node\n",
    "- Rule for outbound message on `out` edge given inbound message on `in` edge\n",
    "- Rule for outbound message on `in` edge given inbound message on `out` edge\n",
    "- Both rules accept optional meta object"
   ]
  },
  {
   "cell_type": "code",
   "execution_count": 5,
   "metadata": {},
   "outputs": [],
   "source": [
    "# Rule for outbound message on `out` edge given inbound message on `in` edge\n",
    "@rule NonlinearNode(:out, Marginalisation) (m_in::NormalMeanVariance, meta::NonlinearMeta) = begin \n",
    "    samples = rand(meta.rng, m_in, meta.nsamples)\n",
    "    return SampleList(map(meta.fn, samples))\n",
    "end"
   ]
  },
  {
   "cell_type": "code",
   "execution_count": 6,
   "metadata": {},
   "outputs": [],
   "source": [
    "# Rule for outbound message on `in` edge given inbound message on `out` edge\n",
    "@rule NonlinearNode(:in, Marginalisation) (m_out::Gamma, meta::NonlinearMeta) = begin     \n",
    "    return ContinuousUnivariateLogPdf((x) -> logpdf(m_out, meta.fn(x)))\n",
    "end"
   ]
  },
  {
   "cell_type": "markdown",
   "metadata": {},
   "source": [
    "### Model specification\n",
    "\n",
    "After we have defined our custom node with custom rules we may proceed with a model specification:\n",
    "\n",
    "$$\\begin{aligned}\n",
    "p(\\theta) &= \\mathcal{N}(\\theta|\\mu_{\\theta}, \\sigma_{\\theta}),\\\\\n",
    "p(m) &= \\mathcal{N}(\\theta|\\mu_{m}, \\sigma_{m}),\\\\\n",
    "p(w) &= f(\\theta),\\\\\n",
    "p(y_i|m, w) &= \\mathcal{N}(y_i|m, w),\n",
    "\\end{aligned}$$\n",
    "\n",
    "Given this IID model, we aim to estimate the precision of a Gaussian distribution. We pass a random variable $\\theta$ through a non-linear transformation $f$ to make it positive and suitable for a precision parameter of a Gaussian distribution. We, later on, will estimate the posterior of $\\theta$. "
   ]
  },
  {
   "cell_type": "code",
   "execution_count": 7,
   "metadata": {},
   "outputs": [],
   "source": [
    "@model function nonlinear_estimation(y, a,b,c,d)\n",
    "    \n",
    "    # define a distribution for the two variables\n",
    "    θ ~ Normal(mean = a, variance = c)\n",
    "    m ~ Normal(mean = b, variance = d)\n",
    "\n",
    "    # define a nonlinear node\n",
    "    w ~ NonlinearNode(θ)\n",
    "\n",
    "    # We consider the outcome to be normally distributed\n",
    "    for i in eachindex(y)\n",
    "        y[i] ~ Normal(mean = m, precision = w)\n",
    "    end\n",
    "    \n",
    "end"
   ]
  },
  {
   "cell_type": "code",
   "execution_count": 8,
   "metadata": {},
   "outputs": [
    {
     "data": {
      "text/plain": [
       "nconstsraints (generic function with 1 method)"
      ]
     },
     "metadata": {},
     "output_type": "display_data"
    }
   ],
   "source": [
    "@constraints function nconstsraints(nsamples)\n",
    "    q(θ) :: SampleList(nsamples, LeftProposal())\n",
    "    q(w) :: SampleList(nsamples, RightProposal())\n",
    "    \n",
    "    q(θ, w, m) = q(θ)q(m)q(w)\n",
    "end"
   ]
  },
  {
   "cell_type": "code",
   "execution_count": 9,
   "metadata": {},
   "outputs": [
    {
     "data": {
      "text/plain": [
       "nmeta (generic function with 1 method)"
      ]
     },
     "metadata": {},
     "output_type": "display_data"
    }
   ],
   "source": [
    "@meta function nmeta(fn, nsamples)\n",
    "    NonlinearNode(θ, w) -> NonlinearMeta(StableRNG(123), fn, nsamples)\n",
    "end"
   ]
  },
  {
   "cell_type": "markdown",
   "metadata": {},
   "source": [
    "Here we generate some data"
   ]
  },
  {
   "cell_type": "code",
   "execution_count": 10,
   "metadata": {},
   "outputs": [
    {
     "data": {
      "text/plain": [
       "nonlinear_fn (generic function with 1 method)"
      ]
     },
     "metadata": {},
     "output_type": "display_data"
    }
   ],
   "source": [
    "nonlinear_fn(x) = abs(exp(x) * sin(x))"
   ]
  },
  {
   "cell_type": "code",
   "execution_count": 11,
   "metadata": {},
   "outputs": [],
   "source": [
    "seed = 123\n",
    "rng  = StableRNG(seed)\n",
    "\n",
    "niters   = 15 # Number of VMP iterations\n",
    "nsamples = 5_000 # Number of samples in approximation\n",
    "\n",
    "n = 500 # Number of IID samples\n",
    "μ = -10.0\n",
    "θ = -1.0\n",
    "w = nonlinear_fn(θ)\n",
    "\n",
    "data = rand(rng, NormalMeanPrecision(μ, w), n);"
   ]
  },
  {
   "cell_type": "code",
   "execution_count": 12,
   "metadata": {},
   "outputs": [
    {
     "ename": "MethodError",
     "evalue": "MethodError: no method matching nonlinear_estimation(; a::Float64, b::Float64, c::Float64, d::Float64)\n\nClosest candidates are:\n  nonlinear_estimation(!Matched::Any, !Matched::Any, !Matched::Any, !Matched::Any, !Matched::Any) got unsupported keyword arguments \"a\", \"b\", \"c\", \"d\"\n   @ Main C:\\Users\\raganapa\\.julia\\packages\\RxInfer\\z9JYw\\src\\graphppl.jl:36\n",
     "output_type": "error",
     "traceback": [
      "MethodError: no method matching nonlinear_estimation(; a::Float64, b::Float64, c::Float64, d::Float64)\n",
      "\n",
      "Closest candidates are:\n",
      "  nonlinear_estimation(!Matched::Any, !Matched::Any, !Matched::Any, !Matched::Any, !Matched::Any) got unsupported keyword arguments \"a\", \"b\", \"c\", \"d\"\n",
      "   @ Main C:\\Users\\raganapa\\.julia\\packages\\RxInfer\\z9JYw\\src\\graphppl.jl:36\n",
      "\n",
      "\n",
      "Stacktrace:\n",
      " [1] top-level scope\n",
      "   @ c:\\Localdata\\repositories\\PhD\\RxInfer.jl\\examples\\problem_specific\\Simple Nonlinear Node.ipynb:1"
     ]
    }
   ],
   "source": [
    "result = infer(\n",
    "    model = nonlinear_estimation(a = 0.0, b = 0.0, c = 100.0, d = 1.0),\n",
    "    meta =  nmeta(nonlinear_fn, nsamples),\n",
    "    constraints = nconstsraints(nsamples),\n",
    "    data = (y = data, ), \n",
    "    initmarginals = (m = vague(NormalMeanPrecision), w = vague(Gamma)),\n",
    "    returnvars = (θ = KeepLast(), ),\n",
    "    iterations = niters,  \n",
    "    showprogress = true\n",
    ")"
   ]
  },
  {
   "cell_type": "code",
   "execution_count": 13,
   "metadata": {},
   "outputs": [
    {
     "ename": "UndefVarError",
     "evalue": "UndefVarError: `result` not defined",
     "output_type": "error",
     "traceback": [
      "UndefVarError: `result` not defined\n",
      "\n",
      "Stacktrace:\n",
      " [1] top-level scope\n",
      "   @ c:\\Localdata\\repositories\\PhD\\RxInfer.jl\\examples\\problem_specific\\Simple Nonlinear Node.ipynb:1"
     ]
    }
   ],
   "source": [
    "θposterior = result.posteriors[:θ]"
   ]
  },
  {
   "cell_type": "code",
   "execution_count": 14,
   "metadata": {},
   "outputs": [
    {
     "ename": "UndefVarError",
     "evalue": "UndefVarError: `θposterior` not defined",
     "output_type": "error",
     "traceback": [
      "UndefVarError: `θposterior` not defined\n",
      "\n",
      "Stacktrace:\n",
      " [1] top-level scope\n",
      "   @ c:\\Localdata\\repositories\\PhD\\RxInfer.jl\\examples\\problem_specific\\Simple Nonlinear Node.ipynb:3"
     ]
    }
   ],
   "source": [
    "using Plots, StatsPlots\n",
    "\n",
    "estimated = Normal(mean_std(θposterior)...)\n",
    "\n",
    "plot(estimated, title=\"Posterior for θ\", label = \"Estimated\", legend = :bottomright, fill = true, fillopacity = 0.2, xlim = (-3, 3), ylim = (0, 2))\n",
    "vline!([ θ ], label = \"Real value of θ\")"
   ]
  },
  {
   "cell_type": "code",
   "execution_count": 15,
   "metadata": {},
   "outputs": [],
   "source": []
  }
 ],
 "metadata": {
  "@webio": {
   "lastCommId": null,
   "lastKernelId": null
  },
  "kernelspec": {
   "display_name": "Julia 1.10.0",
   "language": "julia",
   "name": "julia-1.10"
  },
  "language_info": {
   "file_extension": ".jl",
   "mimetype": "application/julia",
   "name": "julia",
   "version": "1.10.0"
  }
 },
 "nbformat": 4,
 "nbformat_minor": 4
}
