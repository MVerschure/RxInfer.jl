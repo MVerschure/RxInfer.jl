{
 "cells": [
  {
   "cell_type": "markdown",
   "id": "ecd02b25",
   "metadata": {},
   "source": [
    "# Nonlinear Sensor Fusion"
   ]
  },
  {
   "cell_type": "code",
   "execution_count": null,
   "id": "bb533e86",
   "metadata": {},
   "outputs": [],
   "source": [
    "# Activate local environment, see `Project.toml`\n",
    "import Pkg; Pkg.activate(\".\"); Pkg.instantiate(); "
   ]
  },
  {
   "cell_type": "code",
   "execution_count": null,
   "id": "aa40da28",
   "metadata": {},
   "outputs": [],
   "source": [
    "using RxInfer, Random, LinearAlgebra, Distributions, Plots, StatsPlots, Optimisers, \n",
    "using DataFrames, DelimitedFiles, StableRNGs"
   ]
  },
  {
   "cell_type": "markdown",
   "id": "2f8fda3a",
   "metadata": {},
   "source": [
    "In a secret ongoing mission to Mars, NASA has deployed its custom lunar roving vehicle, called WALL-E, to explore the area and to discover hidden minerals. During one of the solar storm, WALL-E's GPS unit got damaged, preventing it from accurately locating itself. The engineers at NASA were devastated as they developed the project over the past couple of years and spend most of their funding on it. Without being able to locate WALL-E, they were unable to complete their mission.\n",
    "\n",
    "A smart group of engineers came up with a solution to locate WALL-E. They decided to repurpose 3 nearby satelites as beacons for WALL-E, allowing it to detect its relative location to these beacons. However, these satelites were old and therefore WALL-E was only able to obtain noisy estimates of its distance to these beacons. These distances were communicated back to earth, where the engineers tried to figure our WALL-E's location. Luckily they knew the locations of these satelites and together with the noisy estimates of the distance to WALL-E they can infer the exact location of the moving WALL-E.\n",
    "\n",
    "To illustrate these noisy measurements, the engineers decided to plot them:"
   ]
  },
  {
   "cell_type": "code",
   "execution_count": null,
   "id": "185d1b7e-4aff-4771-9bd4-d2ea637e69e1",
   "metadata": {},
   "outputs": [],
   "source": [
    "# fetch measurements\n",
    "beacon_locations = readdlm(\"data/sensor_fusion/beacons.txt\")\n",
    "distances = readdlm(\"data/sensor_fusion/distances.txt\")\n",
    "position = readdlm(\"data/sensor_fusion/position.txt\")\n",
    "nr_observations = size(distances, 1);"
   ]
  },
  {
   "cell_type": "code",
   "execution_count": null,
   "id": "764c7255",
   "metadata": {},
   "outputs": [],
   "source": [
    "# plot beacon and actual location of WALL-E\n",
    "p1 = scatter(beacon_locations[:,1], beacon_locations[:,2], markershape=:utriangle, markersize=10, legend=:topleft, label=\"beacon locations\")\n",
    "plot!(position[1,:], position[2,:], label=\"actual location\", linewidth=3, linestyle=:dash, arrow=(:closed, 2.0), aspect_ratio=1.0)\n",
    "xlabel!(\"longitude [m]\"), ylabel!(\"latitude [m]\")\n",
    "\n",
    "# plot noisy distance measurements\n",
    "p2 = plot(distances, legend=:topleft, linewidth=3, label=[\"distance to beacon 1\" \"distance to beacon 2\" \"distance to beacon 3\"])\n",
    "xlabel!(\"time [sec]\"), ylabel!(\"distance [m]\")\n",
    "\n",
    "plot(p1, p2, size=(1200, 500))"
   ]
  },
  {
   "cell_type": "markdown",
   "id": "8d68642e",
   "metadata": {},
   "source": [
    "In order to track the location of WALL-E based on the noisy distance measurements to the beacon, the engineers developed a probabilistic model for the movements for WALL-E and the distance measurements that followed from this. The engineers assumed that the position of WALL-E at time $t$, denoted by $z_t$, follows a 2-dimensional normal random walk:\n",
    "\n",
    "$$\\begin{aligned}\n",
    " & p(z_t \\mid z_{t - 1}) = \\mathcal{N}(z_t \\mid z_{t-1},~\\mathrm{I}_{2}),\\\\\n",
    "\\end{aligned}$$\n",
    "where $\\mathrm{I}_2$ denotes the 2-dimensional identity matrix. From the current position of WALL-E, we specify our noisy distance measurements $y_t$ as a noisy set of the distances between WALL-E and the beacons, specified by $s_i$:\n",
    "\n",
    "$$\\begin{aligned}\n",
    " & p(y_t \\mid z_t)  = \\mathcal{N} \\left (y_t \\left \\vert \\begin{bmatrix} \\| z_{t} - s_{1}\\| \\\\ \\|z_{t} - s_{2}\\| \\\\ \\|z_{t} - s_{3}\\|\\end{bmatrix}\\!,~\\mathrm{I}_{3}\\! \\right . \\right)\\!.\n",
    "\\end{aligned}$$\n",
    "\n",
    "The engineers are smart enough to automate the probabilistic inference procedure using `RxInfer.jl`. They specify the probabilistic model as:"
   ]
  },
  {
   "cell_type": "code",
   "execution_count": null,
   "id": "5c44987f",
   "metadata": {},
   "outputs": [],
   "source": [
    "# function to compute distance to beacons\n",
    "function compute_distances(z)    \n",
    "    distance1 = norm(z - beacon_locations[1,:])\n",
    "    distance2 = norm(z - beacon_locations[2,:])\n",
    "    distance3 = norm(z - beacon_locations[3,:])\n",
    "    distances = [distance1, distance2, distance3]\n",
    "end;"
   ]
  },
  {
   "cell_type": "code",
   "execution_count": null,
   "id": "3fb37ff0",
   "metadata": {},
   "outputs": [],
   "source": [
    "@model function random_walk_model(nr_observations)\n",
    "    \n",
    "    # specify covariance matrices\n",
    "    W = diageye(2)\n",
    "    R = diageye(3)\n",
    "\n",
    "    # allocate locations and observations\n",
    "    z = randomvar(nr_observations)\n",
    "    y = datavar(Vector{Float64}, nr_observations)\n",
    "\n",
    "    # specify initial estimates of the location\n",
    "    z[1] ~ MvNormalMeanCovariance(zeros(2), diageye(2)) \n",
    "    y[1] ~ MvNormalMeanCovariance(compute_distances(z[1]), diageye(3))\n",
    "\n",
    "    # loop over time steps\n",
    "    for t in 2:nr_observations\n",
    "\n",
    "        # specify random walk state transition model\n",
    "        z[t] ~ MvNormalMeanPrecision(z[t-1], W)\n",
    "\n",
    "        # specify non-linear distance observations model\n",
    "        y[t] ~ MvNormalMeanPrecision(compute_distances(z[t]), R)\n",
    "        \n",
    "    end\n",
    "\n",
    "end;"
   ]
  },
  {
   "cell_type": "markdown",
   "id": "8be63623",
   "metadata": {},
   "source": [
    "Due to non-linearity, exact probabilistic inference is intractable in this model. Therefore we resort to Conjugate-Computational Variational Inference (CVI) following the paper [Probabilistic programming with stochastic variational message passing](https://reader.elsevier.com/reader/sd/pii/S0888613X22000950?token=EFB22E01793BD0BF73EECC9702C315644969403BD44B13FA850E9F66C8A49E88C0D5C68A9AD03301C609DA443DB33F80&originRegion=eu-west-1&originCreation=20221027115856). This requires setting the `@meta` macro in `RxInfer.jl`.\n",
    "\n",
    "Please note that we permit improper messages within the CVI procedure in this example by providing `Val(false)` to `CVI` constructor:\n",
    "\n",
    "```julia\n",
    "    compute_distances(z) -> CVI(..., Val(false), ...)\n",
    "```\n",
    "\n",
    "This move may lead to numerical instabilities in other scenarios, however dissallowing improper messages in this case can lead to a biased estimates of posterior distribution. So, as a rule of thumb, you should try the default setting, and if it fails to find an unbiased result, enable improper messages."
   ]
  },
  {
   "cell_type": "code",
   "execution_count": null,
   "id": "f1fce811",
   "metadata": {},
   "outputs": [],
   "source": [
    "@meta function random_walk_model_meta(nr_samples, nr_iterations, rng)\n",
    "    compute_distances(z) -> CVI(rng, nr_samples, nr_iterations, Optimisers.Descent(0.1), ForwardDiffGrad(), 1, Val(false), false)\n",
    "end;"
   ]
  },
  {
   "cell_type": "markdown",
   "id": "430d1b3e",
   "metadata": {},
   "source": [
    "Because the engineers are using `RxInfer.jl`, they can automate the inference procedure. They run the model once with a limited numbers of samples and iterations, for speed, and once for accuracy."
   ]
  },
  {
   "cell_type": "code",
   "execution_count": null,
   "id": "64129320",
   "metadata": {},
   "outputs": [],
   "source": [
    "results_fast = inference(\n",
    "    model = random_walk_model(nr_observations),\n",
    "    meta = random_walk_model_meta(1, 3, StableRNG(42)),\n",
    "    data = (y = [distances[t,:] for t in 1:nr_observations],),\n",
    "    iterations = 100,\n",
    "    free_energy = false,\n",
    "    returnvars = (z = KeepLast(),),\n",
    "    initmessages = (z = MvNormalMeanPrecision(zeros(2), 0.1 * diageye(2)),),\n",
    ");"
   ]
  },
  {
   "cell_type": "code",
   "execution_count": null,
   "id": "ff16cf34",
   "metadata": {},
   "outputs": [],
   "source": [
    "results_accuracy = inference(\n",
    "    model = random_walk_model(nr_observations),\n",
    "    meta = random_walk_model_meta(1000, 100, StableRNG(42)),\n",
    "    data = (y = [distances[t,:] for t in 1:nr_observations],),\n",
    "    iterations = 100,\n",
    "    free_energy = false,\n",
    "    returnvars = (z = KeepLast(),),\n",
    "    initmessages = (z = MvNormalMeanPrecision(zeros(2), 0.1 * diageye(2)),),\n",
    ");"
   ]
  },
  {
   "cell_type": "markdown",
   "id": "cbfbbe54",
   "metadata": {},
   "source": [
    "After running this fast inference procedure, the engineers plot the results and evaluate the performance:"
   ]
  },
  {
   "cell_type": "code",
   "execution_count": null,
   "id": "c3d356ae",
   "metadata": {},
   "outputs": [],
   "source": [
    "# plot beacon and actual and estimated location of WALL-E (fast inference)\n",
    "p1 = scatter(beacon_locations[:,1], beacon_locations[:,2], markershape=:utriangle, markersize=10, legend=:topleft, label=\"beacon locations\")\n",
    "plot!(position[1,:], position[2,:], label=\"actual location\", linewidth=3, linestyle=:dash, arrow=(:closed, 2.0), aspect_ratio=1.0)\n",
    "map(posterior -> covellipse!(mean(posterior), cov(posterior), color=\"red\", label=\"\", n_std=2), results_fast.posteriors[:z])\n",
    "xlabel!(\"longitude [m]\"), ylabel!(\"latitude [m]\"), title!(\"Fast (1 sample, 3 iterations)\"); p1.series_list[end][:label] = \"estimated location ±2σ\"\n",
    "\n",
    "# plot beacon and actual and estimated location of WALL-E (accurate inference)\n",
    "p2 = scatter(beacon_locations[:,1], beacon_locations[:,2], markershape=:utriangle, markersize=10, legend=:topleft, label=\"beacon locations\")\n",
    "plot!(position[1,:], position[2,:], label=\"actual location\", linewidth=3, linestyle=:dash, arrow=(:closed, 2.0), aspect_ratio=1.0)\n",
    "map(posterior -> covellipse!(mean(posterior), cov(posterior), color=\"red\", label=\"\", n_std=2), results_accuracy.posteriors[:z])\n",
    "xlabel!(\"longitude [m]\"), ylabel!(\"latitude [m]\"), title!(\"Accurate (1000 samples, 100 iterations)\"); p2.series_list[end][:label] = \"estimated location ±2σ\"\n",
    "\n",
    "plot(p1, p2, size=(1200, 500))"
   ]
  },
  {
   "cell_type": "markdown",
   "id": "049f021c",
   "metadata": {},
   "source": [
    "The engineers were very happy with the solution, as it meant that the Mars mission could continue. However, they noted that the estimates began to deviate after WALL-E moved further away from the beacons. They deemed this was likely due to the noise in the distance measurements. Therefore, the engineers decided to adapt the model, such that they would also infer the process and observation noise precision matrices, $Q$ and $R$ respectively. They did this by adding Wishart priors to those matrices:\n",
    "\n",
    "$$\\begin{aligned}\n",
    " & p(Q) = \\mathcal{W}(Q \\mid 3, \\mathrm{I}_2), \\\\\n",
    " & p(R) = \\mathcal{W}(R \\mid 4, \\mathrm{I}_3), \\\\\n",
    " & p(z_t \\mid z_{t - 1}, Q) = \\mathcal{N}(z_t \\mid z_{t-1}, Q^{-1}),\\\\\n",
    " & p(y_t \\mid z_t, R)  = \\mathcal{N} \\left (y_t \\left \\vert \\begin{bmatrix} \\| z_{t} - s_{1}\\| \\\\ \\|z_{t} - s_{2}\\| \\\\ \\|z_{t} - s_{3}\\|\\end{bmatrix}\\!,~R^{-1}\\! \\right . \\right)\\!.\n",
    "\\end{aligned}$$"
   ]
  },
  {
   "cell_type": "code",
   "execution_count": null,
   "id": "47d8473b",
   "metadata": {},
   "outputs": [],
   "source": [
    "@model function random_walk_model_wishart(nr_observations)\n",
    "\n",
    "    # allocate locations and observations\n",
    "    z = randomvar(nr_observations)\n",
    "    y = datavar(Vector{Float64}, nr_observations)\n",
    "\n",
    "    # set priors on precision matrices\n",
    "    Q ~ Wishart(3, diageye(2))\n",
    "    R ~ Wishart(4, diageye(3))\n",
    "\n",
    "    # specify initial estimates of the location\n",
    "    z[1] ~ MvNormalMeanCovariance(zeros(2), diageye(2)) \n",
    "    y[1] ~ MvNormalMeanCovariance(compute_distances(z[1]), diageye(3))\n",
    "\n",
    "    # loop over time steps\n",
    "    for t in 2:nr_observations\n",
    "\n",
    "        # specify random walk state transition model\n",
    "        z[t] ~ MvNormalMeanPrecision(z[t-1], Q)\n",
    "\n",
    "        # specify non-linear distance observations model\n",
    "        y[t] ~ MvNormalMeanPrecision(compute_distances(z[t]), R)\n",
    "        \n",
    "    end\n",
    "\n",
    "end;"
   ]
  },
  {
   "cell_type": "code",
   "execution_count": null,
   "id": "ebe028f7",
   "metadata": {},
   "outputs": [],
   "source": [
    "meta = @meta begin \n",
    "    compute_distances(z) -> CVI(StableRNG(42), 2000, 100, Descent(0.01))\n",
    "end;"
   ]
  },
  {
   "cell_type": "markdown",
   "id": "4989f4b5",
   "metadata": {},
   "source": [
    "Because of the added complexity with the Wishart distributions, the engineers simplify the problem by employing a structured mean-field factorization:"
   ]
  },
  {
   "cell_type": "code",
   "execution_count": null,
   "id": "f46c43b5",
   "metadata": {},
   "outputs": [],
   "source": [
    "constraints = @constraints begin\n",
    "    q(z, Q, R) = q(z)q(Q)q(R)\n",
    "end;"
   ]
  },
  {
   "cell_type": "markdown",
   "id": "c4919ab7",
   "metadata": {},
   "source": [
    "The engineers run the inference procedure again and decide to track the inference performance using the Bethe free energy."
   ]
  },
  {
   "cell_type": "code",
   "execution_count": null,
   "id": "4f1a00cd",
   "metadata": {},
   "outputs": [],
   "source": [
    "results_wishart = inference(\n",
    "    model = random_walk_model_wishart(nr_observations),\n",
    "    data = (y = [distances[t,:] for t in 1:nr_observations],),\n",
    "    iterations = 100,\n",
    "    free_energy = true,\n",
    "    returnvars = (z = KeepLast(),),\n",
    "    constraints = constraints,\n",
    "    meta = meta,\n",
    "    initmessages = (z = MvNormalMeanPrecision(zeros(2), 0.01 * diageye(2)),),\n",
    "    initmarginals = (R = Wishart(4, diageye(3)), Q = Wishart(3, diageye(2)))\n",
    ");"
   ]
  },
  {
   "cell_type": "markdown",
   "id": "788633b1",
   "metadata": {},
   "source": [
    "They plot the new estimates and the performance over time, and luckily WALL-E is found!"
   ]
  },
  {
   "cell_type": "code",
   "execution_count": null,
   "id": "ca89fa63",
   "metadata": {},
   "outputs": [
    {
     "name": "stderr",
     "output_type": "stream",
     "text": [
      "\u001b[91m\u001b[1m┌ \u001b[22m\u001b[39m\u001b[91m\u001b[1mError: \u001b[22m\u001b[39mError watching manifest\n",
      "\u001b[91m\u001b[1m│ \u001b[22m\u001b[39m  exception =\n",
      "\u001b[91m\u001b[1m│ \u001b[22m\u001b[39m   MethodError: no method matching iterate(::RelocatableFolders.Path)\n",
      "\u001b[91m\u001b[1m│ \u001b[22m\u001b[39m   The applicable method may be too new: running in world age 33458, while current world is 33880.\n",
      "\u001b[91m\u001b[1m│ \u001b[22m\u001b[39m   \n",
      "\u001b[91m\u001b[1m│ \u001b[22m\u001b[39m   \u001b[0mClosest candidates are:\n",
      "\u001b[91m\u001b[1m│ \u001b[22m\u001b[39m   \u001b[0m  iterate(::RelocatableFolders.Path) (method too new to be called from this world context.)\n",
      "\u001b[91m\u001b[1m│ \u001b[22m\u001b[39m   \u001b[0m\u001b[90m   @\u001b[39m \u001b[33mRelocatableFolders\u001b[39m \u001b[90m~/.julia/packages/RelocatableFolders/xuLyx/src/\u001b[39m\u001b[90m\u001b[4mRelocatableFolders.jl:86\u001b[24m\u001b[39m\n",
      "\u001b[91m\u001b[1m│ \u001b[22m\u001b[39m   \u001b[0m  iterate(::RelocatableFolders.Path, \u001b[91m::Integer\u001b[39m) (method too new to be called from this world context.)\n",
      "\u001b[91m\u001b[1m│ \u001b[22m\u001b[39m   \u001b[0m\u001b[90m   @\u001b[39m \u001b[33mRelocatableFolders\u001b[39m \u001b[90m~/.julia/packages/RelocatableFolders/xuLyx/src/\u001b[39m\u001b[90m\u001b[4mRelocatableFolders.jl:87\u001b[24m\u001b[39m\n",
      "\u001b[91m\u001b[1m│ \u001b[22m\u001b[39m   \u001b[0m  iterate(::AbstractString, \u001b[91m::Integer\u001b[39m)\n",
      "\u001b[91m\u001b[1m│ \u001b[22m\u001b[39m   \u001b[0m\u001b[90m   @\u001b[39m \u001b[90mBase\u001b[39m \u001b[90mstrings/\u001b[39m\u001b[90m\u001b[4mbasic.jl:157\u001b[24m\u001b[39m\n",
      "\u001b[91m\u001b[1m│ \u001b[22m\u001b[39m   \u001b[0m  ...\n",
      "\u001b[91m\u001b[1m│ \u001b[22m\u001b[39m   \n",
      "\u001b[91m\u001b[1m│ \u001b[22m\u001b[39m   Stacktrace:\n",
      "\u001b[91m\u001b[1m│ \u001b[22m\u001b[39m    [1] top-level scope\n",
      "\u001b[91m\u001b[1m│ \u001b[22m\u001b[39m   \u001b[90m   @\u001b[39m \u001b[90m~/.julia/packages/Plots/esM5q/src/\u001b[39m\u001b[90m\u001b[4minit.jl:84\u001b[24m\u001b[39m\n",
      "\u001b[91m\u001b[1m│ \u001b[22m\u001b[39m   Revise evaluation error at /Users/bvdmitri/.julia/packages/Plots/esM5q/src/init.jl:84\n",
      "\u001b[91m\u001b[1m│ \u001b[22m\u001b[39m   \n",
      "\u001b[91m\u001b[1m│ \u001b[22m\u001b[39m   Stacktrace:\n",
      "\u001b[91m\u001b[1m│ \u001b[22m\u001b[39m    [1] \u001b[0m\u001b[1mmethods_by_execution!\u001b[22m\u001b[0m\u001b[1m(\u001b[22m\u001b[90mrecurse\u001b[39m::\u001b[0mAny, \u001b[90mmethodinfo\u001b[39m::\u001b[0mRevise.CodeTrackingMethodInfo, \u001b[90mdocexprs\u001b[39m::\u001b[0mDict\u001b[90m{Module, Vector{Expr}}\u001b[39m, \u001b[90mmod\u001b[39m::\u001b[0mModule, \u001b[90mex\u001b[39m::\u001b[0mExpr; \u001b[90mmode\u001b[39m::\u001b[0mSymbol, \u001b[90mdisablebp\u001b[39m::\u001b[0mBool, \u001b[90malways_rethrow\u001b[39m::\u001b[0mBool, \u001b[90mkwargs\u001b[39m::\u001b[0mBase.Pairs\u001b[90m{Symbol, Union{}, Tuple{}, NamedTuple{(), Tuple{}}}\u001b[39m\u001b[0m\u001b[1m)\u001b[22m\n",
      "\u001b[91m\u001b[1m│ \u001b[22m\u001b[39m   \u001b[90m   @\u001b[39m \u001b[35mRevise\u001b[39m \u001b[90m~/.julia/packages/Revise/Kw99o/src/\u001b[39m\u001b[90m\u001b[4mlowered.jl:227\u001b[24m\u001b[39m\n",
      "\u001b[91m\u001b[1m└ \u001b[22m\u001b[39m\u001b[90m@ Revise ~/.julia/packages/Revise/Kw99o/src/pkgs.jl:477\u001b[39m\n",
      "\u001b[91m\u001b[1m┌ \u001b[22m\u001b[39m\u001b[91m\u001b[1mError: \u001b[22m\u001b[39mError watching manifest\n",
      "\u001b[91m\u001b[1m│ \u001b[22m\u001b[39m  exception =\n",
      "\u001b[91m\u001b[1m│ \u001b[22m\u001b[39m   MethodError: no method matching iterate(::RelocatableFolders.Path)\n",
      "\u001b[91m\u001b[1m│ \u001b[22m\u001b[39m   The applicable method may be too new: running in world age 33458, while current world is 33881.\n",
      "\u001b[91m\u001b[1m│ \u001b[22m\u001b[39m   \n",
      "\u001b[91m\u001b[1m│ \u001b[22m\u001b[39m   \u001b[0mClosest candidates are:\n",
      "\u001b[91m\u001b[1m│ \u001b[22m\u001b[39m   \u001b[0m  iterate(::RelocatableFolders.Path) (method too new to be called from this world context.)\n",
      "\u001b[91m\u001b[1m│ \u001b[22m\u001b[39m   \u001b[0m\u001b[90m   @\u001b[39m \u001b[33mRelocatableFolders\u001b[39m \u001b[90m~/.julia/packages/RelocatableFolders/xuLyx/src/\u001b[39m\u001b[90m\u001b[4mRelocatableFolders.jl:86\u001b[24m\u001b[39m\n",
      "\u001b[91m\u001b[1m│ \u001b[22m\u001b[39m   \u001b[0m  iterate(::RelocatableFolders.Path, \u001b[91m::Integer\u001b[39m) (method too new to be called from this world context.)\n",
      "\u001b[91m\u001b[1m│ \u001b[22m\u001b[39m   \u001b[0m\u001b[90m   @\u001b[39m \u001b[33mRelocatableFolders\u001b[39m \u001b[90m~/.julia/packages/RelocatableFolders/xuLyx/src/\u001b[39m\u001b[90m\u001b[4mRelocatableFolders.jl:87\u001b[24m\u001b[39m\n",
      "\u001b[91m\u001b[1m│ \u001b[22m\u001b[39m   \u001b[0m  iterate(::AbstractString, \u001b[91m::Integer\u001b[39m)\n",
      "\u001b[91m\u001b[1m│ \u001b[22m\u001b[39m   \u001b[0m\u001b[90m   @\u001b[39m \u001b[90mBase\u001b[39m \u001b[90mstrings/\u001b[39m\u001b[90m\u001b[4mbasic.jl:157\u001b[24m\u001b[39m\n",
      "\u001b[91m\u001b[1m│ \u001b[22m\u001b[39m   \u001b[0m  ...\n",
      "\u001b[91m\u001b[1m│ \u001b[22m\u001b[39m   \n",
      "\u001b[91m\u001b[1m│ \u001b[22m\u001b[39m   Stacktrace:\n",
      "\u001b[91m\u001b[1m│ \u001b[22m\u001b[39m    [1] top-level scope\n",
      "\u001b[91m\u001b[1m│ \u001b[22m\u001b[39m   \u001b[90m   @\u001b[39m \u001b[90m~/.julia/packages/Plots/esM5q/src/\u001b[39m\u001b[90m\u001b[4minit.jl:84\u001b[24m\u001b[39m\n",
      "\u001b[91m\u001b[1m│ \u001b[22m\u001b[39m   Revise evaluation error at /Users/bvdmitri/.julia/packages/Plots/esM5q/src/init.jl:84\n",
      "\u001b[91m\u001b[1m│ \u001b[22m\u001b[39m   \n",
      "\u001b[91m\u001b[1m│ \u001b[22m\u001b[39m   Stacktrace:\n",
      "\u001b[91m\u001b[1m│ \u001b[22m\u001b[39m    [1] \u001b[0m\u001b[1mmethods_by_execution!\u001b[22m\u001b[0m\u001b[1m(\u001b[22m\u001b[90mrecurse\u001b[39m::\u001b[0mAny, \u001b[90mmethodinfo\u001b[39m::\u001b[0mRevise.CodeTrackingMethodInfo, \u001b[90mdocexprs\u001b[39m::\u001b[0mDict\u001b[90m{Module, Vector{Expr}}\u001b[39m, \u001b[90mmod\u001b[39m::\u001b[0mModule, \u001b[90mex\u001b[39m::\u001b[0mExpr; \u001b[90mmode\u001b[39m::\u001b[0mSymbol, \u001b[90mdisablebp\u001b[39m::\u001b[0mBool, \u001b[90malways_rethrow\u001b[39m::\u001b[0mBool, \u001b[90mkwargs\u001b[39m::\u001b[0mBase.Pairs\u001b[90m{Symbol, Union{}, Tuple{}, NamedTuple{(), Tuple{}}}\u001b[39m\u001b[0m\u001b[1m)\u001b[22m\n",
      "\u001b[91m\u001b[1m│ \u001b[22m\u001b[39m   \u001b[90m   @\u001b[39m \u001b[35mRevise\u001b[39m \u001b[90m~/.julia/packages/Revise/Kw99o/src/\u001b[39m\u001b[90m\u001b[4mlowered.jl:227\u001b[24m\u001b[39m\n",
      "\u001b[91m\u001b[1m└ \u001b[22m\u001b[39m\u001b[90m@ Revise ~/.julia/packages/Revise/Kw99o/src/pkgs.jl:477\u001b[39m\n",
      "\u001b[91m\u001b[1m┌ \u001b[22m\u001b[39m\u001b[91m\u001b[1mError: \u001b[22m\u001b[39mError watching manifest\n",
      "\u001b[91m\u001b[1m│ \u001b[22m\u001b[39m  exception =\n",
      "\u001b[91m\u001b[1m│ \u001b[22m\u001b[39m   MethodError: no method matching iterate(::RelocatableFolders.Path)\n",
      "\u001b[91m\u001b[1m│ \u001b[22m\u001b[39m   The applicable method may be too new: running in world age 33458, while current world is 33882.\n",
      "\u001b[91m\u001b[1m│ \u001b[22m\u001b[39m   \n",
      "\u001b[91m\u001b[1m│ \u001b[22m\u001b[39m   \u001b[0mClosest candidates are:\n",
      "\u001b[91m\u001b[1m│ \u001b[22m\u001b[39m   \u001b[0m  iterate(::RelocatableFolders.Path) (method too new to be called from this world context.)\n",
      "\u001b[91m\u001b[1m│ \u001b[22m\u001b[39m   \u001b[0m\u001b[90m   @\u001b[39m \u001b[33mRelocatableFolders\u001b[39m \u001b[90m~/.julia/packages/RelocatableFolders/xuLyx/src/\u001b[39m\u001b[90m\u001b[4mRelocatableFolders.jl:86\u001b[24m\u001b[39m\n",
      "\u001b[91m\u001b[1m│ \u001b[22m\u001b[39m   \u001b[0m  iterate(::RelocatableFolders.Path, \u001b[91m::Integer\u001b[39m) (method too new to be called from this world context.)\n",
      "\u001b[91m\u001b[1m│ \u001b[22m\u001b[39m   \u001b[0m\u001b[90m   @\u001b[39m \u001b[33mRelocatableFolders\u001b[39m \u001b[90m~/.julia/packages/RelocatableFolders/xuLyx/src/\u001b[39m\u001b[90m\u001b[4mRelocatableFolders.jl:87\u001b[24m\u001b[39m\n",
      "\u001b[91m\u001b[1m│ \u001b[22m\u001b[39m   \u001b[0m  iterate(::AbstractString, \u001b[91m::Integer\u001b[39m)\n",
      "\u001b[91m\u001b[1m│ \u001b[22m\u001b[39m   \u001b[0m\u001b[90m   @\u001b[39m \u001b[90mBase\u001b[39m \u001b[90mstrings/\u001b[39m\u001b[90m\u001b[4mbasic.jl:157\u001b[24m\u001b[39m\n",
      "\u001b[91m\u001b[1m│ \u001b[22m\u001b[39m   \u001b[0m  ...\n",
      "\u001b[91m\u001b[1m│ \u001b[22m\u001b[39m   \n",
      "\u001b[91m\u001b[1m│ \u001b[22m\u001b[39m   Stacktrace:\n",
      "\u001b[91m\u001b[1m│ \u001b[22m\u001b[39m    [1] top-level scope\n",
      "\u001b[91m\u001b[1m│ \u001b[22m\u001b[39m   \u001b[90m   @\u001b[39m \u001b[90m~/.julia/packages/Plots/esM5q/src/\u001b[39m\u001b[90m\u001b[4minit.jl:84\u001b[24m\u001b[39m\n",
      "\u001b[91m\u001b[1m│ \u001b[22m\u001b[39m   Revise evaluation error at /Users/bvdmitri/.julia/packages/Plots/esM5q/src/init.jl:84\n",
      "\u001b[91m\u001b[1m│ \u001b[22m\u001b[39m   \n",
      "\u001b[91m\u001b[1m│ \u001b[22m\u001b[39m   Stacktrace:\n",
      "\u001b[91m\u001b[1m│ \u001b[22m\u001b[39m    [1] \u001b[0m\u001b[1mmethods_by_execution!\u001b[22m\u001b[0m\u001b[1m(\u001b[22m\u001b[90mrecurse\u001b[39m::\u001b[0mAny, \u001b[90mmethodinfo\u001b[39m::\u001b[0mRevise.CodeTrackingMethodInfo, \u001b[90mdocexprs\u001b[39m::\u001b[0mDict\u001b[90m{Module, Vector{Expr}}\u001b[39m, \u001b[90mmod\u001b[39m::\u001b[0mModule, \u001b[90mex\u001b[39m::\u001b[0mExpr; \u001b[90mmode\u001b[39m::\u001b[0mSymbol, \u001b[90mdisablebp\u001b[39m::\u001b[0mBool, \u001b[90malways_rethrow\u001b[39m::\u001b[0mBool, \u001b[90mkwargs\u001b[39m::\u001b[0mBase.Pairs\u001b[90m{Symbol, Union{}, Tuple{}, NamedTuple{(), Tuple{}}}\u001b[39m\u001b[0m\u001b[1m)\u001b[22m\n",
      "\u001b[91m\u001b[1m│ \u001b[22m\u001b[39m   \u001b[90m   @\u001b[39m \u001b[35mRevise\u001b[39m \u001b[90m~/.julia/packages/Revise/Kw99o/src/\u001b[39m\u001b[90m\u001b[4mlowered.jl:227\u001b[24m\u001b[39m\n",
      "\u001b[91m\u001b[1m└ \u001b[22m\u001b[39m\u001b[90m@ Revise ~/.julia/packages/Revise/Kw99o/src/pkgs.jl:477\u001b[39m\n"
     ]
    }
   ],
   "source": [
    "# plot beacon and actual and estimated location of WALL-E (fast inference)\n",
    "p1 = scatter(beacon_locations[:,1], beacon_locations[:,2], markershape=:utriangle, markersize=10, legend=:topleft, label=\"beacon locations\")\n",
    "plot!(position[1,:], position[2,:], label=\"actual location\", linewidth=3, linestyle=:dash, arrow=(:closed, 2.0), aspect_ratio=1.0)\n",
    "map(posterior -> covellipse!(mean(posterior), cov(posterior), color=\"red\", label=\"\", n_std=2), results_wishart.posteriors[:z])\n",
    "xlabel!(\"longitude [m]\"), ylabel!(\"latitude [m]\"); p1.series_list[end][:label] = \"estimated location ±2σ\"\n",
    "\n",
    "# plot bethe free energy performance\n",
    "p2 = plot(results_wishart.free_energy, label = \"\")\n",
    "xlabel!(\"iteration\"), ylabel!(\"Bethe free energy [nats]\")\n",
    "\n",
    "plot(p1, p2, size=(1200, 500))"
   ]
  },
  {
   "cell_type": "code",
   "execution_count": null,
   "id": "ff9dbd1f",
   "metadata": {},
   "outputs": [],
   "source": []
  }
 ],
 "metadata": {
  "kernelspec": {
   "display_name": "Julia 1.9.0",
   "language": "julia",
   "name": "julia-1.9"
  },
  "language_info": {
   "file_extension": ".jl",
   "mimetype": "application/julia",
   "name": "julia",
   "version": "1.9.0"
  }
 },
 "nbformat": 4,
 "nbformat_minor": 5
}
