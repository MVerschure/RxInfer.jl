{
 "cells": [
  {
   "cell_type": "markdown",
   "metadata": {},
   "source": [
    "# Kalman filter with LSTM network driven dynamic"
   ]
  },
  {
   "cell_type": "markdown",
   "metadata": {},
   "source": [
    "In this demo, we are interested in Bayesian state estimation in Nonlinear State-Space Model. For example, we will use the time series induced by [Lorenz system](https://en.wikipedia.org/wiki/Lorenz_system)."
   ]
  },
  {
   "cell_type": "markdown",
   "metadata": {},
   "source": [
    "In other words, we want to compute the  marginal posterior distribution of the latent (hidden) state $x_k$ at each time step $k$ given the history of the measurements up to the time step k:\n",
    "$$\n",
    "p(x_k | y_{1:k}).\n",
    "$$ "
   ]
  },
  {
   "cell_type": "code",
   "execution_count": null,
   "metadata": {},
   "outputs": [],
   "source": [
    "# Activate local environment, see `Project.toml`\n",
    "import Pkg; Pkg.activate(\".\"); Pkg.instantiate(); "
   ]
  },
  {
   "cell_type": "code",
   "execution_count": null,
   "metadata": {},
   "outputs": [],
   "source": [
    "using RxInfer, BenchmarkTools, Flux, ReverseDiff, Random, Plots, LinearAlgebra, ProgressMeter, JLD, StableRNGs"
   ]
  },
  {
   "cell_type": "markdown",
   "metadata": {},
   "source": [
    "## Generate data"
   ]
  },
  {
   "cell_type": "code",
   "execution_count": null,
   "metadata": {},
   "outputs": [],
   "source": [
    "# Lorenz system equations to be used to generate dataset\n",
    "Base.@kwdef mutable struct Lorenz\n",
    "    dt::Float64\n",
    "    σ::Float64\n",
    "    ρ::Float64\n",
    "    β::Float64\n",
    "    x::Float64\n",
    "    y::Float64\n",
    "    z::Float64\n",
    "end\n",
    "\n",
    "function step!(l::Lorenz)\n",
    "    dx = l.σ * (l.y - l.x);         l.x += l.dt * dx\n",
    "    dy = l.x * (l.ρ - l.z) - l.y;   l.y += l.dt * dy\n",
    "    dz = l.x * l.y - l.β * l.z;     l.z += l.dt * dz\n",
    "end\n",
    ";"
   ]
  },
  {
   "cell_type": "code",
   "execution_count": null,
   "metadata": {},
   "outputs": [],
   "source": [
    "#Dataset\n",
    "rng = StableRNG(999)\n",
    "\n",
    "ordered_dataset = []\n",
    "ordered_parameters = []\n",
    "for σ = 11:15\n",
    "    for ρ = 23:27\n",
    "        for β_nom = 6:9\n",
    "            attractor = Lorenz(0.02, σ, ρ, β_nom/3.0, 1, 1, 1)\n",
    "            noise_free_data = [[1.0, 1.0, 1.0]]\n",
    "            for i=1:99\n",
    "                step!(attractor)\n",
    "                push!(noise_free_data, [attractor.x, attractor.y, attractor.z])\n",
    "            end\n",
    "            push!(ordered_dataset, noise_free_data)\n",
    "            push!(ordered_parameters, [σ, ρ, β_nom/3.0])\n",
    "        end\n",
    "    end\n",
    "end\n",
    "\n",
    "new_order = collect(1:100)\n",
    "shuffle!(rng,new_order)\n",
    "\n",
    "dataset = [] #noisy dataset\n",
    "noise_free_dataset = [] #noise free dataset\n",
    "lorenz_parameters = []\n",
    "\n",
    "for i in new_order\n",
    "    data = []\n",
    "    push!(noise_free_dataset, ordered_dataset[i])\n",
    "    push!(lorenz_parameters, ordered_parameters[i])\n",
    "    for nfd in ordered_dataset[i]\n",
    "        push!(data,nfd+randn(rng,3))\n",
    "    end\n",
    "    push!(dataset, data)\n",
    "end\n",
    "\n",
    "trainset = dataset[1:60]\n",
    "validset = dataset[61:80]\n",
    "testset = dataset[81:end]\n",
    "\n",
    "noise_free_trainset = noise_free_dataset[1:60]\n",
    "noise_free_validset = noise_free_dataset[61:80]\n",
    "noise_free_testset = noise_free_dataset[81:end]\n",
    ";"
   ]
  },
  {
   "cell_type": "markdown",
   "metadata": {},
   "source": [
    "### Data visualization"
   ]
  },
  {
   "cell_type": "code",
   "execution_count": null,
   "metadata": {},
   "outputs": [],
   "source": [
    "one_nonoise=noise_free_trainset[1]\n",
    "one=trainset[1]\n",
    "gx, gy, gz = zeros(100), zeros(100), zeros(100)\n",
    "rx, ry, rz = zeros(100), zeros(100), zeros(100)\n",
    "for i=1:100\n",
    "    rx[i], ry[i], rz[i] = one[i][1], one[i][2], one[i][3]\n",
    "    gx[i], gy[i], gz[i] = one_nonoise[i][1], one_nonoise[i][2], one_nonoise[i][3]\n",
    "end\n",
    "p1=plot(rx,ry,label=\"Noise observations\")\n",
    "p1=plot!(gx,gy,label=\"True state\")\n",
    "xlabel!(\"x\")\n",
    "ylabel!(\"y\")\n",
    "p2=plot(rx,rz,label=\"Noise observations\")\n",
    "p2=plot!(gx,gz,label=\"True state\")\n",
    "xlabel!(\"x\")\n",
    "ylabel!(\"z\")\n",
    "p3=plot(ry,rz,label=\"Noise observations\")\n",
    "p3=plot!(gy,gz,label=\"True state\")\n",
    "xlabel!(\"y\")\n",
    "ylabel!(\"z\")\n",
    "plot(p1, p2, p3, size = (800, 200),layout=(1,3))"
   ]
  },
  {
   "cell_type": "markdown",
   "metadata": {},
   "source": [
    "### Inference"
   ]
  },
  {
   "cell_type": "markdown",
   "metadata": {},
   "source": [
    "We use the following state-space model representation:\n",
    "\n",
    "$$\\begin{aligned}\n",
    "x_k \\sim p(x_k | x_{k-1}) \\\\\n",
    "y_k \\sim p(y_k | x_k).\n",
    "\\end{aligned}$$\n",
    "\n",
    "where $x_k \\sim p(x_k | x_{k-1})$ represents the hidden dynamics of our system. \n",
    "The hidden dynamics of the Lorenz system exhibit nonlinearities and hence cannot be solved in the closed form.\n",
    "One manner of solving this problem is by introducing a neural network to approximate the transition matrix of the Lorenz system. \n",
    "\n",
    "$$\\begin{aligned}\n",
    "A_{k-1}=NN(y_{k-1}) \\\\\n",
    "p(x_k | x_{k-1})=\\mathcal{N}(x_k | A_{k-1}x_{k-1}, Q) \\\\\n",
    "p(y_k | x_k)=\\mathcal{N}(y_k | Bx_k, R)\n",
    "\\end{aligned}$$\n",
    "\n",
    "where $NN$ is the neural network. The input is the observation $y_{k-1}$, and output is the trasition matrix $A_{k-1}$.\n",
    "$B$ denote distortion or measurment matrix. $Q$ and $R$ are covariance matrices. Note that the hidden state $x_k$ comprises three coordinates, i.e. $x_k = (rx_k, ry_k, rz_k)$"
   ]
  },
  {
   "cell_type": "code",
   "execution_count": null,
   "metadata": {},
   "outputs": [],
   "source": [
    "# Neural Network model\n",
    "mutable struct NN\n",
    "    InputLayer\n",
    "    OutputLater\n",
    "    g\n",
    "    params\n",
    "    function NN(W1,b1,W2_1,W2_2,b2,s2_1,W3,b3)\n",
    "        InputLayer = Dense(W1, b1, relu)\n",
    "        Lstm = LSTM(W2_1,W2_2,b2,s2_1)\n",
    "        OutputLayer = Dense(W3, b3)\n",
    "        g = Chain(InputLayer, OutputLayer);\n",
    "        new(InputLayer, OutputLayer, g, (W1,b1,W2_1,W2_2,b2,s2_1,W3,b3))\n",
    "    end\n",
    "end"
   ]
  },
  {
   "cell_type": "markdown",
   "metadata": {},
   "source": [
    "### Model specification\n",
    "Note that we treat the trasition matrix $A_{k-1}$ as time-varying."
   ]
  },
  {
   "cell_type": "code",
   "execution_count": null,
   "metadata": {},
   "outputs": [],
   "source": [
    "#State Space Model\n",
    "@model function ssm(n, As, Q::ConstVariable, B::ConstVariable, R::ConstVariable)\n",
    "    x = randomvar(n)\n",
    "    y = datavar(Vector{Float64}, n)\n",
    "    \n",
    "    x_prior_mean = zeros(3)\n",
    "    x_prior_cov  = Matrix(Diagonal(ones(3)))\n",
    "    \n",
    "    x[1] ~ MvNormalMeanCovariance(x_prior_mean, x_prior_cov)\n",
    "    y[1] ~ MvNormalMeanCovariance(B * x[1], R) where { q = q(mean)q(out)q(cov) }\n",
    "    \n",
    "    for i in 2:n\n",
    "        x[i] ~ MvNormalMeanCovariance(As[i - 1] * x[i - 1], Q) where { q = q(mean, out)q(cov) }\n",
    "        y[i] ~ MvNormalMeanCovariance(B * x[i], R) where { q = q(mean)q(out)q(cov) }\n",
    "    end\n",
    "    \n",
    "    return x, y\n",
    "end"
   ]
  },
  {
   "cell_type": "markdown",
   "metadata": {},
   "source": [
    "We set distortion matrix $B$ and the covariance matrices $Q$ and $R$ as identity matrix."
   ]
  },
  {
   "cell_type": "code",
   "execution_count": null,
   "metadata": {},
   "outputs": [],
   "source": [
    "Q = Matrix(Diagonal(ones(3)))*2\n",
    "B = Matrix(Diagonal(ones(3)))\n",
    "R = Matrix(Diagonal(ones(3)))\n",
    ";"
   ]
  },
  {
   "cell_type": "markdown",
   "metadata": {},
   "source": [
    "We use the *inference* function in the **RxInfer.jl**. Before that, we need to bulid a function to get the matrix $A$ output by the neural network. And the $A$ is treated as a datavar in the inference function."
   ]
  },
  {
   "cell_type": "code",
   "execution_count": null,
   "metadata": {},
   "outputs": [],
   "source": [
    "function get_matrix_AS(data,W1,b1,W2_1,W2_2,b2,s2_1,W3,b3)\n",
    "    n = length(data)\n",
    "    neural = NN(W1,b1,W2_1,W2_2,b2,s2_1,W3,b3)\n",
    "    Flux.reset!(neural)\n",
    "    As  = map((d) -> Matrix(Diagonal(neural.g(d))), data[1:end-1])\n",
    "    return As\n",
    "end"
   ]
  },
  {
   "cell_type": "markdown",
   "metadata": {},
   "source": [
    "The weights of neural network $NN$ are initialized as follows:"
   ]
  },
  {
   "cell_type": "code",
   "execution_count": null,
   "metadata": {},
   "outputs": [],
   "source": [
    "# Initial model parameters\n",
    "W1, b1 = randn(5,3)./100, randn(5)./100\n",
    "W2_1, W2_2, b2, s2_1, s2_2 = randn(5 * 4, 5)./100, randn(5 * 4, 5)./100, randn(5*4)./100, zeros(5), zeros(5)\n",
    "W3, b3 = randn(3,5)./100, randn(3)./100\n",
    ";"
   ]
  },
  {
   "cell_type": "markdown",
   "metadata": {},
   "source": [
    "Before network training, we show the inference results for the hidden states:"
   ]
  },
  {
   "cell_type": "code",
   "execution_count": null,
   "metadata": {},
   "outputs": [],
   "source": [
    "# Performance on an instance from the testset before training\n",
    "index = 1\n",
    "data=testset[index]\n",
    "n=length(data)\n",
    "result = inference(\n",
    "    model = ssm(n, get_matrix_AS(data,W1,b1,W2_1,W2_2,b2,s2_1,W3,b3),Q,B,R), \n",
    "    data  = (y = data, ), \n",
    "    returnvars = (x = KeepLast(), ),\n",
    "    free_energy = true\n",
    ")\n",
    "x_est=result.posteriors[:x]\n",
    "rx, ry, rz = zeros(100), zeros(100), zeros(100)\n",
    "rx_est_m, ry_est_m, rz_est_m = zeros(100), zeros(100), zeros(100)\n",
    "rx_est_var, ry_est_var, rz_est_var = zeros(100), zeros(100), zeros(100)\n",
    "\n",
    "for i=1:100\n",
    "    rx[i], ry[i], rz[i] = testset[index][i][1], testset[index][i][2], testset[index][i][3]\n",
    "    rx_est_m[i], ry_est_m[i], rz_est_m[i] = mean(x_est[i])[1], mean(x_est[i])[2], mean(x_est[i])[3]\n",
    "    rx_est_var[i], ry_est_var[i], rz_est_var[i] = var(x_est[i])[1], var(x_est[i])[2], var(x_est[i])[3]\n",
    "end\n",
    "\n",
    "p1 = plot(rx,label=\"Hidden state rx\")\n",
    "p1 = plot!(rx_est_m,label=\"Inferred states\", ribbon=rx_est_var)\n",
    "p1 = scatter!(first.(testset[index]), label=\"Observations\", markersize=1.0)\n",
    "\n",
    "p2 = plot(ry,label=\"Hidden state ry\")\n",
    "p2 = plot!(ry_est_m,label=\"Inferred states\", ribbon=ry_est_var)\n",
    "p2 = scatter!(getindex.(testset[index], 2), label=\"Observations\", markersize=1.0)\n",
    "\n",
    "p3 = plot(rz,label=\"Hidden state rz\")\n",
    "p3 = plot!(rz_est_m,label=\"Inferred states\", ribbon=rz_est_var)\n",
    "p3 = scatter!(last.(testset[index]), label=\"Observations\", markersize=1.0)\n",
    "\n",
    "\n",
    "plot(p1, p2, p3, size = (1000, 300))"
   ]
  },
  {
   "cell_type": "markdown",
   "metadata": {},
   "source": [
    "### Training network"
   ]
  },
  {
   "cell_type": "markdown",
   "metadata": {},
   "source": [
    "In this part, we use the Free Energy as the objective function to optimize the weights of network."
   ]
  },
  {
   "cell_type": "code",
   "execution_count": null,
   "metadata": {},
   "outputs": [],
   "source": [
    "# free energy objective to be optimized during training\n",
    "function fe_tot_est(W1,b1,W2_1,W2_2,b2,s2_1,W3,b3)\n",
    "    fe_ = 0\n",
    "    for train_instance in trainset\n",
    "        result = inference(\n",
    "            model = ssm(n, get_matrix_AS(train_instance,W1,b1,W2_1,W2_2,b2,s2_1,W3,b3),Q,B,R), \n",
    "            data  = (y = train_instance, ), \n",
    "            returnvars = (x = KeepLast(), ),\n",
    "            free_energy = true\n",
    "        )\n",
    "        fe_ += result.free_energy[end]\n",
    "    end\n",
    "    return fe_\n",
    "end"
   ]
  },
  {
   "cell_type": "markdown",
   "metadata": {},
   "source": [
    "# Training"
   ]
  },
  {
   "cell_type": "code",
   "execution_count": null,
   "metadata": {},
   "outputs": [],
   "source": [
    "# Training is a computationally expensive procedure, for the sake of an example we load pre-trained weights\n",
    "# Uncomment the following code to train the network manually\n",
    "# opt = Flux.Optimise.RMSProp(0.006, 0.95)\n",
    "# params = (W1,b1,W2_1,W2_2,b2,s2_1,W3,b3)\n",
    "# @showprogress for epoch in 1:800\n",
    "#     grads = ReverseDiff.gradient(fe_tot_est, params);\n",
    "#     for i=1:length(params)\n",
    "#         Flux.Optimise.update!(opt,params[i],grads[i])\n",
    "#     end\n",
    "# end"
   ]
  },
  {
   "cell_type": "markdown",
   "metadata": {},
   "source": [
    "### Test"
   ]
  },
  {
   "cell_type": "markdown",
   "metadata": {},
   "source": [
    "Import the weights of neural network that we have trained."
   ]
  },
  {
   "cell_type": "code",
   "execution_count": null,
   "metadata": {},
   "outputs": [],
   "source": [
    "W1a,b1a,W2_1a,W2_2a,b2a,s2_1a,W3,b3a = load(\"./data/nn_prediction/weights.jld\")[\"data\"];"
   ]
  },
  {
   "cell_type": "code",
   "execution_count": null,
   "metadata": {},
   "outputs": [],
   "source": [
    "# Performance on an instance from the testset after training\n",
    "index = 1\n",
    "data = testset[index]\n",
    "n = length(data)\n",
    "result = inference(\n",
    "    model = ssm(n, get_matrix_AS(data,W1a,b1a,W2_1a,W2_2a,b2a,s2_1a,W3,b3a),Q,B,R), \n",
    "    data  = (y = data, ), \n",
    "    returnvars = (x = KeepLast(), ),\n",
    "    free_energy = true\n",
    ")\n",
    "x_est=result.posteriors[:x]\n",
    "\n",
    "gx, gy, gz = zeros(100), zeros(100), zeros(100)\n",
    "rx, ry, rz = zeros(100), zeros(100), zeros(100)\n",
    "rx_est_m, ry_est_m, rz_est_m = zeros(100), zeros(100), zeros(100)\n",
    "rx_est_var, ry_est_var, rz_est_var = zeros(100), zeros(100), zeros(100)\n",
    "\n",
    "for i=1:100\n",
    "    gx[i], gy[i], gz[i] = noise_free_testset[index][i][1], noise_free_testset[index][i][2], noise_free_testset[index][i][3]\n",
    "    rx[i], ry[i], rz[i] = testset[index][i][1], testset[index][i][2], testset[index][i][3]\n",
    "    rx_est_m[i], ry_est_m[i], rz_est_m[i] = mean(x_est[i])[1], mean(x_est[i])[2], mean(x_est[i])[3]\n",
    "    rx_est_var[i], ry_est_var[i], rz_est_var[i] = var(x_est[i])[1], var(x_est[i])[2], var(x_est[i])[3]\n",
    "end\n",
    "\n",
    "p1 = plot(rx,label=\"Hidden state rx\")\n",
    "p1 = plot!(rx_est_m,label=\"Inferred states\", ribbon=rx_est_var)\n",
    "p1 = scatter!(first.(testset[index]), label=\"Observations\", markersize=1.0)\n",
    "\n",
    "p2 = plot(ry,label=\"Hidden state ry\")\n",
    "p2 = plot!(ry_est_m,label=\"Inferred states\", ribbon=ry_est_var)\n",
    "p2 = scatter!(getindex.(testset[index], 2), label=\"Observations\", markersize=1.0)\n",
    "\n",
    "p3 = plot(rz,label=\"Hidden state rz\")\n",
    "p3 = plot!(rz_est_m,label=\"Inferred states\", ribbon=rz_est_var)\n",
    "p3 = scatter!(last.(testset[index]), label=\"Observations\", markersize=1.0)\n",
    "\n",
    "plot(p1, p2, p3, size = (1000, 300))"
   ]
  },
  {
   "cell_type": "markdown",
   "metadata": {},
   "source": [
    "### Prediction"
   ]
  },
  {
   "cell_type": "markdown",
   "metadata": {},
   "source": [
    "In the above instances, the observations during whole time are available. For prediction task, we can only access to the  observations untill $k$ and estimate the future state at time $k+1$, $k+2$, $\\dots$,$k+T$."
   ]
  },
  {
   "cell_type": "markdown",
   "metadata": {},
   "source": [
    "We can still solve this problem by the trained neural network to approximate the transition matrix. And we can get the one-step prediction in the future. Then, the predicted results are feed into the neural network to generate the transition matrix for the next step, and roll into the future to get the multi-step prediction.\n",
    "\n",
    "$$\\begin{aligned}\n",
    "A_{k}=NN(x_{k}) \\\\\n",
    "p(x_{k+1} | x_{k})=\\mathcal{N}(x_{k+1} | A_{k}x_{k}, Q) \\\\\n",
    "\\end{aligned}$$"
   ]
  },
  {
   "cell_type": "code",
   "execution_count": null,
   "metadata": {},
   "outputs": [],
   "source": [
    "#Define the prediction function\n",
    "multiplyGaussian(A,m,V) = (A * m, A * V * transpose(A))\n",
    "sumGaussians(m1,m2,V1,V2) = (m1 + m2, V1 + V2)\n",
    "\n",
    "function runForward(A,B,Q,R,mh_old,Vh_old)\n",
    "    mh_1, Vh_1 = multiplyGaussian(A,mh_old,Vh_old)\n",
    "    mh_pred, Vh_pred = sumGaussians(mh_1, zeros(length(mh_old)), Vh_1, Q)\n",
    "end\n",
    "\n",
    "function g_predict(mh_old,Vh_old,Q)\n",
    "    neural = NN(W1a,b1a,W2_1a,W2_2a,b2a,s2_1a,W3,b3a)\n",
    "    # Flux.reset!(neural)\n",
    "    As  = map((d) -> Matrix(Diagonal(neural.g(d))), [mh_old])\n",
    "    As = As[1]\n",
    "    return runForward(As,B,Q,R,mh_old,Vh_old), As\n",
    "end"
   ]
  },
  {
   "cell_type": "markdown",
   "metadata": {},
   "source": [
    "After $k=75$, the observations are not available, and we predict the future state from $k=76$ to the end"
   ]
  },
  {
   "cell_type": "code",
   "execution_count": null,
   "metadata": {},
   "outputs": [],
   "source": [
    "tt = 75\n",
    "mh = mean(x_est[tt])\n",
    "Vh = cov(x_est[tt])\n",
    "mo_list, Vo_list, A_list = [], [], [] \n",
    "inv_Q = inv(Q)\n",
    "for t=1:100-tt\n",
    "    (mo, Vo), A_t = g_predict(mh,Vh,inv_Q)\n",
    "    push!(mo_list, mo)\n",
    "    push!(Vo_list, Vh)\n",
    "    push!(A_list, A_t)\n",
    "    global mh = mo\n",
    "    global Vh = Vo\n",
    "end\n"
   ]
  },
  {
   "cell_type": "code",
   "execution_count": null,
   "metadata": {},
   "outputs": [
    {
     "name": "stderr",
     "output_type": "stream",
     "text": [
      "\u001b[91m\u001b[1m┌ \u001b[22m\u001b[39m\u001b[91m\u001b[1mError: \u001b[22m\u001b[39mError watching manifest\n",
      "\u001b[91m\u001b[1m│ \u001b[22m\u001b[39m  exception =\n",
      "\u001b[91m\u001b[1m│ \u001b[22m\u001b[39m   MethodError: no method matching iterate(::RelocatableFolders.Path)\n",
      "\u001b[91m\u001b[1m│ \u001b[22m\u001b[39m   The applicable method may be too new: running in world age 33458, while current world is 33971.\n",
      "\u001b[91m\u001b[1m│ \u001b[22m\u001b[39m   \n",
      "\u001b[91m\u001b[1m│ \u001b[22m\u001b[39m   \u001b[0mClosest candidates are:\n",
      "\u001b[91m\u001b[1m│ \u001b[22m\u001b[39m   \u001b[0m  iterate(::RelocatableFolders.Path) (method too new to be called from this world context.)\n",
      "\u001b[91m\u001b[1m│ \u001b[22m\u001b[39m   \u001b[0m\u001b[90m   @\u001b[39m \u001b[36mRelocatableFolders\u001b[39m \u001b[90m~/.julia/packages/RelocatableFolders/xuLyx/src/\u001b[39m\u001b[90m\u001b[4mRelocatableFolders.jl:86\u001b[24m\u001b[39m\n",
      "\u001b[91m\u001b[1m│ \u001b[22m\u001b[39m   \u001b[0m  iterate(::RelocatableFolders.Path, \u001b[91m::Integer\u001b[39m) (method too new to be called from this world context.)\n",
      "\u001b[91m\u001b[1m│ \u001b[22m\u001b[39m   \u001b[0m\u001b[90m   @\u001b[39m \u001b[36mRelocatableFolders\u001b[39m \u001b[90m~/.julia/packages/RelocatableFolders/xuLyx/src/\u001b[39m\u001b[90m\u001b[4mRelocatableFolders.jl:87\u001b[24m\u001b[39m\n",
      "\u001b[91m\u001b[1m│ \u001b[22m\u001b[39m   \u001b[0m  iterate(::AbstractString, \u001b[91m::Integer\u001b[39m)\n",
      "\u001b[91m\u001b[1m│ \u001b[22m\u001b[39m   \u001b[0m\u001b[90m   @\u001b[39m \u001b[90mBase\u001b[39m \u001b[90mstrings/\u001b[39m\u001b[90m\u001b[4mbasic.jl:157\u001b[24m\u001b[39m\n",
      "\u001b[91m\u001b[1m│ \u001b[22m\u001b[39m   \u001b[0m  ...\n",
      "\u001b[91m\u001b[1m│ \u001b[22m\u001b[39m   \n",
      "\u001b[91m\u001b[1m│ \u001b[22m\u001b[39m   Stacktrace:\n",
      "\u001b[91m\u001b[1m│ \u001b[22m\u001b[39m    [1] top-level scope\n",
      "\u001b[91m\u001b[1m│ \u001b[22m\u001b[39m   \u001b[90m   @\u001b[39m \u001b[90m~/.julia/packages/Plots/esM5q/src/\u001b[39m\u001b[90m\u001b[4minit.jl:84\u001b[24m\u001b[39m\n",
      "\u001b[91m\u001b[1m│ \u001b[22m\u001b[39m   Revise evaluation error at /Users/bvdmitri/.julia/packages/Plots/esM5q/src/init.jl:84\n",
      "\u001b[91m\u001b[1m│ \u001b[22m\u001b[39m   \n",
      "\u001b[91m\u001b[1m│ \u001b[22m\u001b[39m   Stacktrace:\n",
      "\u001b[91m\u001b[1m│ \u001b[22m\u001b[39m    [1] \u001b[0m\u001b[1mmethods_by_execution!\u001b[22m\u001b[0m\u001b[1m(\u001b[22m\u001b[90mrecurse\u001b[39m::\u001b[0mAny, \u001b[90mmethodinfo\u001b[39m::\u001b[0mRevise.CodeTrackingMethodInfo, \u001b[90mdocexprs\u001b[39m::\u001b[0mDict\u001b[90m{Module, Vector{Expr}}\u001b[39m, \u001b[90mmod\u001b[39m::\u001b[0mModule, \u001b[90mex\u001b[39m::\u001b[0mExpr; \u001b[90mmode\u001b[39m::\u001b[0mSymbol, \u001b[90mdisablebp\u001b[39m::\u001b[0mBool, \u001b[90malways_rethrow\u001b[39m::\u001b[0mBool, \u001b[90mkwargs\u001b[39m::\u001b[0mBase.Pairs\u001b[90m{Symbol, Union{}, Tuple{}, NamedTuple{(), Tuple{}}}\u001b[39m\u001b[0m\u001b[1m)\u001b[22m\n",
      "\u001b[91m\u001b[1m│ \u001b[22m\u001b[39m   \u001b[90m   @\u001b[39m \u001b[32mRevise\u001b[39m \u001b[90m~/.julia/packages/Revise/Kw99o/src/\u001b[39m\u001b[90m\u001b[4mlowered.jl:227\u001b[24m\u001b[39m\n",
      "\u001b[91m\u001b[1m└ \u001b[22m\u001b[39m\u001b[90m@ Revise ~/.julia/packages/Revise/Kw99o/src/pkgs.jl:477\u001b[39m\n",
      "\u001b[91m\u001b[1m┌ \u001b[22m\u001b[39m\u001b[91m\u001b[1mError: \u001b[22m\u001b[39mError watching manifest\n",
      "\u001b[91m\u001b[1m│ \u001b[22m\u001b[39m  exception =\n",
      "\u001b[91m\u001b[1m│ \u001b[22m\u001b[39m   MethodError: no method matching iterate(::RelocatableFolders.Path)\n",
      "\u001b[91m\u001b[1m│ \u001b[22m\u001b[39m   The applicable method may be too new: running in world age 33458, while current world is 33972.\n",
      "\u001b[91m\u001b[1m│ \u001b[22m\u001b[39m   \n",
      "\u001b[91m\u001b[1m│ \u001b[22m\u001b[39m   \u001b[0mClosest candidates are:\n",
      "\u001b[91m\u001b[1m│ \u001b[22m\u001b[39m   \u001b[0m  iterate(::RelocatableFolders.Path) (method too new to be called from this world context.)\n",
      "\u001b[91m\u001b[1m│ \u001b[22m\u001b[39m   \u001b[0m\u001b[90m   @\u001b[39m \u001b[36mRelocatableFolders\u001b[39m \u001b[90m~/.julia/packages/RelocatableFolders/xuLyx/src/\u001b[39m\u001b[90m\u001b[4mRelocatableFolders.jl:86\u001b[24m\u001b[39m\n",
      "\u001b[91m\u001b[1m│ \u001b[22m\u001b[39m   \u001b[0m  iterate(::RelocatableFolders.Path, \u001b[91m::Integer\u001b[39m) (method too new to be called from this world context.)\n",
      "\u001b[91m\u001b[1m│ \u001b[22m\u001b[39m   \u001b[0m\u001b[90m   @\u001b[39m \u001b[36mRelocatableFolders\u001b[39m \u001b[90m~/.julia/packages/RelocatableFolders/xuLyx/src/\u001b[39m\u001b[90m\u001b[4mRelocatableFolders.jl:87\u001b[24m\u001b[39m\n",
      "\u001b[91m\u001b[1m│ \u001b[22m\u001b[39m   \u001b[0m  iterate(::AbstractString, \u001b[91m::Integer\u001b[39m)\n",
      "\u001b[91m\u001b[1m│ \u001b[22m\u001b[39m   \u001b[0m\u001b[90m   @\u001b[39m \u001b[90mBase\u001b[39m \u001b[90mstrings/\u001b[39m\u001b[90m\u001b[4mbasic.jl:157\u001b[24m\u001b[39m\n",
      "\u001b[91m\u001b[1m│ \u001b[22m\u001b[39m   \u001b[0m  ...\n",
      "\u001b[91m\u001b[1m│ \u001b[22m\u001b[39m   \n",
      "\u001b[91m\u001b[1m│ \u001b[22m\u001b[39m   Stacktrace:\n",
      "\u001b[91m\u001b[1m│ \u001b[22m\u001b[39m    [1] top-level scope\n",
      "\u001b[91m\u001b[1m│ \u001b[22m\u001b[39m   \u001b[90m   @\u001b[39m \u001b[90m~/.julia/packages/Plots/esM5q/src/\u001b[39m\u001b[90m\u001b[4minit.jl:84\u001b[24m\u001b[39m\n",
      "\u001b[91m\u001b[1m│ \u001b[22m\u001b[39m   Revise evaluation error at /Users/bvdmitri/.julia/packages/Plots/esM5q/src/init.jl:84\n",
      "\u001b[91m\u001b[1m│ \u001b[22m\u001b[39m   \n",
      "\u001b[91m\u001b[1m│ \u001b[22m\u001b[39m   Stacktrace:\n",
      "\u001b[91m\u001b[1m│ \u001b[22m\u001b[39m    [1] \u001b[0m\u001b[1mmethods_by_execution!\u001b[22m\u001b[0m\u001b[1m(\u001b[22m\u001b[90mrecurse\u001b[39m::\u001b[0mAny, \u001b[90mmethodinfo\u001b[39m::\u001b[0mRevise.CodeTrackingMethodInfo, \u001b[90mdocexprs\u001b[39m::\u001b[0mDict\u001b[90m{Module, Vector{Expr}}\u001b[39m, \u001b[90mmod\u001b[39m::\u001b[0mModule, \u001b[90mex\u001b[39m::\u001b[0mExpr; \u001b[90mmode\u001b[39m::\u001b[0mSymbol, \u001b[90mdisablebp\u001b[39m::\u001b[0mBool, \u001b[90malways_rethrow\u001b[39m::\u001b[0mBool, \u001b[90mkwargs\u001b[39m::\u001b[0mBase.Pairs\u001b[90m{Symbol, Union{}, Tuple{}, NamedTuple{(), Tuple{}}}\u001b[39m\u001b[0m\u001b[1m)\u001b[22m\n",
      "\u001b[91m\u001b[1m│ \u001b[22m\u001b[39m   \u001b[90m   @\u001b[39m \u001b[32mRevise\u001b[39m \u001b[90m~/.julia/packages/Revise/Kw99o/src/\u001b[39m\u001b[90m\u001b[4mlowered.jl:227\u001b[24m\u001b[39m\n",
      "\u001b[91m\u001b[1m└ \u001b[22m\u001b[39m\u001b[90m@ Revise ~/.julia/packages/Revise/Kw99o/src/pkgs.jl:477\u001b[39m\n",
      "\u001b[91m\u001b[1m┌ \u001b[22m\u001b[39m\u001b[91m\u001b[1mError: \u001b[22m\u001b[39mError watching manifest\n",
      "\u001b[91m\u001b[1m│ \u001b[22m\u001b[39m  exception =\n",
      "\u001b[91m\u001b[1m│ \u001b[22m\u001b[39m   MethodError: no method matching iterate(::RelocatableFolders.Path)\n",
      "\u001b[91m\u001b[1m│ \u001b[22m\u001b[39m   The applicable method may be too new: running in world age 33458, while current world is 33973.\n",
      "\u001b[91m\u001b[1m│ \u001b[22m\u001b[39m   \n",
      "\u001b[91m\u001b[1m│ \u001b[22m\u001b[39m   \u001b[0mClosest candidates are:\n",
      "\u001b[91m\u001b[1m│ \u001b[22m\u001b[39m   \u001b[0m  iterate(::RelocatableFolders.Path) (method too new to be called from this world context.)\n",
      "\u001b[91m\u001b[1m│ \u001b[22m\u001b[39m   \u001b[0m\u001b[90m   @\u001b[39m \u001b[36mRelocatableFolders\u001b[39m \u001b[90m~/.julia/packages/RelocatableFolders/xuLyx/src/\u001b[39m\u001b[90m\u001b[4mRelocatableFolders.jl:86\u001b[24m\u001b[39m\n",
      "\u001b[91m\u001b[1m│ \u001b[22m\u001b[39m   \u001b[0m  iterate(::RelocatableFolders.Path, \u001b[91m::Integer\u001b[39m) (method too new to be called from this world context.)\n",
      "\u001b[91m\u001b[1m│ \u001b[22m\u001b[39m   \u001b[0m\u001b[90m   @\u001b[39m \u001b[36mRelocatableFolders\u001b[39m \u001b[90m~/.julia/packages/RelocatableFolders/xuLyx/src/\u001b[39m\u001b[90m\u001b[4mRelocatableFolders.jl:87\u001b[24m\u001b[39m\n",
      "\u001b[91m\u001b[1m│ \u001b[22m\u001b[39m   \u001b[0m  iterate(::AbstractString, \u001b[91m::Integer\u001b[39m)\n",
      "\u001b[91m\u001b[1m│ \u001b[22m\u001b[39m   \u001b[0m\u001b[90m   @\u001b[39m \u001b[90mBase\u001b[39m \u001b[90mstrings/\u001b[39m\u001b[90m\u001b[4mbasic.jl:157\u001b[24m\u001b[39m\n",
      "\u001b[91m\u001b[1m│ \u001b[22m\u001b[39m   \u001b[0m  ...\n",
      "\u001b[91m\u001b[1m│ \u001b[22m\u001b[39m   \n",
      "\u001b[91m\u001b[1m│ \u001b[22m\u001b[39m   Stacktrace:\n",
      "\u001b[91m\u001b[1m│ \u001b[22m\u001b[39m    [1] top-level scope\n",
      "\u001b[91m\u001b[1m│ \u001b[22m\u001b[39m   \u001b[90m   @\u001b[39m \u001b[90m~/.julia/packages/Plots/esM5q/src/\u001b[39m\u001b[90m\u001b[4minit.jl:84\u001b[24m\u001b[39m\n",
      "\u001b[91m\u001b[1m│ \u001b[22m\u001b[39m   Revise evaluation error at /Users/bvdmitri/.julia/packages/Plots/esM5q/src/init.jl:84\n",
      "\u001b[91m\u001b[1m│ \u001b[22m\u001b[39m   \n",
      "\u001b[91m\u001b[1m│ \u001b[22m\u001b[39m   Stacktrace:\n",
      "\u001b[91m\u001b[1m│ \u001b[22m\u001b[39m    [1] \u001b[0m\u001b[1mmethods_by_execution!\u001b[22m\u001b[0m\u001b[1m(\u001b[22m\u001b[90mrecurse\u001b[39m::\u001b[0mAny, \u001b[90mmethodinfo\u001b[39m::\u001b[0mRevise.CodeTrackingMethodInfo, \u001b[90mdocexprs\u001b[39m::\u001b[0mDict\u001b[90m{Module, Vector{Expr}}\u001b[39m, \u001b[90mmod\u001b[39m::\u001b[0mModule, \u001b[90mex\u001b[39m::\u001b[0mExpr; \u001b[90mmode\u001b[39m::\u001b[0mSymbol, \u001b[90mdisablebp\u001b[39m::\u001b[0mBool, \u001b[90malways_rethrow\u001b[39m::\u001b[0mBool, \u001b[90mkwargs\u001b[39m::\u001b[0mBase.Pairs\u001b[90m{Symbol, Union{}, Tuple{}, NamedTuple{(), Tuple{}}}\u001b[39m\u001b[0m\u001b[1m)\u001b[22m\n",
      "\u001b[91m\u001b[1m│ \u001b[22m\u001b[39m   \u001b[90m   @\u001b[39m \u001b[32mRevise\u001b[39m \u001b[90m~/.julia/packages/Revise/Kw99o/src/\u001b[39m\u001b[90m\u001b[4mlowered.jl:227\u001b[24m\u001b[39m\n",
      "\u001b[91m\u001b[1m└ \u001b[22m\u001b[39m\u001b[90m@ Revise ~/.julia/packages/Revise/Kw99o/src/pkgs.jl:477\u001b[39m\n"
     ]
    }
   ],
   "source": [
    "# Prediction visualization\n",
    "rx, ry, rz = zeros(100), zeros(100), zeros(100)\n",
    "rx_est_m, ry_est_m, rz_est_m = zeros(100), zeros(100), zeros(100)\n",
    "rx_est_var, ry_est_var, rz_est_var = zeros(100), zeros(100), zeros(100)\n",
    "for i=1:tt\n",
    "    rx[i], ry[i], rz[i] = testset[index][i][1], testset[index][i][2], testset[index][i][3]\n",
    "    rx_est_m[i], ry_est_m[i], rz_est_m[i] = mean(x_est[i])[1], mean(x_est[i])[2], mean(x_est[i])[3]\n",
    "    rx_est_var[i], ry_est_var[i], rz_est_var[i] = var(x_est[i])[1], var(x_est[i])[2], var(x_est[i])[3]\n",
    "end\n",
    "for i=tt+1:100\n",
    "    ii=i-tt\n",
    "    rx[i], ry[i], rz[i] = testset[index][i][1], testset[index][i][2], testset[index][i][3]\n",
    "    rx_est_m[i], ry_est_m[i], rz_est_m[i] = mo_list[ii][1], mo_list[ii][2], mo_list[ii][3]\n",
    "    rx_est_var[i], ry_est_var[i], rz_est_var[i] = Vo_list[ii][1,1], Vo_list[ii][2,2], Vo_list[ii][3,3]\n",
    "end\n",
    "p1 = plot(rx,label=\"Ground truth rx\")\n",
    "p1 = plot!(rx_est_m,label=\"Inffered state rx\",ribbon=rx_est_var)\n",
    "p1 = scatter!(first.(testset[index][1:tt]), label=\"Observations\", markersize=1.0)\n",
    "\n",
    "p2 = plot(ry,label=\"Ground truth ry\")\n",
    "p2 = plot!(ry_est_m,label=\"Inferred states\", ribbon=ry_est_var)\n",
    "p2 = scatter!(getindex.(testset[index][1:tt], 2), label=\"Observations\", markersize=1.0)\n",
    "\n",
    "p3 = plot(rz,label=\"Ground truth rz\")\n",
    "p3 = plot!(rz_est_m,label=\"Inferred states\", ribbon=rz_est_var)\n",
    "p3 = scatter!(last.(testset[index][1:tt]), label=\"Observations\", markersize=1.0)\n",
    "\n",
    "\n",
    "plot(p1, p2, p3, size = (1000, 300),legend=:bottomleft)"
   ]
  }
 ],
 "metadata": {
  "@webio": {
   "lastCommId": null,
   "lastKernelId": null
  },
  "kernelspec": {
   "display_name": "Julia 1.9.0",
   "language": "julia",
   "name": "julia-1.9"
  },
  "language_info": {
   "file_extension": ".jl",
   "mimetype": "application/julia",
   "name": "julia",
   "version": "1.9.0"
  }
 },
 "nbformat": 4,
 "nbformat_minor": 4
}
