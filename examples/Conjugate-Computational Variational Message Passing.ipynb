{
 "cells": [
  {
   "cell_type": "markdown",
   "metadata": {},
   "source": [
    "# Conjugate-Computational Variational Message Passing (CVI)"
   ]
  },
  {
   "cell_type": "code",
   "execution_count": null,
   "metadata": {},
   "outputs": [],
   "source": [
    "# Activate local environment, see `Project.toml`\n",
    "import Pkg; Pkg.activate(\".\"); Pkg.instantiate();"
   ]
  },
  {
   "cell_type": "code",
   "execution_count": null,
   "metadata": {},
   "outputs": [],
   "source": [
    "using RxInfer, Random, LinearAlgebra, Plots, Optimisers, Plots, StableRNGs, SpecialFunctions"
   ]
  },
  {
   "cell_type": "markdown",
   "metadata": {},
   "source": [
    "In this notebook, the usage of Conjugate-NonConjugate Variational Inference (CVI) will be described. The implementation of CVI follows the paper [Probabilistic programming with stochastic variational message passing](https://reader.elsevier.com/reader/sd/pii/S0888613X22000950?token=EFB22E01793BD0BF73EECC9702C315644969403BD44B13FA850E9F66C8A49E88C0D5C68A9AD03301C609DA443DB33F80&originRegion=eu-west-1&originCreation=20221027115856).\n",
    "\n",
    "This notebook will first describe an example in which CVI is used, then it discusses several limitations, followed by an explanation on how to extend upon CVI."
   ]
  },
  {
   "cell_type": "markdown",
   "metadata": {},
   "source": [
    "## An example: nonlinear dynamical system"
   ]
  },
  {
   "cell_type": "markdown",
   "metadata": {},
   "source": [
    "A group of researchers is performing a tracking experiment on some moving object along a 1-dimensional trajectory. The object is moving at a constant velocity, meaning that its position increases constantly over time. However, the researchers do not have access to the absolute position $z_t$ at time $t$. Instead they have access to the observed squared distance $y_t$ between the object and some reference point $s$. Because of budget cuts, the servo moving the object and the measurement devices are quite outdated and therefore lead to noisy measurements:"
   ]
  },
  {
   "cell_type": "code",
   "execution_count": null,
   "metadata": {},
   "outputs": [],
   "source": [
    "# data generating process\n",
    "nr_observations = 50\n",
    "reference_point = 53\n",
    "hidden_location = collect(1:nr_observations) + rand(StableRNG(124), NormalMeanVariance(0.0, sqrt(5)), nr_observations)\n",
    "measurements = (hidden_location .- reference_point).^2 + rand(MersenneTwister(124), NormalMeanVariance(0.0, 5), nr_observations);"
   ]
  },
  {
   "cell_type": "code",
   "execution_count": null,
   "metadata": {},
   "outputs": [],
   "source": [
    "# plot hidden location and reference frame\n",
    "p1 = plot(1:nr_observations, hidden_location, linewidth=3, legend=:topleft, label=\"hidden location\")\n",
    "hline!([reference_point], linewidth=3, label=\"reference point\")\n",
    "xlabel!(\"time [sec]\"), ylabel!(\"location [cm]\")\n",
    "\n",
    "# plot measurements\n",
    "p2 = scatter(1:nr_observations, measurements, linewidth=3, label=\"measurements\")\n",
    "xlabel!(\"time [sec]\"), ylabel!(\"squared distance [cm2]\")\n",
    "\n",
    "plot(p1, p2, size=(1200, 500))"
   ]
  },
  {
   "cell_type": "markdown",
   "metadata": {},
   "source": [
    "The researchers are interested in quantifying this noise and in tracking the unobserved location of the object. As a result of this uncertainty, the researchers employ a probabilistic modeling approach. They formulate the probabilistic model\n",
    "\n",
    "$$\\begin{aligned}\n",
    " p(\\tau) & = \\Gamma(\\tau \\mid \\alpha_{\\tau}, \\beta_{\\tau}),\\\\\n",
    " p(\\gamma) & = \\Gamma(\\gamma \\mid \\alpha_{\\gamma}, \\beta_{\\gamma}),\\\\\n",
    " p(z_t \\mid z_{t - 1}, \\tau) & = \\mathcal{N}(z_t \\mid z_{t - 1} + 1, \\tau^{-1}),\\\\\n",
    " p(y_t \\mid z_t, \\gamma) & = \\mathcal{N}(y_t \\mid (z_t - s)^2, \\gamma^{-1}),\n",
    "\\end{aligned}$$\n",
    "where the researchers put priors on the process and measurement noise parameters, $\\tau$ and $\\gamma$, respectively. They do this, because they do not know the accuracy of their devices.\n",
    "\n",
    "The researchers have recently heard of this cool probabilistic programming package `RxInfer.jl`. They decided to give it a try and create the above model as follows:"
   ]
  },
  {
   "cell_type": "code",
   "execution_count": null,
   "metadata": {},
   "outputs": [],
   "source": [
    "function compute_squared_distance(z)\n",
    "    (z - reference_point)^2\n",
    "end;"
   ]
  },
  {
   "cell_type": "code",
   "execution_count": null,
   "metadata": {},
   "outputs": [],
   "source": [
    "@model function measurement_model(nr_observations)\n",
    "\n",
    "    # allocate random variables and observations\n",
    "    z = randomvar(nr_observations)\n",
    "    y = datavar(Float64, nr_observations)\n",
    "\n",
    "    # set priors on precision parameters\n",
    "    τ ~ Gamma(shape = 1.0, rate = 1.0e-12)\n",
    "    γ ~ Gamma(shape = 1.0, rate = 1.0e-12)\n",
    "    \n",
    "    # specify estimate of initial location\n",
    "    z[1] ~ Normal(mean = 0, precision = τ)\n",
    "    y[1] ~ Normal(mean = compute_squared_distance(z[1]), precision = γ)\n",
    "\n",
    "    # loop over observations\n",
    "    for t in 2:nr_observations\n",
    "\n",
    "        # specify state transition model\n",
    "        z[t] ~ Normal(mean = z[t-1] + 1, precision = τ)\n",
    "\n",
    "        # specify non-linear observation model\n",
    "        y[t] ~ Normal(mean = compute_squared_distance(z[t]), precision = γ)\n",
    "        \n",
    "    end\n",
    "\n",
    "end"
   ]
  },
  {
   "cell_type": "markdown",
   "metadata": {},
   "source": [
    "But here is the problem, our `compute_squared_distance` function is already compelx enough such that the exact Bayesian inference is intractable in this model. But the researchers knew that the `RxInfer.jl` supports a various collection of approximation methods for exactly such cases. One of these approximations is called CVI. CVI allows us to perform probabilistic inference around the non-linear measurement function. In general, for any (non-)linear relationship `y = f(x1, x2, ..., xN)` CVI can be employed, by specifying the function `f` and by adding this relationship inside the `@model` macro as `y ~ f(x1, x2, ...,xN)`. The `@model` macro will generate a factor node with node function `p(y | x1, x2, ..., xN) = δ(y - f(x1, x2, ...,xN))`."
   ]
  },
  {
   "cell_type": "markdown",
   "metadata": {},
   "source": [
    "The use of this non-linearity requires us to specify that we would like to use CVI. This can be done by specifying the metadata using the `@meta` macro as:"
   ]
  },
  {
   "cell_type": "code",
   "execution_count": null,
   "metadata": {},
   "outputs": [],
   "source": [
    "@meta function measurement_meta(rng, nr_samples, nr_iterations, optimizer)\n",
    "    compute_squared_distance() -> CVI(rng, nr_samples, nr_iterations, optimizer)\n",
    "end;"
   ]
  },
  {
   "cell_type": "markdown",
   "metadata": {},
   "source": [
    "In general, for any (non-)linear function `f()`, CVI can be enabled with the `@meta` macro as:\n",
    "\n",
    "```julia\n",
    "@meta function model_meta(...)\n",
    "    f() -> CVI(args...)\n",
    "end\n",
    "```\n",
    "\n",
    "See `?CVI` for more information about the `args...`."
   ]
  },
  {
   "cell_type": "markdown",
   "metadata": {},
   "source": [
    "In our model, the `z` variables are connected to the non-linear node function. So in order to run probabilstic inference with `CVI` we need to enforce a constraint on the joint posterior distribution. Specifically, we need to create a factorization in which the variables that are directly connected to non-linearities are assumed to be independent from the rest of the variables.\n",
    "\n",
    "In the above example, we will assume the following posterior factorization:"
   ]
  },
  {
   "cell_type": "code",
   "execution_count": null,
   "metadata": {},
   "outputs": [],
   "source": [
    "@constraints function measurement_constraints()\n",
    "    q(z, τ, γ) = q(z)q(τ)q(γ)\n",
    "end;"
   ]
  },
  {
   "cell_type": "markdown",
   "metadata": {},
   "source": [
    "This constraint can be explained by the set of two constraints, one for getting CVI to run, and one for assuming a mean-field factorization around the normal node as \n",
    "```julia\n",
    "@constraints function posterior_constraints() begin\n",
    "    q(z, γ) = q(z)q(γ) # CVI\n",
    "    q(z, τ) = q(z)q(τ) # the mean-field assumption around normal node\n",
    "end\n",
    "```"
   ]
  },
  {
   "cell_type": "markdown",
   "metadata": {},
   "source": [
    "Because the engineers are using `RxInfer.jl`, they can automate the inference procedure. They track the inference performance using the Bethe free energy."
   ]
  },
  {
   "cell_type": "code",
   "execution_count": null,
   "metadata": {},
   "outputs": [],
   "source": [
    "results = inference(\n",
    "    model = measurement_model(nr_observations),\n",
    "    data = (y = measurements,),\n",
    "    iterations = 5,\n",
    "    free_energy = true,\n",
    "    returnvars = (z = KeepLast(),),\n",
    "    constraints = measurement_constraints(),\n",
    "    meta = measurement_meta(StableRNG(42), 100, 200, Optimisers.Descent(0.01)),\n",
    "    initmessages = (z = NormalMeanVariance(0, 5),),\n",
    "    initmarginals = (z = NormalMeanVariance(0, 5), τ = GammaShapeRate(1.0, 1.0e-12), γ = GammaShapeRate(1.0, 1.0e-12),),\n",
    ")"
   ]
  },
  {
   "cell_type": "code",
   "execution_count": null,
   "metadata": {},
   "outputs": [],
   "source": [
    "# plot estimates for location\n",
    "p1 = plot(collect(1:nr_observations), hidden_location, label = \"hidden location\", legend=:topleft, linewidth=3, color = :red)\n",
    "plot!(map(mean, results.posteriors[:z]), label = \"estimated location (±2σ)\", ribbon = map(x -> 2*std(x), results.posteriors[:z]), fillalpha=0.5, linewidth=3, color = :orange)\n",
    "xlabel!(\"time [sec]\"), ylabel!(\"location [cm]\")\n",
    "\n",
    "# plot Bethe free energy\n",
    "p2 = plot(results.free_energy, linewidth=3, label = \"\")\n",
    "xlabel!(\"iteration\"), ylabel!(\"Bethe free energy [nats]\")\n",
    "\n",
    "plot(p1, p2, size = (1200, 500))"
   ]
  },
  {
   "cell_type": "markdown",
   "metadata": {},
   "source": [
    "## Requirements"
   ]
  },
  {
   "cell_type": "markdown",
   "metadata": {},
   "source": [
    "There are several main requirements for the `CVI` procedure to satisfy:\n",
    "1. The `out` interface of the non-linearity must be independently factorized with respect to other variables in the model.\n",
    "2. The messages on input interfaces (`x1, x2, ..., xN`) are required to be from the exponential family of distributions.\n",
    "\n",
    "In `RxInfer`, you can satisfy the first requirement by using appropriate factor nodes (`Normal`, `Gamma`, `Bernoulli`, etc) and second requirement by specifying the `@constraints` macro. In general you can specify this procedure as\n",
    "\n",
    "```julia\n",
    "@model function model(...)\n",
    "    ...\n",
    "    y ~ f(x1, x2, ..., xN)\n",
    "    ... ~ Node2(z1,..., y, zM) # some node that is using the out interface of the non-linearity\n",
    "    ... \n",
    "end\n",
    "\n",
    "@constraints function constraints_meta() begin\n",
    "    q(y, z1, ..., zn) = q(y)q(z1,...,zM)\n",
    "    ...\n",
    "end;\n",
    "\n",
    "@meta function model_meta(...)\n",
    "    f() -> CVI(rng, nr_samples, nr_iterations, optimizer))\n",
    "end\n",
    "```\n",
    "\n",
    "Note that not all exponential family distributions are implemented."
   ]
  },
  {
   "cell_type": "markdown",
   "metadata": {},
   "source": [
    "## Extensions"
   ]
  },
  {
   "cell_type": "markdown",
   "metadata": {},
   "source": [
    "### Using a custom optimizer"
   ]
  },
  {
   "cell_type": "markdown",
   "metadata": {},
   "source": [
    "`CVI` only supports `Flux` optimizers out of the box.\n",
    "\n",
    "Below an explanation on how to extend to it to a custom optimizer."
   ]
  },
  {
   "cell_type": "markdown",
   "metadata": {},
   "source": [
    "Suppose we have `CustomDescent` structure which we want to use inside `CVI` for optimization."
   ]
  },
  {
   "cell_type": "markdown",
   "metadata": {},
   "source": [
    "To do so, we need to implement `ReactiveMP.cvi_update!(opt::CustomDescent, λ, ∇)`.\n",
    "\n",
    "`ReactiveMP.cvi_update!` incapsulates the gradient step:\n",
    "1. `opt` is used to select your optimizer structure\n",
    "2. `λ` is the current value\n",
    "3. `∇` is a gradient value computed inside `CVI`."
   ]
  },
  {
   "cell_type": "code",
   "execution_count": null,
   "metadata": {},
   "outputs": [],
   "source": [
    "struct CustomDescent \n",
    "    learning_rate::Float64\n",
    "end\n",
    "\n",
    "function ReactiveMP.cvi_update!(opt::CustomDescent, λ, ∇)\n",
    "    return vec(λ) - (opt.learning_rate .* vec(∇))\n",
    "end"
   ]
  },
  {
   "cell_type": "markdown",
   "metadata": {},
   "source": [
    "Let's try to apply it to a model:\n",
    "$$\\begin{aligned}\n",
    " p(x) & = \\mathcal{N}(0, 1),\\\\\n",
    " p(y_{i}\\mid x) & = \\mathcal{N}(y_i \\mid x^2, 1),\\\\\n",
    "\\end{aligned}$$"
   ]
  },
  {
   "cell_type": "markdown",
   "metadata": {},
   "source": [
    "Let's generate some synthetic data for the model"
   ]
  },
  {
   "cell_type": "code",
   "execution_count": null,
   "metadata": {},
   "outputs": [],
   "source": [
    "# generate data\n",
    "y = rand(StableRNG(123), NormalMeanVariance(19^2, 1), 1000)\n",
    "histogram(y)"
   ]
  },
  {
   "cell_type": "markdown",
   "metadata": {},
   "source": [
    "Again we can create the corresponding model as:"
   ]
  },
  {
   "cell_type": "code",
   "execution_count": null,
   "metadata": {},
   "outputs": [],
   "source": [
    "# specify non-linearity\n",
    "f(x) = x ^ 2\n",
    "\n",
    "# specify model\n",
    "@model function normal_square_model(nr_observations)\n",
    "\n",
    "    # allocate observations\n",
    "    y = datavar(Float64, nr_observations)\n",
    "\n",
    "    # describe prior on latent state\n",
    "    x ~ NormalMeanPrecision(0, 100)\n",
    "\n",
    "    # transform latent state\n",
    "    mean ~ f(x)\n",
    "\n",
    "    # observation model\n",
    "    y .~ NormalMeanVariance(mean, 1)\n",
    "\n",
    "end\n",
    "\n",
    "# specify meta\n",
    "@meta function normal_square_meta(rng, nr_samples, nr_iterations, optimizer)\n",
    "    f() ->  CVI(rng, nr_samples, nr_iterations, optimizer)\n",
    "end"
   ]
  },
  {
   "cell_type": "markdown",
   "metadata": {},
   "source": [
    "We will use the `inference` function from `ReactiveMP` to run inference, where we provide an instance of the `CustomDescent` structure in our `meta` macro function:"
   ]
  },
  {
   "cell_type": "markdown",
   "metadata": {},
   "source": [
    "**Side note**:\n",
    "To run the inference for this model, we do not need to init the message for `x` but with this initialization, the inference procedure is more stable."
   ]
  },
  {
   "cell_type": "code",
   "execution_count": null,
   "metadata": {},
   "outputs": [
    {
     "name": "stderr",
     "output_type": "stream",
     "text": [
      "\u001b[91m\u001b[1m┌ \u001b[22m\u001b[39m\u001b[91m\u001b[1mError: \u001b[22m\u001b[39mError watching manifest\n",
      "\u001b[91m\u001b[1m│ \u001b[22m\u001b[39m  exception =\n",
      "\u001b[91m\u001b[1m│ \u001b[22m\u001b[39m   MethodError: no method matching iterate(::RelocatableFolders.Path)\n",
      "\u001b[91m\u001b[1m│ \u001b[22m\u001b[39m   The applicable method may be too new: running in world age 33458, while current world is 33844.\n",
      "\u001b[91m\u001b[1m│ \u001b[22m\u001b[39m   \n",
      "\u001b[91m\u001b[1m│ \u001b[22m\u001b[39m   \u001b[0mClosest candidates are:\n",
      "\u001b[91m\u001b[1m│ \u001b[22m\u001b[39m   \u001b[0m  iterate(::RelocatableFolders.Path) (method too new to be called from this world context.)\n",
      "\u001b[91m\u001b[1m│ \u001b[22m\u001b[39m   \u001b[0m\u001b[90m   @\u001b[39m \u001b[36mRelocatableFolders\u001b[39m \u001b[90m~/.julia/packages/RelocatableFolders/xuLyx/src/\u001b[39m\u001b[90m\u001b[4mRelocatableFolders.jl:86\u001b[24m\u001b[39m\n",
      "\u001b[91m\u001b[1m│ \u001b[22m\u001b[39m   \u001b[0m  iterate(::RelocatableFolders.Path, \u001b[91m::Integer\u001b[39m) (method too new to be called from this world context.)\n",
      "\u001b[91m\u001b[1m│ \u001b[22m\u001b[39m   \u001b[0m\u001b[90m   @\u001b[39m \u001b[36mRelocatableFolders\u001b[39m \u001b[90m~/.julia/packages/RelocatableFolders/xuLyx/src/\u001b[39m\u001b[90m\u001b[4mRelocatableFolders.jl:87\u001b[24m\u001b[39m\n",
      "\u001b[91m\u001b[1m│ \u001b[22m\u001b[39m   \u001b[0m  iterate(::AbstractString, \u001b[91m::Integer\u001b[39m)\n",
      "\u001b[91m\u001b[1m│ \u001b[22m\u001b[39m   \u001b[0m\u001b[90m   @\u001b[39m \u001b[90mBase\u001b[39m \u001b[90mstrings/\u001b[39m\u001b[90m\u001b[4mbasic.jl:157\u001b[24m\u001b[39m\n",
      "\u001b[91m\u001b[1m│ \u001b[22m\u001b[39m   \u001b[0m  ...\n",
      "\u001b[91m\u001b[1m│ \u001b[22m\u001b[39m   \n",
      "\u001b[91m\u001b[1m│ \u001b[22m\u001b[39m   Stacktrace:\n",
      "\u001b[91m\u001b[1m│ \u001b[22m\u001b[39m    [1] top-level scope\n",
      "\u001b[91m\u001b[1m│ \u001b[22m\u001b[39m   \u001b[90m   @\u001b[39m \u001b[90m~/.julia/packages/Plots/esM5q/src/\u001b[39m\u001b[90m\u001b[4minit.jl:84\u001b[24m\u001b[39m\n",
      "\u001b[91m\u001b[1m│ \u001b[22m\u001b[39m   Revise evaluation error at /Users/bvdmitri/.julia/packages/Plots/esM5q/src/init.jl:84\n",
      "\u001b[91m\u001b[1m│ \u001b[22m\u001b[39m   \n",
      "\u001b[91m\u001b[1m│ \u001b[22m\u001b[39m   Stacktrace:\n",
      "\u001b[91m\u001b[1m│ \u001b[22m\u001b[39m    [1] \u001b[0m\u001b[1mmethods_by_execution!\u001b[22m\u001b[0m\u001b[1m(\u001b[22m\u001b[90mrecurse\u001b[39m::\u001b[0mAny, \u001b[90mmethodinfo\u001b[39m::\u001b[0mRevise.CodeTrackingMethodInfo, \u001b[90mdocexprs\u001b[39m::\u001b[0mDict\u001b[90m{Module, Vector{Expr}}\u001b[39m, \u001b[90mmod\u001b[39m::\u001b[0mModule, \u001b[90mex\u001b[39m::\u001b[0mExpr; \u001b[90mmode\u001b[39m::\u001b[0mSymbol, \u001b[90mdisablebp\u001b[39m::\u001b[0mBool, \u001b[90malways_rethrow\u001b[39m::\u001b[0mBool, \u001b[90mkwargs\u001b[39m::\u001b[0mBase.Pairs\u001b[90m{Symbol, Union{}, Tuple{}, NamedTuple{(), Tuple{}}}\u001b[39m\u001b[0m\u001b[1m)\u001b[22m\n",
      "\u001b[91m\u001b[1m│ \u001b[22m\u001b[39m   \u001b[90m   @\u001b[39m \u001b[33mRevise\u001b[39m \u001b[90m~/.julia/packages/Revise/Kw99o/src/\u001b[39m\u001b[90m\u001b[4mlowered.jl:227\u001b[24m\u001b[39m\n",
      "\u001b[91m\u001b[1m└ \u001b[22m\u001b[39m\u001b[90m@ Revise ~/.julia/packages/Revise/Kw99o/src/pkgs.jl:477\u001b[39m\n",
      "\u001b[91m\u001b[1m┌ \u001b[22m\u001b[39m\u001b[91m\u001b[1mError: \u001b[22m\u001b[39mError watching manifest\n",
      "\u001b[91m\u001b[1m│ \u001b[22m\u001b[39m  exception =\n",
      "\u001b[91m\u001b[1m│ \u001b[22m\u001b[39m   MethodError: no method matching iterate(::RelocatableFolders.Path)\n",
      "\u001b[91m\u001b[1m│ \u001b[22m\u001b[39m   The applicable method may be too new: running in world age 33458, while current world is 33845.\n",
      "\u001b[91m\u001b[1m│ \u001b[22m\u001b[39m   \n",
      "\u001b[91m\u001b[1m│ \u001b[22m\u001b[39m   \u001b[0mClosest candidates are:\n",
      "\u001b[91m\u001b[1m│ \u001b[22m\u001b[39m   \u001b[0m  iterate(::RelocatableFolders.Path) (method too new to be called from this world context.)\n",
      "\u001b[91m\u001b[1m│ \u001b[22m\u001b[39m   \u001b[0m\u001b[90m   @\u001b[39m \u001b[36mRelocatableFolders\u001b[39m \u001b[90m~/.julia/packages/RelocatableFolders/xuLyx/src/\u001b[39m\u001b[90m\u001b[4mRelocatableFolders.jl:86\u001b[24m\u001b[39m\n",
      "\u001b[91m\u001b[1m│ \u001b[22m\u001b[39m   \u001b[0m  iterate(::RelocatableFolders.Path, \u001b[91m::Integer\u001b[39m) (method too new to be called from this world context.)\n",
      "\u001b[91m\u001b[1m│ \u001b[22m\u001b[39m   \u001b[0m\u001b[90m   @\u001b[39m \u001b[36mRelocatableFolders\u001b[39m \u001b[90m~/.julia/packages/RelocatableFolders/xuLyx/src/\u001b[39m\u001b[90m\u001b[4mRelocatableFolders.jl:87\u001b[24m\u001b[39m\n",
      "\u001b[91m\u001b[1m│ \u001b[22m\u001b[39m   \u001b[0m  iterate(::AbstractString, \u001b[91m::Integer\u001b[39m)\n",
      "\u001b[91m\u001b[1m│ \u001b[22m\u001b[39m   \u001b[0m\u001b[90m   @\u001b[39m \u001b[90mBase\u001b[39m \u001b[90mstrings/\u001b[39m\u001b[90m\u001b[4mbasic.jl:157\u001b[24m\u001b[39m\n",
      "\u001b[91m\u001b[1m│ \u001b[22m\u001b[39m   \u001b[0m  ...\n",
      "\u001b[91m\u001b[1m│ \u001b[22m\u001b[39m   \n",
      "\u001b[91m\u001b[1m│ \u001b[22m\u001b[39m   Stacktrace:\n",
      "\u001b[91m\u001b[1m│ \u001b[22m\u001b[39m    [1] top-level scope\n",
      "\u001b[91m\u001b[1m│ \u001b[22m\u001b[39m   \u001b[90m   @\u001b[39m \u001b[90m~/.julia/packages/Plots/esM5q/src/\u001b[39m\u001b[90m\u001b[4minit.jl:84\u001b[24m\u001b[39m\n",
      "\u001b[91m\u001b[1m│ \u001b[22m\u001b[39m   Revise evaluation error at /Users/bvdmitri/.julia/packages/Plots/esM5q/src/init.jl:84\n",
      "\u001b[91m\u001b[1m│ \u001b[22m\u001b[39m   \n",
      "\u001b[91m\u001b[1m│ \u001b[22m\u001b[39m   Stacktrace:\n",
      "\u001b[91m\u001b[1m│ \u001b[22m\u001b[39m    [1] \u001b[0m\u001b[1mmethods_by_execution!\u001b[22m\u001b[0m\u001b[1m(\u001b[22m\u001b[90mrecurse\u001b[39m::\u001b[0mAny, \u001b[90mmethodinfo\u001b[39m::\u001b[0mRevise.CodeTrackingMethodInfo, \u001b[90mdocexprs\u001b[39m::\u001b[0mDict\u001b[90m{Module, Vector{Expr}}\u001b[39m, \u001b[90mmod\u001b[39m::\u001b[0mModule, \u001b[90mex\u001b[39m::\u001b[0mExpr; \u001b[90mmode\u001b[39m::\u001b[0mSymbol, \u001b[90mdisablebp\u001b[39m::\u001b[0mBool, \u001b[90malways_rethrow\u001b[39m::\u001b[0mBool, \u001b[90mkwargs\u001b[39m::\u001b[0mBase.Pairs\u001b[90m{Symbol, Union{}, Tuple{}, NamedTuple{(), Tuple{}}}\u001b[39m\u001b[0m\u001b[1m)\u001b[22m\n",
      "\u001b[91m\u001b[1m│ \u001b[22m\u001b[39m   \u001b[90m   @\u001b[39m \u001b[33mRevise\u001b[39m \u001b[90m~/.julia/packages/Revise/Kw99o/src/\u001b[39m\u001b[90m\u001b[4mlowered.jl:227\u001b[24m\u001b[39m\n",
      "\u001b[91m\u001b[1m└ \u001b[22m\u001b[39m\u001b[90m@ Revise ~/.julia/packages/Revise/Kw99o/src/pkgs.jl:477\u001b[39m\n",
      "\u001b[91m\u001b[1m┌ \u001b[22m\u001b[39m\u001b[91m\u001b[1mError: \u001b[22m\u001b[39mError watching manifest\n",
      "\u001b[91m\u001b[1m│ \u001b[22m\u001b[39m  exception =\n",
      "\u001b[91m\u001b[1m│ \u001b[22m\u001b[39m   MethodError: no method matching iterate(::RelocatableFolders.Path)\n",
      "\u001b[91m\u001b[1m│ \u001b[22m\u001b[39m   The applicable method may be too new: running in world age 33458, while current world is 33846.\n",
      "\u001b[91m\u001b[1m│ \u001b[22m\u001b[39m   \n",
      "\u001b[91m\u001b[1m│ \u001b[22m\u001b[39m   \u001b[0mClosest candidates are:\n",
      "\u001b[91m\u001b[1m│ \u001b[22m\u001b[39m   \u001b[0m  iterate(::RelocatableFolders.Path) (method too new to be called from this world context.)\n",
      "\u001b[91m\u001b[1m│ \u001b[22m\u001b[39m   \u001b[0m\u001b[90m   @\u001b[39m \u001b[36mRelocatableFolders\u001b[39m \u001b[90m~/.julia/packages/RelocatableFolders/xuLyx/src/\u001b[39m\u001b[90m\u001b[4mRelocatableFolders.jl:86\u001b[24m\u001b[39m\n",
      "\u001b[91m\u001b[1m│ \u001b[22m\u001b[39m   \u001b[0m  iterate(::RelocatableFolders.Path, \u001b[91m::Integer\u001b[39m) (method too new to be called from this world context.)\n",
      "\u001b[91m\u001b[1m│ \u001b[22m\u001b[39m   \u001b[0m\u001b[90m   @\u001b[39m \u001b[36mRelocatableFolders\u001b[39m \u001b[90m~/.julia/packages/RelocatableFolders/xuLyx/src/\u001b[39m\u001b[90m\u001b[4mRelocatableFolders.jl:87\u001b[24m\u001b[39m\n",
      "\u001b[91m\u001b[1m│ \u001b[22m\u001b[39m   \u001b[0m  iterate(::AbstractString, \u001b[91m::Integer\u001b[39m)\n",
      "\u001b[91m\u001b[1m│ \u001b[22m\u001b[39m   \u001b[0m\u001b[90m   @\u001b[39m \u001b[90mBase\u001b[39m \u001b[90mstrings/\u001b[39m\u001b[90m\u001b[4mbasic.jl:157\u001b[24m\u001b[39m\n",
      "\u001b[91m\u001b[1m│ \u001b[22m\u001b[39m   \u001b[0m  ...\n",
      "\u001b[91m\u001b[1m│ \u001b[22m\u001b[39m   \n",
      "\u001b[91m\u001b[1m│ \u001b[22m\u001b[39m   Stacktrace:\n",
      "\u001b[91m\u001b[1m│ \u001b[22m\u001b[39m    [1] top-level scope\n",
      "\u001b[91m\u001b[1m│ \u001b[22m\u001b[39m   \u001b[90m   @\u001b[39m \u001b[90m~/.julia/packages/Plots/esM5q/src/\u001b[39m\u001b[90m\u001b[4minit.jl:84\u001b[24m\u001b[39m\n",
      "\u001b[91m\u001b[1m│ \u001b[22m\u001b[39m   Revise evaluation error at /Users/bvdmitri/.julia/packages/Plots/esM5q/src/init.jl:84\n",
      "\u001b[91m\u001b[1m│ \u001b[22m\u001b[39m   \n",
      "\u001b[91m\u001b[1m│ \u001b[22m\u001b[39m   Stacktrace:\n",
      "\u001b[91m\u001b[1m│ \u001b[22m\u001b[39m    [1] \u001b[0m\u001b[1mmethods_by_execution!\u001b[22m\u001b[0m\u001b[1m(\u001b[22m\u001b[90mrecurse\u001b[39m::\u001b[0mAny, \u001b[90mmethodinfo\u001b[39m::\u001b[0mRevise.CodeTrackingMethodInfo, \u001b[90mdocexprs\u001b[39m::\u001b[0mDict\u001b[90m{Module, Vector{Expr}}\u001b[39m, \u001b[90mmod\u001b[39m::\u001b[0mModule, \u001b[90mex\u001b[39m::\u001b[0mExpr; \u001b[90mmode\u001b[39m::\u001b[0mSymbol, \u001b[90mdisablebp\u001b[39m::\u001b[0mBool, \u001b[90malways_rethrow\u001b[39m::\u001b[0mBool, \u001b[90mkwargs\u001b[39m::\u001b[0mBase.Pairs\u001b[90m{Symbol, Union{}, Tuple{}, NamedTuple{(), Tuple{}}}\u001b[39m\u001b[0m\u001b[1m)\u001b[22m\n",
      "\u001b[91m\u001b[1m│ \u001b[22m\u001b[39m   \u001b[90m   @\u001b[39m \u001b[33mRevise\u001b[39m \u001b[90m~/.julia/packages/Revise/Kw99o/src/\u001b[39m\u001b[90m\u001b[4mlowered.jl:227\u001b[24m\u001b[39m\n",
      "\u001b[91m\u001b[1m└ \u001b[22m\u001b[39m\u001b[90m@ Revise ~/.julia/packages/Revise/Kw99o/src/pkgs.jl:477\u001b[39m\n"
     ]
    }
   ],
   "source": [
    "res = inference(\n",
    "    model = normal_square_model(1000),\n",
    "    data = (y = y,),\n",
    "    iterations = 10,\n",
    "    free_energy = true,\n",
    "    initmessages = (x = NormalMeanVariance(0, 100),),\n",
    "    meta = normal_square_meta(StableRNG(123), 100, 100, CustomDescent(0.1))\n",
    ")\n",
    "\n",
    "mean(res.posteriors[:x][end])"
   ]
  },
  {
   "cell_type": "markdown",
   "metadata": {},
   "source": [
    "The mean inferred value of `x` is indeed close to `19`, which was used to generate the data. Inference is working! \n",
    "\n",
    "**Note**: \n",
    "$x^2$ can not be inverted; the sign information can be lost: -19 and 19 are both equally good solutions."
   ]
  }
 ],
 "metadata": {
  "kernelspec": {
   "display_name": "Julia 1.9.0",
   "language": "julia",
   "name": "julia-1.9"
  },
  "language_info": {
   "file_extension": ".jl",
   "mimetype": "application/julia",
   "name": "julia",
   "version": "1.9.0"
  }
 },
 "nbformat": 4,
 "nbformat_minor": 4
}
