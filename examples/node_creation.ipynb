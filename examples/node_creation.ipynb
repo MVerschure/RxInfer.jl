{
 "cells": [
  {
   "attachments": {},
   "cell_type": "markdown",
   "metadata": {},
   "source": [
    "# Creating your own custom nodes"
   ]
  },
  {
   "attachments": {},
   "cell_type": "markdown",
   "metadata": {},
   "source": [
    "Welcome to the `RxInfer` documentation on creating custom factor graph nodes. In `RxInfer`, factor nodes represent functional relationships between variables, also known as factors. Together, these factors define your probabilistic model. Quite often these factors represent distributions, denoting how a certain parameter affects another. However, other factors are also possible, such as ones specifying linear or non-linear relationships. `RxInfer` already supports a lot of factor nodes, however, depending on the problem that you are trying to solve, you may need to create a custom node that better fits the specific requirements of your model. This tutorial will guide you through the process of defining a custom node in `RxInfer`, step by step. By the end of this tutorial, you will be able to create your own custom node and integrate it into your model."
   ]
  },
  {
   "attachments": {},
   "cell_type": "markdown",
   "metadata": {},
   "source": [
    "To create a custom node in `RxInfer`, 4 steps are required:\n",
    "\n",
    "1. Create your custom node in `RxInfer` using the `@node` macro.\n",
    "2. Define the corresponding message passing update rules with the `@rule` macro. These rules specify how the node processes information in the form of messages, and how it communicates the results to adjacent parts of the model.\n",
    "3. Specify computations for marginal distributions of the relevant variables with the `@marginalrule` macro.\n",
    "4. Implement the computation of the Free Energy in a node with the `@average_energy` macro."
   ]
  },
  {
   "attachments": {},
   "cell_type": "markdown",
   "metadata": {},
   "source": [
    "Throughout this tutorial, we will create a node for the `Bernoulli` distribution. The `Bernoulli` distribution is a commonly used distribution in statistical modeling that is often used to model a binary outcome, such as a coin flip. By recreating this node, we will be able to demonstrate the process of creating a custom node, from notifying `RxInfer` of the nodes existence to implementing the required methods. While this tutorial focuses on the `Bernoulli` distribution, the principles can be applied to creating custom nodes for other distributions as well. So let's get started!"
   ]
  },
  {
   "attachments": {},
   "cell_type": "markdown",
   "metadata": {},
   "source": [
    "## Problem statement"
   ]
  },
  {
   "attachments": {},
   "cell_type": "markdown",
   "metadata": {},
   "source": [
    "Jane wants to determine whether a coin is a fair coin, meaning that is equally likely to land on heads or tails. In order to determine this, she will throw the coin $K=20$ times and write down how often it lands on heads and tails. The result of this experiment is a realization of the underlying stochastic process. Jane models the outcome of the experiment $x_k\\in\\{0,1\\}$ using the Bernoulli distribution as\n",
    "$$p(x_k \\mid \\pi) = \\mathrm{Ber}(x_k \\mid \\pi) = \\pi^{x_k} (1-\\pi)^{1-x_k},$$\n",
    "where $\\pi \\in[0,1]$ denotes the probability that she throws heads, also known as the success probability. Jane also has a prior belief (initial guess) about the value of $\\pi$ which she models using the Beta distribution as\n",
    "$$p(\\pi) = \\mathrm{Beta}(\\pi \\mid 4, 8).$$\n",
    "With this prior belief, the total probabilistic model that she has for this experiment is given by\n",
    "$$p(x_{1:K}, \\pi) = p(\\pi) \\prod_{k=1}^K p(x_k \\mid \\pi).$$\n",
    "\n",
    "Jane is interested in determining the fairness of the coin. Therefore she aims to infer (calculate) the posterior belief of $\\pi$, $p(\\pi \\mid x_{1:K})$, denoting how $\\pi$ is distributed after we have seen the data."
   ]
  },
  {
   "attachments": {},
   "cell_type": "markdown",
   "metadata": {},
   "source": [
    "## Step 1: Creating the custom node"
   ]
  },
  {
   "attachments": {},
   "cell_type": "markdown",
   "metadata": {},
   "source": [
    "> Note: In this example we will assume that the `Bernoulli` node and distribution do not yet exist."
   ]
  },
  {
   "attachments": {},
   "cell_type": "markdown",
   "metadata": {},
   "source": [
    "First things first, let's import `RxInfer`:"
   ]
  },
  {
   "cell_type": "code",
   "execution_count": 1,
   "metadata": {},
   "outputs": [],
   "source": [
    "using RxInfer"
   ]
  },
  {
   "attachments": {},
   "cell_type": "markdown",
   "metadata": {},
   "source": [
    "In order to define a custom node using the `@node` macro from `RxInfer`, we need the following three arguments:\n",
    "1. The name of the node. (`::Type`)\n",
    "2. Whether the node is `Deterministic` or `Stochastic`.\n",
    "3. The interfaces of the node and any potential aliases. (`::Vector`)"
   ]
  },
  {
   "attachments": {},
   "cell_type": "markdown",
   "metadata": {},
   "source": [
    "For the name of the node we wish to use `MyBernoulli` in this tutorial (`Bernoulli` already exists). However, the corresponding distribution does not yet exist. Therefore we need to specify it first as"
   ]
  },
  {
   "cell_type": "code",
   "execution_count": 2,
   "metadata": {},
   "outputs": [],
   "source": [
    "# struct for Bernoulli distribution with success probability π\n",
    "struct MyBernoulli{T <: Real} <: ContinuousUnivariateDistribution\n",
    "    π :: T\n",
    "    new(π :: Real) = 0 ≤ π ≤ 1 ? MyBernoulli(π) : throw(ArgumentError(\"π must be between 0 and 1\"))\t\n",
    "end\n",
    "\n",
    "# for simplicity, let's also specify the mean of the distribution\n",
    "Distributions.mean(d::MyBernoulli) = d.π"
   ]
  },
  {
   "attachments": {},
   "cell_type": "markdown",
   "metadata": {},
   "source": [
    "In this case the distribution also has an entry in the struct, however, this is not necessary as long as the name of the distribution is a `Type`. The custom node created with `struct NewNode end` would also work fine.\n",
    "\n",
    "For our node we are dealing with a stochastic node, because the node forms a probabilistic relationship. This means that for a given value of $\\pi$, we do know the corresponding value of the output, but we do have some belief about this. Deterministic nodes include for example linear and non-linear transformation.\n",
    "\n",
    "The interfaces specify what variables are connected to the node. The first argument is its output by convention. The ordering is important for both the model specification as the rule definition. As an example consider the `NormalMeanVariance` factor node. This factor node has interfaces `[out, μ, v]` and can be called in the model specification language as `x ~ NormalMeanVariance(μ, v)`. It is also possible to use aliases for the interfaces, which can be specified in a tuple as you will see below.\n",
    "\n",
    "Concluding, we can create the `MyBernoulli` factor node as"
   ]
  },
  {
   "cell_type": "code",
   "execution_count": 3,
   "metadata": {},
   "outputs": [],
   "source": [
    "@node MyBernoulli Stochastic [out, (π, aliases = [p])] "
   ]
  },
  {
   "attachments": {},
   "cell_type": "markdown",
   "metadata": {},
   "source": [
    "## Defining rules for our node"
   ]
  },
  {
   "attachments": {},
   "cell_type": "markdown",
   "metadata": {},
   "source": [
    "In order to use our custom node, we should tell `RxInfer` how to send messages. The operation that transforms incoming messages into outgoing messages is called an update rule, and can be specified with the `@rule` macro. Here, we rely on conjugate computations. This is how `RxInfer` achieves high performance; by applying conjugate update rules where possible we are able to significantly speed up inference. We should define, for all interfaces, the conjugate computations that update the interface. We will start with the `out` interface. We know that the `out` interface should be `MyBernoulli` distributed. There are two possibilities of the distribution of the `p` parameter: A `Beta` distribution (the conjugate prior to the `Bernoulli` distribution) or a `PointMass` distribution (if the parameter `p`) is known. "
   ]
  },
  {
   "attachments": {},
   "cell_type": "markdown",
   "metadata": {},
   "source": [
    "For the case of a `Beta` message coming into our node, the outgoing message will be the predictive posterior of the `Bernoulli` distribution with a `Beta` prior. Here we obtain $ p = \\frac{\\alpha}{\\alpha + \\beta}$, which coincides with the mean of the `Beta` distribution. Hence, we have our first update rule:"
   ]
  },
  {
   "cell_type": "code",
   "execution_count": 4,
   "metadata": {},
   "outputs": [],
   "source": [
    "@rule MyBernoulli(:out, Marginalisation) (m_p :: Beta,) = MyBernoulli(mean(m_p)) "
   ]
  },
  {
   "attachments": {},
   "cell_type": "markdown",
   "metadata": {},
   "source": [
    "Here, `m_p` is shorthand for \"the sum-product message with input message for interface `p`\". As we will see later, the structured approximation update rule for incoming message from `p` will have `q_p` as parameter.\n",
    "\n",
    "The second rule is also straightforward; if `p` is known the outgoing message will be `MyBernoulli(p)`:"
   ]
  },
  {
   "cell_type": "code",
   "execution_count": 5,
   "metadata": {},
   "outputs": [],
   "source": [
    "@rule MyBernoulli(:out, Marginalisation) (m_p :: PointMass,) = MyBernoulli(mean(m_p))"
   ]
  },
  {
   "attachments": {},
   "cell_type": "markdown",
   "metadata": {},
   "source": [
    "Continuing with the sum-product update rules, we now have to define the update rules towards the `p` interface. We can only do exact inference if the incoming message is known, which in the case of the `Bernoulli` distribution, means that the `out` message is a `PointMass` distribution that is either `0` or `1`. The updated Beta distribution for `p` will be:\n",
    "$$ p \\sim Beta(1 + out, 2 - out)$$\n",
    "Which gives us the following update rule:"
   ]
  },
  {
   "cell_type": "code",
   "execution_count": 6,
   "metadata": {},
   "outputs": [],
   "source": [
    "@rule MyBernoulli(:π, Marginalisation) (m_out :: PointMass,) = begin\n",
    "    p = mean(m_out)\n",
    "    Beta(one(p) + p, 2one(p) - p)\n",
    "end"
   ]
  },
  {
   "attachments": {},
   "cell_type": "markdown",
   "metadata": {},
   "source": [
    "We will now cover our second set of update rules. The previously defined rules only work if computations related to our custom node are conjugate. However, if computations are not conjugate, we need to use a different learning strategy. In this case, we rely on updating based on the marginal distributions of incoming variables. There is a subtle difference between the incoming message from a node and the marginal distribution of that variable. The marginal distribution is the product of the incoming and outgoing message of that variable. However, since we are updating the outgoing messages, the outgoing messages we use in the computation of the marginal distribution are an approximation, and hence we obtain an approximate marginal. By iteratively updating our estimates of the outgoing messages and marginals, we get increasingly better approximations to the true posterior marginals. Update rules that operate on the marginals instead of the incoming messages are specified with the `q_{interface}` parameter name. With these update rules, we can support a slightly wider family of distributions. In this tutorial, we will only cover how to define these rules and not delve into the computations of these messages."
   ]
  },
  {
   "cell_type": "code",
   "execution_count": 7,
   "metadata": {},
   "outputs": [],
   "source": [
    "#rules towards out\n",
    "\n",
    "@rule MyBernoulli(:out, Marginalisation) (q_π::PointMass,) = Bernoulli(mean(q_π))\n",
    "\n",
    "@rule MyBernoulli(:out, Marginalisation) (q_π::Beta,) = Bernoulli(mean(q_π))\n",
    "\n",
    "#rules towards p\n",
    "@rule MyBernoulli(:π, Marginalisation) (q_out :: PointMass,) = begin\n",
    "    p = mean(q_out)\n",
    "    Beta(one(p) + p, 2one(p) - p)\n",
    "end\n",
    "\n",
    "\n",
    "@rule MyBernoulli(:π, Marginalisation) (q_out::MyBernoulli,) = begin\n",
    "    p = mean(q_out)\n",
    "    return Beta(one(p) + p, 2one(p) - p)\n",
    "end\n",
    "\n",
    "@rule MyBernoulli(:π, Marginalisation) (q_out::Categorical,) = begin\n",
    "    p = probvec(q_out)\n",
    "    @assert length(p) == 2 \"MyBernoulli is only defined over its support {0,1}. It has received a Categorical message that does not have 2 categories.\"\n",
    "    r = p[2]\n",
    "    return Beta(one(r) + r, 2one(r) - r)\n",
    "end"
   ]
  },
  {
   "attachments": {},
   "cell_type": "markdown",
   "metadata": {},
   "source": [
    "## Defining marginals for our node"
   ]
  },
  {
   "attachments": {},
   "cell_type": "markdown",
   "metadata": {},
   "source": [
    "To calculate the updated posterior marginal for our custom distribution, we need to provide the posterior marginals for the interfaces of our node in a `NamedTuple`. In our case, the posterior marginal for the observation is still the same `PointMass` distribution. However, to calculate the posterior marginal over `p`, we use `RxInfer`'s built-in `prod` functionality to multiply the `Beta` prior with the `Beta` likelihood. This gives us the updated posterior distribution, which is also a `Beta` distribution. We use `ProdAnalytical()` parameter to ensure that we multiply the two distributions analytically. This is done as follows:"
   ]
  },
  {
   "cell_type": "code",
   "execution_count": 8,
   "metadata": {},
   "outputs": [],
   "source": [
    "@marginalrule Bernoulli(:out_π) (m_out::PointMass, m_π::Beta) = begin\n",
    "    r = mean(m_out)\n",
    "    p = prod(ProdAnalytical(), Beta(one(r) + r, 2one(r) - r), m_π)\n",
    "    return (out = m_out, p = p)\n",
    "end"
   ]
  },
  {
   "attachments": {},
   "cell_type": "markdown",
   "metadata": {},
   "source": [
    "## Defining the average energy for our node"
   ]
  },
  {
   "attachments": {},
   "cell_type": "markdown",
   "metadata": {},
   "source": [
    "Free Energy Minimization is performed by `RxInfer` when exact posterior distributions cannot be derived, which is almost always the case except for full conjugacy. In order to compute the Free Energy, `RxInfer` has to know how to compute a quantity known as the Average Energy, which is a component of the Free Energy in a node. The calculation of the Free Energy in nodes is critical in approximating the Free Energy in a model, which is the quantity we aim to minimize. The Average Energy of a distribution $f(\\bar{x})$ is defined as:\n",
    "$$ \\mathbb{E}_{q(\\bar{x})}\\left[ \\log f(\\bar{x}\\right]$$\n",
    "In our `Bernoulli` example, $f(p, x) = p^{x} * (1-p)^{1-x}$, so we have that $\\log f(p, x) = x \\cdot \\log p + (1-x) \\log [1-p]$. The expectation under $q(p, x) = q(p)q(x)$ is then equal to:\n",
    "$$ \\mathbb{E}_{q(p, x)}\\left[ \\mathbb{E}_{q(x)}[x] * \\mathbb{E}_{q(p)}[\\log{p}] + (1 - \\mathbb{E}_{q(x)}[x]) *\\mathbb{E}_{q(p)}[1-\\log{p}]\\right]$$\n",
    "Which is what we implemented below. Note that `mean(mirrorlog, q(x))` is equal to $\\mathbb{E}_{q(x)}[1-\\log{x}]$."
   ]
  },
  {
   "cell_type": "code",
   "execution_count": 9,
   "metadata": {},
   "outputs": [],
   "source": [
    "@average_energy Bernoulli (q_out::Any, q_π::Any) = -mean(q_out) * mean(log, q_π) - (1.0 - mean(q_out)) * mean(mirrorlog, q_π)"
   ]
  },
  {
   "attachments": {},
   "cell_type": "markdown",
   "metadata": {},
   "source": [
    "## Using our node in a model"
   ]
  },
  {
   "attachments": {},
   "cell_type": "markdown",
   "metadata": {},
   "source": [
    "With all the necessary functions defined, we can proceed to test our custom node in an experiment. For this experiment, we will generate a dataset from a Bernoulli distribution with a fixed success probability of 0.75. Next, we will define a probabilistic model that has a `Beta` prior and a `MyBernoulli` likelihood. The `Beta` prior will be used to model our prior belief about the probability of success. The MyBernoulli likelihood will be used to model the generative process of the observed data. We start by generating the dataset:"
   ]
  },
  {
   "cell_type": "code",
   "execution_count": 10,
   "metadata": {},
   "outputs": [],
   "source": [
    "using Random\n",
    "\n",
    "rng = MersenneTwister(42)\n",
    "n = 500\n",
    "p_real = 0.75\n",
    "distribution = Bernoulli(p_real)\n",
    "\n",
    "dataset = float.(rand(rng, distribution, n));"
   ]
  },
  {
   "attachments": {},
   "cell_type": "markdown",
   "metadata": {},
   "source": [
    "Next, we define our model. Note that we use the `MyBernoulli` node in the model. The model consists of a single latent variable `p`, which has a `Beta` prior and is the parameter of the `MyBernoulli` likelihood. The `MyBernoulli` node takes the value of `p` as its parameter and returns a binary observation. We set the hyperparameters of the `Beta` prior to be 4 and 8, respectively, which correspond to a distribution slightly biased towards higher values of `p`. The model is defined as follows:"
   ]
  },
  {
   "cell_type": "code",
   "execution_count": 11,
   "metadata": {},
   "outputs": [],
   "source": [
    "@model function coin_model_mybernoulli(n)\n",
    "\n",
    "    # `datavar` creates data 'inputs' in our model\n",
    "    y = datavar(Float64, n)\n",
    "\n",
    "    # We endow θ parameter of our model with some prior\n",
    "    π ~ Beta(4.0, 8.0)\n",
    "\n",
    "    # We assume that outcome of each coin flip is governed by the MyBernoulli distribution\n",
    "    for i in 1:n\n",
    "        y[i] ~ MyBernoulli(π)\n",
    "    end\n",
    "\n",
    "end"
   ]
  },
  {
   "attachments": {},
   "cell_type": "markdown",
   "metadata": {},
   "source": [
    "Finally, we can run inference with this model and the generated dataset:"
   ]
  },
  {
   "cell_type": "code",
   "execution_count": 12,
   "metadata": {},
   "outputs": [
    {
     "data": {
      "text/plain": [
       "Inference results:\n",
       "  Posteriors       | available for (π)\n"
      ]
     },
     "execution_count": 12,
     "metadata": {},
     "output_type": "execute_result"
    }
   ],
   "source": [
    "result_mybernoulli = inference(\n",
    "    model = coin_model_mybernoulli(length(dataset)), \n",
    "    data  = (y = dataset, ),\n",
    ")"
   ]
  },
  {
   "attachments": {},
   "cell_type": "markdown",
   "metadata": {},
   "source": [
    "We have now completed our experiment and obtained the posterior marginal distribution for p through inference. To evaluate the performance of our inference, we can compare the estimated posterior to the true value. In our experiment, the true value for p is 0.75, and we can see that the estimated posterior has a mean of approximately 0.713, which shows that our custom node was able to succesfully pass messages towards the `p` variable in order to learn the true value of the parameter."
   ]
  },
  {
   "cell_type": "code",
   "execution_count": 14,
   "metadata": {},
   "outputs": [
    {
     "data": {
      "image/svg+xml": [
       "<?xml version=\"1.0\" encoding=\"utf-8\"?>\n",
       "<svg xmlns=\"http://www.w3.org/2000/svg\" xmlns:xlink=\"http://www.w3.org/1999/xlink\" width=\"600\" height=\"400\" viewBox=\"0 0 2400 1600\">\n",
       "<defs>\n",
       "  <clipPath id=\"clip990\">\n",
       "    <rect x=\"0\" y=\"0\" width=\"2400\" height=\"1600\"/>\n",
       "  </clipPath>\n",
       "</defs>\n",
       "<path clip-path=\"url(#clip990)\" d=\"\n",
       "M0 1600 L2400 1600 L2400 0 L0 0  Z\n",
       "  \" fill=\"#ffffff\" fill-rule=\"evenodd\" fill-opacity=\"1\"/>\n",
       "<defs>\n",
       "  <clipPath id=\"clip991\">\n",
       "    <rect x=\"480\" y=\"0\" width=\"1681\" height=\"1600\"/>\n",
       "  </clipPath>\n",
       "</defs>\n",
       "<path clip-path=\"url(#clip990)\" d=\"\n",
       "M140.696 1486.45 L2352.76 1486.45 L2352.76 123.472 L140.696 123.472  Z\n",
       "  \" fill=\"#ffffff\" fill-rule=\"evenodd\" fill-opacity=\"1\"/>\n",
       "<defs>\n",
       "  <clipPath id=\"clip992\">\n",
       "    <rect x=\"140\" y=\"123\" width=\"2213\" height=\"1364\"/>\n",
       "  </clipPath>\n",
       "</defs>\n",
       "<polyline clip-path=\"url(#clip992)\" style=\"stroke:#000000; stroke-linecap:round; stroke-linejoin:round; stroke-width:2; stroke-opacity:0.1; fill:none\" points=\"\n",
       "  203.301,1486.45 203.301,123.472 \n",
       "  \"/>\n",
       "<polyline clip-path=\"url(#clip992)\" style=\"stroke:#000000; stroke-linecap:round; stroke-linejoin:round; stroke-width:2; stroke-opacity:0.1; fill:none\" points=\"\n",
       "  725.013,1486.45 725.013,123.472 \n",
       "  \"/>\n",
       "<polyline clip-path=\"url(#clip992)\" style=\"stroke:#000000; stroke-linecap:round; stroke-linejoin:round; stroke-width:2; stroke-opacity:0.1; fill:none\" points=\"\n",
       "  1246.73,1486.45 1246.73,123.472 \n",
       "  \"/>\n",
       "<polyline clip-path=\"url(#clip992)\" style=\"stroke:#000000; stroke-linecap:round; stroke-linejoin:round; stroke-width:2; stroke-opacity:0.1; fill:none\" points=\"\n",
       "  1768.44,1486.45 1768.44,123.472 \n",
       "  \"/>\n",
       "<polyline clip-path=\"url(#clip992)\" style=\"stroke:#000000; stroke-linecap:round; stroke-linejoin:round; stroke-width:2; stroke-opacity:0.1; fill:none\" points=\"\n",
       "  2290.15,1486.45 2290.15,123.472 \n",
       "  \"/>\n",
       "<polyline clip-path=\"url(#clip990)\" style=\"stroke:#000000; stroke-linecap:round; stroke-linejoin:round; stroke-width:4; stroke-opacity:1; fill:none\" points=\"\n",
       "  140.696,1486.45 2352.76,1486.45 \n",
       "  \"/>\n",
       "<polyline clip-path=\"url(#clip990)\" style=\"stroke:#000000; stroke-linecap:round; stroke-linejoin:round; stroke-width:4; stroke-opacity:1; fill:none\" points=\"\n",
       "  203.301,1486.45 203.301,1467.55 \n",
       "  \"/>\n",
       "<polyline clip-path=\"url(#clip990)\" style=\"stroke:#000000; stroke-linecap:round; stroke-linejoin:round; stroke-width:4; stroke-opacity:1; fill:none\" points=\"\n",
       "  725.013,1486.45 725.013,1467.55 \n",
       "  \"/>\n",
       "<polyline clip-path=\"url(#clip990)\" style=\"stroke:#000000; stroke-linecap:round; stroke-linejoin:round; stroke-width:4; stroke-opacity:1; fill:none\" points=\"\n",
       "  1246.73,1486.45 1246.73,1467.55 \n",
       "  \"/>\n",
       "<polyline clip-path=\"url(#clip990)\" style=\"stroke:#000000; stroke-linecap:round; stroke-linejoin:round; stroke-width:4; stroke-opacity:1; fill:none\" points=\"\n",
       "  1768.44,1486.45 1768.44,1467.55 \n",
       "  \"/>\n",
       "<polyline clip-path=\"url(#clip990)\" style=\"stroke:#000000; stroke-linecap:round; stroke-linejoin:round; stroke-width:4; stroke-opacity:1; fill:none\" points=\"\n",
       "  2290.15,1486.45 2290.15,1467.55 \n",
       "  \"/>\n",
       "<path clip-path=\"url(#clip990)\" d=\"M165.604 1517.37 Q161.993 1517.37 160.165 1520.93 Q158.359 1524.47 158.359 1531.6 Q158.359 1538.71 160.165 1542.27 Q161.993 1545.82 165.604 1545.82 Q169.239 1545.82 171.044 1542.27 Q172.873 1538.71 172.873 1531.6 Q172.873 1524.47 171.044 1520.93 Q169.239 1517.37 165.604 1517.37 M165.604 1513.66 Q171.415 1513.66 174.47 1518.27 Q177.549 1522.85 177.549 1531.6 Q177.549 1540.33 174.47 1544.94 Q171.415 1549.52 165.604 1549.52 Q159.794 1549.52 156.716 1544.94 Q153.66 1540.33 153.66 1531.6 Q153.66 1522.85 156.716 1518.27 Q159.794 1513.66 165.604 1513.66 Z\" fill=\"#000000\" fill-rule=\"evenodd\" fill-opacity=\"1\" /><path clip-path=\"url(#clip990)\" d=\"M185.766 1542.97 L190.651 1542.97 L190.651 1548.85 L185.766 1548.85 L185.766 1542.97 Z\" fill=\"#000000\" fill-rule=\"evenodd\" fill-opacity=\"1\" /><path clip-path=\"url(#clip990)\" d=\"M210.836 1517.37 Q207.225 1517.37 205.396 1520.93 Q203.59 1524.47 203.59 1531.6 Q203.59 1538.71 205.396 1542.27 Q207.225 1545.82 210.836 1545.82 Q214.47 1545.82 216.275 1542.27 Q218.104 1538.71 218.104 1531.6 Q218.104 1524.47 216.275 1520.93 Q214.47 1517.37 210.836 1517.37 M210.836 1513.66 Q216.646 1513.66 219.701 1518.27 Q222.78 1522.85 222.78 1531.6 Q222.78 1540.33 219.701 1544.94 Q216.646 1549.52 210.836 1549.52 Q205.026 1549.52 201.947 1544.94 Q198.891 1540.33 198.891 1531.6 Q198.891 1522.85 201.947 1518.27 Q205.026 1513.66 210.836 1513.66 Z\" fill=\"#000000\" fill-rule=\"evenodd\" fill-opacity=\"1\" /><path clip-path=\"url(#clip990)\" d=\"M240.998 1517.37 Q237.386 1517.37 235.558 1520.93 Q233.752 1524.47 233.752 1531.6 Q233.752 1538.71 235.558 1542.27 Q237.386 1545.82 240.998 1545.82 Q244.632 1545.82 246.437 1542.27 Q248.266 1538.71 248.266 1531.6 Q248.266 1524.47 246.437 1520.93 Q244.632 1517.37 240.998 1517.37 M240.998 1513.66 Q246.808 1513.66 249.863 1518.27 Q252.942 1522.85 252.942 1531.6 Q252.942 1540.33 249.863 1544.94 Q246.808 1549.52 240.998 1549.52 Q235.187 1549.52 232.109 1544.94 Q229.053 1540.33 229.053 1531.6 Q229.053 1522.85 232.109 1518.27 Q235.187 1513.66 240.998 1513.66 Z\" fill=\"#000000\" fill-rule=\"evenodd\" fill-opacity=\"1\" /><path clip-path=\"url(#clip990)\" d=\"M687.814 1517.37 Q684.203 1517.37 682.375 1520.93 Q680.569 1524.47 680.569 1531.6 Q680.569 1538.71 682.375 1542.27 Q684.203 1545.82 687.814 1545.82 Q691.449 1545.82 693.254 1542.27 Q695.083 1538.71 695.083 1531.6 Q695.083 1524.47 693.254 1520.93 Q691.449 1517.37 687.814 1517.37 M687.814 1513.66 Q693.625 1513.66 696.68 1518.27 Q699.759 1522.85 699.759 1531.6 Q699.759 1540.33 696.68 1544.94 Q693.625 1549.52 687.814 1549.52 Q682.004 1549.52 678.926 1544.94 Q675.87 1540.33 675.87 1531.6 Q675.87 1522.85 678.926 1518.27 Q682.004 1513.66 687.814 1513.66 Z\" fill=\"#000000\" fill-rule=\"evenodd\" fill-opacity=\"1\" /><path clip-path=\"url(#clip990)\" d=\"M707.976 1542.97 L712.861 1542.97 L712.861 1548.85 L707.976 1548.85 L707.976 1542.97 Z\" fill=\"#000000\" fill-rule=\"evenodd\" fill-opacity=\"1\" /><path clip-path=\"url(#clip990)\" d=\"M727.074 1544.91 L743.393 1544.91 L743.393 1548.85 L721.449 1548.85 L721.449 1544.91 Q724.111 1542.16 728.694 1537.53 Q733.3 1532.88 734.481 1531.53 Q736.726 1529.01 737.606 1527.27 Q738.509 1525.51 738.509 1523.82 Q738.509 1521.07 736.564 1519.33 Q734.643 1517.6 731.541 1517.6 Q729.342 1517.6 726.888 1518.36 Q724.458 1519.13 721.68 1520.68 L721.68 1515.95 Q724.504 1514.82 726.958 1514.24 Q729.411 1513.66 731.449 1513.66 Q736.819 1513.66 740.013 1516.35 Q743.208 1519.03 743.208 1523.52 Q743.208 1525.65 742.398 1527.57 Q741.611 1529.47 739.504 1532.07 Q738.925 1532.74 735.824 1535.95 Q732.722 1539.15 727.074 1544.91 Z\" fill=\"#000000\" fill-rule=\"evenodd\" fill-opacity=\"1\" /><path clip-path=\"url(#clip990)\" d=\"M753.254 1514.29 L771.61 1514.29 L771.61 1518.22 L757.536 1518.22 L757.536 1526.7 Q758.555 1526.35 759.573 1526.19 Q760.592 1526 761.61 1526 Q767.397 1526 770.777 1529.17 Q774.157 1532.34 774.157 1537.76 Q774.157 1543.34 770.684 1546.44 Q767.212 1549.52 760.893 1549.52 Q758.717 1549.52 756.448 1549.15 Q754.203 1548.78 751.796 1548.04 L751.796 1543.34 Q753.879 1544.47 756.101 1545.03 Q758.323 1545.58 760.8 1545.58 Q764.805 1545.58 767.143 1543.48 Q769.481 1541.37 769.481 1537.76 Q769.481 1534.15 767.143 1532.04 Q764.805 1529.94 760.8 1529.94 Q758.925 1529.94 757.05 1530.35 Q755.198 1530.77 753.254 1531.65 L753.254 1514.29 Z\" fill=\"#000000\" fill-rule=\"evenodd\" fill-opacity=\"1\" /><path clip-path=\"url(#clip990)\" d=\"M1209.03 1517.37 Q1205.42 1517.37 1203.59 1520.93 Q1201.78 1524.47 1201.78 1531.6 Q1201.78 1538.71 1203.59 1542.27 Q1205.42 1545.82 1209.03 1545.82 Q1212.66 1545.82 1214.47 1542.27 Q1216.3 1538.71 1216.3 1531.6 Q1216.3 1524.47 1214.47 1520.93 Q1212.66 1517.37 1209.03 1517.37 M1209.03 1513.66 Q1214.84 1513.66 1217.89 1518.27 Q1220.97 1522.85 1220.97 1531.6 Q1220.97 1540.33 1217.89 1544.94 Q1214.84 1549.52 1209.03 1549.52 Q1203.22 1549.52 1200.14 1544.94 Q1197.08 1540.33 1197.08 1531.6 Q1197.08 1522.85 1200.14 1518.27 Q1203.22 1513.66 1209.03 1513.66 Z\" fill=\"#000000\" fill-rule=\"evenodd\" fill-opacity=\"1\" /><path clip-path=\"url(#clip990)\" d=\"M1229.19 1542.97 L1234.08 1542.97 L1234.08 1548.85 L1229.19 1548.85 L1229.19 1542.97 Z\" fill=\"#000000\" fill-rule=\"evenodd\" fill-opacity=\"1\" /><path clip-path=\"url(#clip990)\" d=\"M1244.31 1514.29 L1262.66 1514.29 L1262.66 1518.22 L1248.59 1518.22 L1248.59 1526.7 Q1249.61 1526.35 1250.63 1526.19 Q1251.64 1526 1252.66 1526 Q1258.45 1526 1261.83 1529.17 Q1265.21 1532.34 1265.21 1537.76 Q1265.21 1543.34 1261.74 1546.44 Q1258.27 1549.52 1251.95 1549.52 Q1249.77 1549.52 1247.5 1549.15 Q1245.26 1548.78 1242.85 1548.04 L1242.85 1543.34 Q1244.93 1544.47 1247.15 1545.03 Q1249.38 1545.58 1251.85 1545.58 Q1255.86 1545.58 1258.2 1543.48 Q1260.53 1541.37 1260.53 1537.76 Q1260.53 1534.15 1258.2 1532.04 Q1255.86 1529.94 1251.85 1529.94 Q1249.98 1529.94 1248.1 1530.35 Q1246.25 1530.77 1244.31 1531.65 L1244.31 1514.29 Z\" fill=\"#000000\" fill-rule=\"evenodd\" fill-opacity=\"1\" /><path clip-path=\"url(#clip990)\" d=\"M1284.42 1517.37 Q1280.81 1517.37 1278.98 1520.93 Q1277.18 1524.47 1277.18 1531.6 Q1277.18 1538.71 1278.98 1542.27 Q1280.81 1545.82 1284.42 1545.82 Q1288.06 1545.82 1289.86 1542.27 Q1291.69 1538.71 1291.69 1531.6 Q1291.69 1524.47 1289.86 1520.93 Q1288.06 1517.37 1284.42 1517.37 M1284.42 1513.66 Q1290.23 1513.66 1293.29 1518.27 Q1296.37 1522.85 1296.37 1531.6 Q1296.37 1540.33 1293.29 1544.94 Q1290.23 1549.52 1284.42 1549.52 Q1278.61 1549.52 1275.53 1544.94 Q1272.48 1540.33 1272.48 1531.6 Q1272.48 1522.85 1275.53 1518.27 Q1278.61 1513.66 1284.42 1513.66 Z\" fill=\"#000000\" fill-rule=\"evenodd\" fill-opacity=\"1\" /><path clip-path=\"url(#clip990)\" d=\"M1731.24 1517.37 Q1727.63 1517.37 1725.8 1520.93 Q1723.99 1524.47 1723.99 1531.6 Q1723.99 1538.71 1725.8 1542.27 Q1727.63 1545.82 1731.24 1545.82 Q1734.87 1545.82 1736.68 1542.27 Q1738.51 1538.71 1738.51 1531.6 Q1738.51 1524.47 1736.68 1520.93 Q1734.87 1517.37 1731.24 1517.37 M1731.24 1513.66 Q1737.05 1513.66 1740.1 1518.27 Q1743.18 1522.85 1743.18 1531.6 Q1743.18 1540.33 1740.1 1544.94 Q1737.05 1549.52 1731.24 1549.52 Q1725.43 1549.52 1722.35 1544.94 Q1719.29 1540.33 1719.29 1531.6 Q1719.29 1522.85 1722.35 1518.27 Q1725.43 1513.66 1731.24 1513.66 Z\" fill=\"#000000\" fill-rule=\"evenodd\" fill-opacity=\"1\" /><path clip-path=\"url(#clip990)\" d=\"M1751.4 1542.97 L1756.29 1542.97 L1756.29 1548.85 L1751.4 1548.85 L1751.4 1542.97 Z\" fill=\"#000000\" fill-rule=\"evenodd\" fill-opacity=\"1\" /><path clip-path=\"url(#clip990)\" d=\"M1765.29 1514.29 L1787.51 1514.29 L1787.51 1516.28 L1774.97 1548.85 L1770.08 1548.85 L1781.89 1518.22 L1765.29 1518.22 L1765.29 1514.29 Z\" fill=\"#000000\" fill-rule=\"evenodd\" fill-opacity=\"1\" /><path clip-path=\"url(#clip990)\" d=\"M1796.68 1514.29 L1815.04 1514.29 L1815.04 1518.22 L1800.96 1518.22 L1800.96 1526.7 Q1801.98 1526.35 1803 1526.19 Q1804.02 1526 1805.04 1526 Q1810.82 1526 1814.2 1529.17 Q1817.58 1532.34 1817.58 1537.76 Q1817.58 1543.34 1814.11 1546.44 Q1810.64 1549.52 1804.32 1549.52 Q1802.14 1549.52 1799.87 1549.15 Q1797.63 1548.78 1795.22 1548.04 L1795.22 1543.34 Q1797.3 1544.47 1799.53 1545.03 Q1801.75 1545.58 1804.22 1545.58 Q1808.23 1545.58 1810.57 1543.48 Q1812.91 1541.37 1812.91 1537.76 Q1812.91 1534.15 1810.57 1532.04 Q1808.23 1529.94 1804.22 1529.94 Q1802.35 1529.94 1800.47 1530.35 Q1798.62 1530.77 1796.68 1531.65 L1796.68 1514.29 Z\" fill=\"#000000\" fill-rule=\"evenodd\" fill-opacity=\"1\" /><path clip-path=\"url(#clip990)\" d=\"M2242.22 1544.91 L2249.86 1544.91 L2249.86 1518.55 L2241.55 1520.21 L2241.55 1515.95 L2249.81 1514.29 L2254.49 1514.29 L2254.49 1544.91 L2262.13 1544.91 L2262.13 1548.85 L2242.22 1548.85 L2242.22 1544.91 Z\" fill=\"#000000\" fill-rule=\"evenodd\" fill-opacity=\"1\" /><path clip-path=\"url(#clip990)\" d=\"M2271.57 1542.97 L2276.46 1542.97 L2276.46 1548.85 L2271.57 1548.85 L2271.57 1542.97 Z\" fill=\"#000000\" fill-rule=\"evenodd\" fill-opacity=\"1\" /><path clip-path=\"url(#clip990)\" d=\"M2296.64 1517.37 Q2293.03 1517.37 2291.2 1520.93 Q2289.4 1524.47 2289.4 1531.6 Q2289.4 1538.71 2291.2 1542.27 Q2293.03 1545.82 2296.64 1545.82 Q2300.28 1545.82 2302.08 1542.27 Q2303.91 1538.71 2303.91 1531.6 Q2303.91 1524.47 2302.08 1520.93 Q2300.28 1517.37 2296.64 1517.37 M2296.64 1513.66 Q2302.45 1513.66 2305.51 1518.27 Q2308.59 1522.85 2308.59 1531.6 Q2308.59 1540.33 2305.51 1544.94 Q2302.45 1549.52 2296.64 1549.52 Q2290.83 1549.52 2287.75 1544.94 Q2284.7 1540.33 2284.7 1531.6 Q2284.7 1522.85 2287.75 1518.27 Q2290.83 1513.66 2296.64 1513.66 Z\" fill=\"#000000\" fill-rule=\"evenodd\" fill-opacity=\"1\" /><path clip-path=\"url(#clip990)\" d=\"M2326.81 1517.37 Q2323.19 1517.37 2321.37 1520.93 Q2319.56 1524.47 2319.56 1531.6 Q2319.56 1538.71 2321.37 1542.27 Q2323.19 1545.82 2326.81 1545.82 Q2330.44 1545.82 2332.25 1542.27 Q2334.07 1538.71 2334.07 1531.6 Q2334.07 1524.47 2332.25 1520.93 Q2330.44 1517.37 2326.81 1517.37 M2326.81 1513.66 Q2332.62 1513.66 2335.67 1518.27 Q2338.75 1522.85 2338.75 1531.6 Q2338.75 1540.33 2335.67 1544.94 Q2332.62 1549.52 2326.81 1549.52 Q2321 1549.52 2317.92 1544.94 Q2314.86 1540.33 2314.86 1531.6 Q2314.86 1522.85 2317.92 1518.27 Q2321 1513.66 2326.81 1513.66 Z\" fill=\"#000000\" fill-rule=\"evenodd\" fill-opacity=\"1\" /><polyline clip-path=\"url(#clip992)\" style=\"stroke:#000000; stroke-linecap:round; stroke-linejoin:round; stroke-width:2; stroke-opacity:0.1; fill:none\" points=\"\n",
       "  140.696,1447.87 2352.76,1447.87 \n",
       "  \"/>\n",
       "<polyline clip-path=\"url(#clip992)\" style=\"stroke:#000000; stroke-linecap:round; stroke-linejoin:round; stroke-width:2; stroke-opacity:0.1; fill:none\" points=\"\n",
       "  140.696,1125.74 2352.76,1125.74 \n",
       "  \"/>\n",
       "<polyline clip-path=\"url(#clip992)\" style=\"stroke:#000000; stroke-linecap:round; stroke-linejoin:round; stroke-width:2; stroke-opacity:0.1; fill:none\" points=\"\n",
       "  140.696,803.6 2352.76,803.6 \n",
       "  \"/>\n",
       "<polyline clip-path=\"url(#clip992)\" style=\"stroke:#000000; stroke-linecap:round; stroke-linejoin:round; stroke-width:2; stroke-opacity:0.1; fill:none\" points=\"\n",
       "  140.696,481.464 2352.76,481.464 \n",
       "  \"/>\n",
       "<polyline clip-path=\"url(#clip992)\" style=\"stroke:#000000; stroke-linecap:round; stroke-linejoin:round; stroke-width:2; stroke-opacity:0.1; fill:none\" points=\"\n",
       "  140.696,159.328 2352.76,159.328 \n",
       "  \"/>\n",
       "<polyline clip-path=\"url(#clip990)\" style=\"stroke:#000000; stroke-linecap:round; stroke-linejoin:round; stroke-width:4; stroke-opacity:1; fill:none\" points=\"\n",
       "  140.696,1486.45 140.696,123.472 \n",
       "  \"/>\n",
       "<polyline clip-path=\"url(#clip990)\" style=\"stroke:#000000; stroke-linecap:round; stroke-linejoin:round; stroke-width:4; stroke-opacity:1; fill:none\" points=\"\n",
       "  140.696,1447.87 159.593,1447.87 \n",
       "  \"/>\n",
       "<polyline clip-path=\"url(#clip990)\" style=\"stroke:#000000; stroke-linecap:round; stroke-linejoin:round; stroke-width:4; stroke-opacity:1; fill:none\" points=\"\n",
       "  140.696,1125.74 159.593,1125.74 \n",
       "  \"/>\n",
       "<polyline clip-path=\"url(#clip990)\" style=\"stroke:#000000; stroke-linecap:round; stroke-linejoin:round; stroke-width:4; stroke-opacity:1; fill:none\" points=\"\n",
       "  140.696,803.6 159.593,803.6 \n",
       "  \"/>\n",
       "<polyline clip-path=\"url(#clip990)\" style=\"stroke:#000000; stroke-linecap:round; stroke-linejoin:round; stroke-width:4; stroke-opacity:1; fill:none\" points=\"\n",
       "  140.696,481.464 159.593,481.464 \n",
       "  \"/>\n",
       "<polyline clip-path=\"url(#clip990)\" style=\"stroke:#000000; stroke-linecap:round; stroke-linejoin:round; stroke-width:4; stroke-opacity:1; fill:none\" points=\"\n",
       "  140.696,159.328 159.593,159.328 \n",
       "  \"/>\n",
       "<path clip-path=\"url(#clip990)\" d=\"M92.7512 1433.67 Q89.1401 1433.67 87.3114 1437.24 Q85.5058 1440.78 85.5058 1447.91 Q85.5058 1455.01 87.3114 1458.58 Q89.1401 1462.12 92.7512 1462.12 Q96.3854 1462.12 98.1909 1458.58 Q100.02 1455.01 100.02 1447.91 Q100.02 1440.78 98.1909 1437.24 Q96.3854 1433.67 92.7512 1433.67 M92.7512 1429.97 Q98.5613 1429.97 101.617 1434.57 Q104.696 1439.16 104.696 1447.91 Q104.696 1456.63 101.617 1461.24 Q98.5613 1465.82 92.7512 1465.82 Q86.941 1465.82 83.8623 1461.24 Q80.8068 1456.63 80.8068 1447.91 Q80.8068 1439.16 83.8623 1434.57 Q86.941 1429.97 92.7512 1429.97 Z\" fill=\"#000000\" fill-rule=\"evenodd\" fill-opacity=\"1\" /><path clip-path=\"url(#clip990)\" d=\"M83.7929 1108.46 L102.149 1108.46 L102.149 1112.39 L88.0753 1112.39 L88.0753 1120.86 Q89.0938 1120.52 90.1123 1120.35 Q91.1308 1120.17 92.1493 1120.17 Q97.9363 1120.17 101.316 1123.34 Q104.696 1126.51 104.696 1131.93 Q104.696 1137.51 101.223 1140.61 Q97.7511 1143.69 91.4317 1143.69 Q89.2558 1143.69 86.9873 1143.32 Q84.7419 1142.95 82.3346 1142.21 L82.3346 1137.51 Q84.4179 1138.64 86.6401 1139.2 Q88.8623 1139.75 91.3391 1139.75 Q95.3437 1139.75 97.6817 1137.65 Q100.02 1135.54 100.02 1131.93 Q100.02 1128.32 97.6817 1126.21 Q95.3437 1124.1 91.3391 1124.1 Q89.4641 1124.1 87.5892 1124.52 Q85.7373 1124.94 83.7929 1125.82 L83.7929 1108.46 Z\" fill=\"#000000\" fill-rule=\"evenodd\" fill-opacity=\"1\" /><path clip-path=\"url(#clip990)\" d=\"M53.3995 816.945 L61.0384 816.945 L61.0384 790.58 L52.7282 792.246 L52.7282 787.987 L60.9921 786.32 L65.668 786.32 L65.668 816.945 L73.3068 816.945 L73.3068 820.88 L53.3995 820.88 L53.3995 816.945 Z\" fill=\"#000000\" fill-rule=\"evenodd\" fill-opacity=\"1\" /><path clip-path=\"url(#clip990)\" d=\"M92.7512 789.399 Q89.1401 789.399 87.3114 792.964 Q85.5058 796.505 85.5058 803.635 Q85.5058 810.742 87.3114 814.306 Q89.1401 817.848 92.7512 817.848 Q96.3854 817.848 98.1909 814.306 Q100.02 810.742 100.02 803.635 Q100.02 796.505 98.1909 792.964 Q96.3854 789.399 92.7512 789.399 M92.7512 785.695 Q98.5613 785.695 101.617 790.302 Q104.696 794.885 104.696 803.635 Q104.696 812.362 101.617 816.968 Q98.5613 821.552 92.7512 821.552 Q86.941 821.552 83.8623 816.968 Q80.8068 812.362 80.8068 803.635 Q80.8068 794.885 83.8623 790.302 Q86.941 785.695 92.7512 785.695 Z\" fill=\"#000000\" fill-rule=\"evenodd\" fill-opacity=\"1\" /><path clip-path=\"url(#clip990)\" d=\"M54.3949 494.809 L62.0337 494.809 L62.0337 468.443 L53.7236 470.11 L53.7236 465.851 L61.9874 464.184 L66.6633 464.184 L66.6633 494.809 L74.3022 494.809 L74.3022 498.744 L54.3949 498.744 L54.3949 494.809 Z\" fill=\"#000000\" fill-rule=\"evenodd\" fill-opacity=\"1\" /><path clip-path=\"url(#clip990)\" d=\"M83.7929 464.184 L102.149 464.184 L102.149 468.119 L88.0753 468.119 L88.0753 476.591 Q89.0938 476.244 90.1123 476.082 Q91.1308 475.897 92.1493 475.897 Q97.9363 475.897 101.316 479.068 Q104.696 482.239 104.696 487.656 Q104.696 493.235 101.223 496.337 Q97.7511 499.415 91.4317 499.415 Q89.2558 499.415 86.9873 499.045 Q84.7419 498.675 82.3346 497.934 L82.3346 493.235 Q84.4179 494.369 86.6401 494.925 Q88.8623 495.48 91.3391 495.48 Q95.3437 495.48 97.6817 493.374 Q100.02 491.267 100.02 487.656 Q100.02 484.045 97.6817 481.939 Q95.3437 479.832 91.3391 479.832 Q89.4641 479.832 87.5892 480.249 Q85.7373 480.665 83.7929 481.545 L83.7929 464.184 Z\" fill=\"#000000\" fill-rule=\"evenodd\" fill-opacity=\"1\" /><path clip-path=\"url(#clip990)\" d=\"M56.6171 172.672 L72.9365 172.672 L72.9365 176.608 L50.9921 176.608 L50.9921 172.672 Q53.6541 169.918 58.2375 165.288 Q62.8439 160.635 64.0245 159.293 Q66.2698 156.77 67.1494 155.034 Q68.0522 153.274 68.0522 151.585 Q68.0522 148.83 66.1078 147.094 Q64.1865 145.358 61.0847 145.358 Q58.8856 145.358 56.4319 146.122 Q54.0014 146.886 51.2236 148.436 L51.2236 143.714 Q54.0477 142.58 56.5014 142.001 Q58.955 141.423 60.9921 141.423 Q66.3624 141.423 69.5568 144.108 Q72.7513 146.793 72.7513 151.284 Q72.7513 153.413 71.9411 155.335 Q71.1541 157.233 69.0476 159.825 Q68.4689 160.497 65.367 163.714 Q62.2652 166.909 56.6171 172.672 Z\" fill=\"#000000\" fill-rule=\"evenodd\" fill-opacity=\"1\" /><path clip-path=\"url(#clip990)\" d=\"M92.7512 145.126 Q89.1401 145.126 87.3114 148.691 Q85.5058 152.233 85.5058 159.362 Q85.5058 166.469 87.3114 170.034 Q89.1401 173.575 92.7512 173.575 Q96.3854 173.575 98.1909 170.034 Q100.02 166.469 100.02 159.362 Q100.02 152.233 98.1909 148.691 Q96.3854 145.126 92.7512 145.126 M92.7512 141.423 Q98.5613 141.423 101.617 146.029 Q104.696 150.612 104.696 159.362 Q104.696 168.089 101.617 172.696 Q98.5613 177.279 92.7512 177.279 Q86.941 177.279 83.8623 172.696 Q80.8068 168.089 80.8068 159.362 Q80.8068 150.612 83.8623 146.029 Q86.941 141.423 92.7512 141.423 Z\" fill=\"#000000\" fill-rule=\"evenodd\" fill-opacity=\"1\" /><path clip-path=\"url(#clip990)\" d=\"M905.741 12.096 L913.924 12.096 L913.924 72.576 L905.741 72.576 L905.741 12.096 Z\" fill=\"#000000\" fill-rule=\"evenodd\" fill-opacity=\"1\" /><path clip-path=\"url(#clip990)\" d=\"M967.598 45.1919 L967.598 72.576 L960.145 72.576 L960.145 45.4349 Q960.145 38.994 957.633 35.7938 Q955.121 32.5936 950.098 32.5936 Q944.062 32.5936 940.579 36.4419 Q937.095 40.2903 937.095 46.9338 L937.095 72.576 L929.601 72.576 L929.601 27.2059 L937.095 27.2059 L937.095 34.2544 Q939.768 30.163 943.374 28.1376 Q947.02 26.1121 951.759 26.1121 Q959.577 26.1121 963.588 30.9732 Q967.598 35.7938 967.598 45.1919 Z\" fill=\"#000000\" fill-rule=\"evenodd\" fill-opacity=\"1\" /><path clip-path=\"url(#clip990)\" d=\"M1005.43 9.54393 L1005.43 15.7418 L998.304 15.7418 Q994.294 15.7418 992.714 17.3622 Q991.174 18.9825 991.174 23.1955 L991.174 27.2059 L1003.45 27.2059 L1003.45 32.9987 L991.174 32.9987 L991.174 72.576 L983.68 72.576 L983.68 32.9987 L976.551 32.9987 L976.551 27.2059 L983.68 27.2059 L983.68 24.0462 Q983.68 16.471 987.205 13.0277 Q990.729 9.54393 998.385 9.54393 L1005.43 9.54393 Z\" fill=\"#000000\" fill-rule=\"evenodd\" fill-opacity=\"1\" /><path clip-path=\"url(#clip990)\" d=\"M1050.48 48.0275 L1050.48 51.6733 L1016.21 51.6733 Q1016.7 59.3701 1020.83 63.421 Q1025 67.4314 1032.41 67.4314 Q1036.71 67.4314 1040.72 66.3781 Q1044.77 65.3249 1048.74 63.2184 L1048.74 70.267 Q1044.73 71.9684 1040.51 72.8596 Q1036.3 73.7508 1031.97 73.7508 Q1021.11 73.7508 1014.75 67.4314 Q1008.43 61.1119 1008.43 50.3365 Q1008.43 39.1965 1014.43 32.6746 Q1020.46 26.1121 1030.67 26.1121 Q1039.83 26.1121 1045.13 32.0264 Q1050.48 37.9003 1050.48 48.0275 M1043.03 45.84 Q1042.94 39.7232 1039.58 36.0774 Q1036.26 32.4315 1030.75 32.4315 Q1024.51 32.4315 1020.75 35.9558 Q1017.02 39.4801 1016.45 45.8805 L1043.03 45.84 Z\" fill=\"#000000\" fill-rule=\"evenodd\" fill-opacity=\"1\" /><path clip-path=\"url(#clip990)\" d=\"M1089 34.1734 Q1087.75 33.4443 1086.25 33.1202 Q1084.79 32.7556 1083.01 32.7556 Q1076.69 32.7556 1073.29 36.8875 Q1069.92 40.9789 1069.92 48.6757 L1069.92 72.576 L1062.43 72.576 L1062.43 27.2059 L1069.92 27.2059 L1069.92 34.2544 Q1072.27 30.1225 1076.04 28.1376 Q1079.81 26.1121 1085.2 26.1121 Q1085.97 26.1121 1086.9 26.2337 Q1087.83 26.3147 1088.96 26.5172 L1089 34.1734 Z\" fill=\"#000000\" fill-rule=\"evenodd\" fill-opacity=\"1\" /><path clip-path=\"url(#clip990)\" d=\"M1133.81 48.0275 L1133.81 51.6733 L1099.54 51.6733 Q1100.02 59.3701 1104.15 63.421 Q1108.33 67.4314 1115.74 67.4314 Q1120.03 67.4314 1124.04 66.3781 Q1128.09 65.3249 1132.06 63.2184 L1132.06 70.267 Q1128.05 71.9684 1123.84 72.8596 Q1119.63 73.7508 1115.29 73.7508 Q1104.44 73.7508 1098.08 67.4314 Q1091.76 61.1119 1091.76 50.3365 Q1091.76 39.1965 1097.75 32.6746 Q1103.79 26.1121 1114 26.1121 Q1123.15 26.1121 1128.46 32.0264 Q1133.81 37.9003 1133.81 48.0275 M1126.35 45.84 Q1126.27 39.7232 1122.91 36.0774 Q1119.59 32.4315 1114.08 32.4315 Q1107.84 32.4315 1104.07 35.9558 Q1100.35 39.4801 1099.78 45.8805 L1126.35 45.84 Z\" fill=\"#000000\" fill-rule=\"evenodd\" fill-opacity=\"1\" /><path clip-path=\"url(#clip990)\" d=\"M1183.75 45.1919 L1183.75 72.576 L1176.3 72.576 L1176.3 45.4349 Q1176.3 38.994 1173.79 35.7938 Q1171.28 32.5936 1166.25 32.5936 Q1160.22 32.5936 1156.73 36.4419 Q1153.25 40.2903 1153.25 46.9338 L1153.25 72.576 L1145.76 72.576 L1145.76 27.2059 L1153.25 27.2059 L1153.25 34.2544 Q1155.92 30.163 1159.53 28.1376 Q1163.18 26.1121 1167.92 26.1121 Q1175.73 26.1121 1179.74 30.9732 Q1183.75 35.7938 1183.75 45.1919 Z\" fill=\"#000000\" fill-rule=\"evenodd\" fill-opacity=\"1\" /><path clip-path=\"url(#clip990)\" d=\"M1231.27 28.9478 L1231.27 35.9153 Q1228.11 34.1734 1224.91 33.3227 Q1221.75 32.4315 1218.51 32.4315 Q1211.26 32.4315 1207.25 37.0496 Q1203.24 41.6271 1203.24 49.9314 Q1203.24 58.2358 1207.25 62.8538 Q1211.26 67.4314 1218.51 67.4314 Q1221.75 67.4314 1224.91 66.5807 Q1228.11 65.6895 1231.27 63.9476 L1231.27 70.8341 Q1228.15 72.2924 1224.79 73.0216 Q1221.47 73.7508 1217.7 73.7508 Q1207.45 73.7508 1201.42 67.3098 Q1195.38 60.8689 1195.38 49.9314 Q1195.38 38.832 1201.46 32.472 Q1207.57 26.1121 1218.19 26.1121 Q1221.63 26.1121 1224.91 26.8413 Q1228.19 27.5299 1231.27 28.9478 Z\" fill=\"#000000\" fill-rule=\"evenodd\" fill-opacity=\"1\" /><path clip-path=\"url(#clip990)\" d=\"M1283.04 48.0275 L1283.04 51.6733 L1248.77 51.6733 Q1249.26 59.3701 1253.39 63.421 Q1257.56 67.4314 1264.98 67.4314 Q1269.27 67.4314 1273.28 66.3781 Q1277.33 65.3249 1281.3 63.2184 L1281.3 70.267 Q1277.29 71.9684 1273.08 72.8596 Q1268.86 73.7508 1264.53 73.7508 Q1253.67 73.7508 1247.31 67.4314 Q1240.99 61.1119 1240.99 50.3365 Q1240.99 39.1965 1246.99 32.6746 Q1253.02 26.1121 1263.23 26.1121 Q1272.39 26.1121 1277.69 32.0264 Q1283.04 37.9003 1283.04 48.0275 M1275.59 45.84 Q1275.51 39.7232 1272.15 36.0774 Q1268.82 32.4315 1263.31 32.4315 Q1257.08 32.4315 1253.31 35.9558 Q1249.58 39.4801 1249.01 45.8805 L1275.59 45.84 Z\" fill=\"#000000\" fill-rule=\"evenodd\" fill-opacity=\"1\" /><path clip-path=\"url(#clip990)\" d=\"M1347.94 34.1734 Q1346.68 33.4443 1345.18 33.1202 Q1343.72 32.7556 1341.94 32.7556 Q1335.62 32.7556 1332.22 36.8875 Q1328.86 40.9789 1328.86 48.6757 L1328.86 72.576 L1321.36 72.576 L1321.36 27.2059 L1328.86 27.2059 L1328.86 34.2544 Q1331.21 30.1225 1334.97 28.1376 Q1338.74 26.1121 1344.13 26.1121 Q1344.9 26.1121 1345.83 26.2337 Q1346.76 26.3147 1347.9 26.5172 L1347.94 34.1734 Z\" fill=\"#000000\" fill-rule=\"evenodd\" fill-opacity=\"1\" /><path clip-path=\"url(#clip990)\" d=\"M1392.74 48.0275 L1392.74 51.6733 L1358.47 51.6733 Q1358.96 59.3701 1363.09 63.421 Q1367.26 67.4314 1374.67 67.4314 Q1378.97 67.4314 1382.98 66.3781 Q1387.03 65.3249 1391 63.2184 L1391 70.267 Q1386.99 71.9684 1382.78 72.8596 Q1378.56 73.7508 1374.23 73.7508 Q1363.37 73.7508 1357.01 67.4314 Q1350.69 61.1119 1350.69 50.3365 Q1350.69 39.1965 1356.69 32.6746 Q1362.72 26.1121 1372.93 26.1121 Q1382.09 26.1121 1387.39 32.0264 Q1392.74 37.9003 1392.74 48.0275 M1385.29 45.84 Q1385.21 39.7232 1381.84 36.0774 Q1378.52 32.4315 1373.01 32.4315 Q1366.77 32.4315 1363.01 35.9558 Q1359.28 39.4801 1358.71 45.8805 L1385.29 45.84 Z\" fill=\"#000000\" fill-rule=\"evenodd\" fill-opacity=\"1\" /><path clip-path=\"url(#clip990)\" d=\"M1433.9 28.5427 L1433.9 35.5912 Q1430.74 33.9709 1427.34 33.1607 Q1423.93 32.3505 1420.29 32.3505 Q1414.74 32.3505 1411.94 34.0519 Q1409.19 35.7533 1409.19 39.156 Q1409.19 41.7486 1411.17 43.2475 Q1413.16 44.7058 1419.15 46.0426 L1421.7 46.6097 Q1429.64 48.3111 1432.97 51.4303 Q1436.33 54.509 1436.33 60.0587 Q1436.33 66.3781 1431.31 70.0644 Q1426.32 73.7508 1417.57 73.7508 Q1413.93 73.7508 1409.96 73.0216 Q1406.03 72.3329 1401.65 70.9151 L1401.65 63.2184 Q1405.78 65.3654 1409.79 66.4591 Q1413.81 67.5124 1417.73 67.5124 Q1423 67.5124 1425.84 65.73 Q1428.67 63.9071 1428.67 60.6258 Q1428.67 57.5877 1426.61 55.9673 Q1424.58 54.3469 1417.65 52.8481 L1415.06 52.2405 Q1408.13 50.7821 1405.06 47.7845 Q1401.98 44.7463 1401.98 39.4801 Q1401.98 33.0797 1406.51 29.5959 Q1411.05 26.1121 1419.4 26.1121 Q1423.53 26.1121 1427.17 26.7198 Q1430.82 27.3274 1433.9 28.5427 Z\" fill=\"#000000\" fill-rule=\"evenodd\" fill-opacity=\"1\" /><path clip-path=\"url(#clip990)\" d=\"M1447.43 54.671 L1447.43 27.2059 L1454.88 27.2059 L1454.88 54.3874 Q1454.88 60.8284 1457.39 64.0691 Q1459.9 67.2693 1464.93 67.2693 Q1470.96 67.2693 1474.45 63.421 Q1477.97 59.5726 1477.97 52.9291 L1477.97 27.2059 L1485.43 27.2059 L1485.43 72.576 L1477.97 72.576 L1477.97 65.6084 Q1475.26 69.7404 1471.65 71.7658 Q1468.09 73.7508 1463.35 73.7508 Q1455.53 73.7508 1451.48 68.8897 Q1447.43 64.0286 1447.43 54.671 M1466.18 26.1121 L1466.18 26.1121 Z\" fill=\"#000000\" fill-rule=\"evenodd\" fill-opacity=\"1\" /><path clip-path=\"url(#clip990)\" d=\"M1500.78 9.54393 L1508.23 9.54393 L1508.23 72.576 L1500.78 72.576 L1500.78 9.54393 Z\" fill=\"#000000\" fill-rule=\"evenodd\" fill-opacity=\"1\" /><path clip-path=\"url(#clip990)\" d=\"M1531.2 14.324 L1531.2 27.2059 L1546.55 27.2059 L1546.55 32.9987 L1531.2 32.9987 L1531.2 57.6282 Q1531.2 63.1779 1532.7 64.7578 Q1534.24 66.3376 1538.9 66.3376 L1546.55 66.3376 L1546.55 72.576 L1538.9 72.576 Q1530.27 72.576 1526.99 69.3758 Q1523.71 66.1351 1523.71 57.6282 L1523.71 32.9987 L1518.24 32.9987 L1518.24 27.2059 L1523.71 27.2059 L1523.71 14.324 L1531.2 14.324 Z\" fill=\"#000000\" fill-rule=\"evenodd\" fill-opacity=\"1\" /><path clip-path=\"url(#clip990)\" d=\"M1585.28 28.5427 L1585.28 35.5912 Q1582.12 33.9709 1578.72 33.1607 Q1575.31 32.3505 1571.67 32.3505 Q1566.12 32.3505 1563.32 34.0519 Q1560.57 35.7533 1560.57 39.156 Q1560.57 41.7486 1562.55 43.2475 Q1564.54 44.7058 1570.53 46.0426 L1573.09 46.6097 Q1581.03 48.3111 1584.35 51.4303 Q1587.71 54.509 1587.71 60.0587 Q1587.71 66.3781 1582.69 70.0644 Q1577.7 73.7508 1568.95 73.7508 Q1565.31 73.7508 1561.34 73.0216 Q1557.41 72.3329 1553.03 70.9151 L1553.03 63.2184 Q1557.17 65.3654 1561.18 66.4591 Q1565.19 67.5124 1569.12 67.5124 Q1574.38 67.5124 1577.22 65.73 Q1580.05 63.9071 1580.05 60.6258 Q1580.05 57.5877 1577.99 55.9673 Q1575.96 54.3469 1569.04 52.8481 L1566.44 52.2405 Q1559.52 50.7821 1556.44 47.7845 Q1553.36 44.7463 1553.36 39.4801 Q1553.36 33.0797 1557.9 29.5959 Q1562.43 26.1121 1570.78 26.1121 Q1574.91 26.1121 1578.56 26.7198 Q1582.2 27.3274 1585.28 28.5427 Z\" fill=\"#000000\" fill-rule=\"evenodd\" fill-opacity=\"1\" /><path clip-path=\"url(#clip992)\" d=\"\n",
       "M203.301 1447.87 L205.39 1447.87 L207.479 1447.87 L209.568 1447.87 L211.657 1447.87 L213.746 1447.87 L215.835 1447.87 L217.924 1447.87 L220.013 1447.87 L222.101 1447.87 \n",
       "  L224.19 1447.87 L226.279 1447.87 L228.368 1447.87 L230.457 1447.87 L232.546 1447.87 L234.635 1447.87 L236.724 1447.87 L238.813 1447.87 L240.902 1447.87 L242.991 1447.87 \n",
       "  L245.08 1447.87 L247.169 1447.87 L249.258 1447.87 L251.347 1447.87 L253.436 1447.87 L255.524 1447.87 L257.613 1447.87 L259.702 1447.87 L261.791 1447.87 L263.88 1447.87 \n",
       "  L265.969 1447.87 L268.058 1447.87 L270.147 1447.87 L272.236 1447.87 L274.325 1447.87 L276.414 1447.87 L278.503 1447.87 L280.592 1447.87 L282.681 1447.87 L284.77 1447.87 \n",
       "  L286.859 1447.87 L288.947 1447.87 L291.036 1447.87 L293.125 1447.87 L295.214 1447.87 L297.303 1447.87 L299.392 1447.87 L301.481 1447.87 L303.57 1447.87 L305.659 1447.87 \n",
       "  L307.748 1447.87 L309.837 1447.87 L311.926 1447.87 L314.015 1447.87 L316.104 1447.87 L318.193 1447.87 L320.282 1447.87 L322.371 1447.87 L324.459 1447.87 L326.548 1447.87 \n",
       "  L328.637 1447.87 L330.726 1447.87 L332.815 1447.87 L334.904 1447.87 L336.993 1447.87 L339.082 1447.87 L341.171 1447.87 L343.26 1447.87 L345.349 1447.87 L347.438 1447.87 \n",
       "  L349.527 1447.87 L351.616 1447.87 L353.705 1447.87 L355.794 1447.87 L357.882 1447.87 L359.971 1447.87 L362.06 1447.87 L364.149 1447.87 L366.238 1447.87 L368.327 1447.87 \n",
       "  L370.416 1447.87 L372.505 1447.87 L374.594 1447.87 L376.683 1447.87 L378.772 1447.87 L380.861 1447.87 L382.95 1447.87 L385.039 1447.87 L387.128 1447.87 L389.217 1447.87 \n",
       "  L391.305 1447.87 L393.394 1447.87 L395.483 1447.87 L397.572 1447.87 L399.661 1447.87 L401.75 1447.87 L403.839 1447.87 L405.928 1447.87 L408.017 1447.87 L410.106 1447.87 \n",
       "  L412.195 1447.87 L414.284 1447.87 L416.373 1447.87 L418.462 1447.87 L420.551 1447.87 L422.64 1447.87 L424.728 1447.87 L426.817 1447.87 L428.906 1447.87 L430.995 1447.87 \n",
       "  L433.084 1447.87 L435.173 1447.87 L437.262 1447.87 L439.351 1447.87 L441.44 1447.87 L443.529 1447.87 L445.618 1447.87 L447.707 1447.87 L449.796 1447.87 L451.885 1447.87 \n",
       "  L453.974 1447.87 L456.063 1447.87 L458.152 1447.87 L460.24 1447.87 L462.329 1447.87 L464.418 1447.87 L466.507 1447.87 L468.596 1447.87 L470.685 1447.87 L472.774 1447.87 \n",
       "  L474.863 1447.87 L476.952 1447.87 L479.041 1447.87 L481.13 1447.87 L483.219 1447.87 L485.308 1447.87 L487.397 1447.87 L489.486 1447.87 L491.575 1447.87 L493.663 1447.87 \n",
       "  L495.752 1447.87 L497.841 1447.87 L499.93 1447.87 L502.019 1447.87 L504.108 1447.87 L506.197 1447.87 L508.286 1447.87 L510.375 1447.87 L512.464 1447.87 L514.553 1447.87 \n",
       "  L516.642 1447.87 L518.731 1447.87 L520.82 1447.87 L522.909 1447.87 L524.998 1447.87 L527.086 1447.87 L529.175 1447.87 L531.264 1447.87 L533.353 1447.87 L535.442 1447.87 \n",
       "  L537.531 1447.87 L539.62 1447.87 L541.709 1447.87 L543.798 1447.87 L545.887 1447.87 L547.976 1447.87 L550.065 1447.87 L552.154 1447.87 L554.243 1447.87 L556.332 1447.87 \n",
       "  L558.421 1447.87 L560.509 1447.87 L562.598 1447.87 L564.687 1447.87 L566.776 1447.87 L568.865 1447.87 L570.954 1447.87 L573.043 1447.87 L575.132 1447.87 L577.221 1447.87 \n",
       "  L579.31 1447.87 L581.399 1447.87 L583.488 1447.87 L585.577 1447.87 L587.666 1447.87 L589.755 1447.87 L591.844 1447.87 L593.932 1447.87 L596.021 1447.87 L598.11 1447.87 \n",
       "  L600.199 1447.87 L602.288 1447.87 L604.377 1447.87 L606.466 1447.87 L608.555 1447.87 L610.644 1447.87 L612.733 1447.87 L614.822 1447.87 L616.911 1447.87 L619 1447.87 \n",
       "  L621.089 1447.87 L623.178 1447.87 L625.267 1447.87 L627.356 1447.87 L629.444 1447.87 L631.533 1447.87 L633.622 1447.87 L635.711 1447.87 L637.8 1447.87 L639.889 1447.87 \n",
       "  L641.978 1447.87 L644.067 1447.87 L646.156 1447.87 L648.245 1447.87 L650.334 1447.87 L652.423 1447.87 L654.512 1447.87 L656.601 1447.87 L658.69 1447.87 L660.779 1447.87 \n",
       "  L662.867 1447.87 L664.956 1447.87 L667.045 1447.87 L669.134 1447.87 L671.223 1447.87 L673.312 1447.87 L675.401 1447.87 L677.49 1447.87 L679.579 1447.87 L681.668 1447.87 \n",
       "  L683.757 1447.87 L685.846 1447.87 L687.935 1447.87 L690.024 1447.87 L692.113 1447.87 L694.202 1447.87 L696.29 1447.87 L698.379 1447.87 L700.468 1447.87 L702.557 1447.87 \n",
       "  L704.646 1447.87 L706.735 1447.87 L708.824 1447.87 L710.913 1447.87 L713.002 1447.87 L715.091 1447.87 L717.18 1447.87 L719.269 1447.87 L721.358 1447.87 L723.447 1447.87 \n",
       "  L725.536 1447.87 L727.625 1447.87 L729.713 1447.87 L731.802 1447.87 L733.891 1447.87 L735.98 1447.87 L738.069 1447.87 L740.158 1447.87 L742.247 1447.87 L744.336 1447.87 \n",
       "  L746.425 1447.87 L748.514 1447.87 L750.603 1447.87 L752.692 1447.87 L754.781 1447.87 L756.87 1447.87 L758.959 1447.87 L761.048 1447.87 L763.136 1447.87 L765.225 1447.87 \n",
       "  L767.314 1447.87 L769.403 1447.87 L771.492 1447.87 L773.581 1447.87 L775.67 1447.87 L777.759 1447.87 L779.848 1447.87 L781.937 1447.87 L784.026 1447.87 L786.115 1447.87 \n",
       "  L788.204 1447.87 L790.293 1447.87 L792.382 1447.87 L794.471 1447.87 L796.56 1447.87 L798.648 1447.87 L800.737 1447.87 L802.826 1447.87 L804.915 1447.87 L807.004 1447.87 \n",
       "  L809.093 1447.87 L811.182 1447.87 L813.271 1447.87 L815.36 1447.87 L817.449 1447.87 L819.538 1447.87 L821.627 1447.87 L823.716 1447.87 L825.805 1447.87 L827.894 1447.87 \n",
       "  L829.983 1447.87 L832.071 1447.87 L834.16 1447.87 L836.249 1447.87 L838.338 1447.87 L840.427 1447.87 L842.516 1447.87 L844.605 1447.87 L846.694 1447.87 L848.783 1447.87 \n",
       "  L850.872 1447.87 L852.961 1447.87 L855.05 1447.87 L857.139 1447.87 L859.228 1447.87 L861.317 1447.87 L863.406 1447.87 L865.494 1447.87 L867.583 1447.87 L869.672 1447.87 \n",
       "  L871.761 1447.87 L873.85 1447.87 L875.939 1447.87 L878.028 1447.87 L880.117 1447.87 L882.206 1447.87 L884.295 1447.87 L886.384 1447.87 L888.473 1447.87 L890.562 1447.87 \n",
       "  L892.651 1447.87 L894.74 1447.87 L896.829 1447.87 L898.917 1447.87 L901.006 1447.87 L903.095 1447.87 L905.184 1447.87 L907.273 1447.87 L909.362 1447.87 L911.451 1447.87 \n",
       "  L913.54 1447.87 L915.629 1447.87 L917.718 1447.87 L919.807 1447.87 L921.896 1447.87 L923.985 1447.87 L926.074 1447.87 L928.163 1447.87 L930.252 1447.87 L932.341 1447.87 \n",
       "  L934.429 1447.87 L936.518 1447.87 L938.607 1447.87 L940.696 1447.87 L942.785 1447.87 L944.874 1447.87 L946.963 1447.87 L949.052 1447.87 L951.141 1447.87 L953.23 1447.87 \n",
       "  L955.319 1447.87 L957.408 1447.87 L959.497 1447.87 L961.586 1447.87 L963.675 1447.87 L965.764 1447.87 L967.852 1447.87 L969.941 1447.87 L972.03 1447.87 L974.119 1447.87 \n",
       "  L976.208 1447.87 L978.297 1447.87 L980.386 1447.87 L982.475 1447.87 L984.564 1447.87 L986.653 1447.87 L988.742 1447.87 L990.831 1447.87 L992.92 1447.87 L995.009 1447.87 \n",
       "  L997.098 1447.87 L999.187 1447.87 L1001.28 1447.87 L1003.36 1447.87 L1005.45 1447.87 L1007.54 1447.87 L1009.63 1447.87 L1011.72 1447.87 L1013.81 1447.87 L1015.9 1447.87 \n",
       "  L1017.99 1447.87 L1020.08 1447.87 L1022.16 1447.87 L1024.25 1447.87 L1026.34 1447.87 L1028.43 1447.87 L1030.52 1447.87 L1032.61 1447.87 L1034.7 1447.87 L1036.79 1447.87 \n",
       "  L1038.88 1447.87 L1040.97 1447.87 L1043.05 1447.87 L1045.14 1447.87 L1047.23 1447.87 L1049.32 1447.87 L1051.41 1447.87 L1053.5 1447.87 L1055.59 1447.87 L1057.68 1447.87 \n",
       "  L1059.77 1447.87 L1061.85 1447.87 L1063.94 1447.87 L1066.03 1447.87 L1068.12 1447.87 L1070.21 1447.87 L1072.3 1447.87 L1074.39 1447.87 L1076.48 1447.87 L1078.57 1447.87 \n",
       "  L1080.66 1447.87 L1082.74 1447.87 L1084.83 1447.87 L1086.92 1447.87 L1089.01 1447.87 L1091.1 1447.87 L1093.19 1447.87 L1095.28 1447.87 L1097.37 1447.87 L1099.46 1447.87 \n",
       "  L1101.54 1447.87 L1103.63 1447.87 L1105.72 1447.87 L1107.81 1447.87 L1109.9 1447.87 L1111.99 1447.87 L1114.08 1447.87 L1116.17 1447.87 L1118.26 1447.87 L1120.34 1447.87 \n",
       "  L1122.43 1447.87 L1124.52 1447.87 L1126.61 1447.87 L1128.7 1447.87 L1130.79 1447.87 L1132.88 1447.87 L1134.97 1447.87 L1137.06 1447.87 L1139.15 1447.87 L1141.23 1447.87 \n",
       "  L1143.32 1447.87 L1145.41 1447.87 L1147.5 1447.87 L1149.59 1447.87 L1151.68 1447.87 L1153.77 1447.87 L1155.86 1447.87 L1157.95 1447.87 L1160.03 1447.87 L1162.12 1447.87 \n",
       "  L1164.21 1447.87 L1166.3 1447.87 L1168.39 1447.87 L1170.48 1447.87 L1172.57 1447.87 L1174.66 1447.87 L1176.75 1447.87 L1178.84 1447.87 L1180.92 1447.87 L1183.01 1447.87 \n",
       "  L1185.1 1447.87 L1187.19 1447.87 L1189.28 1447.87 L1191.37 1447.87 L1193.46 1447.87 L1195.55 1447.87 L1197.64 1447.87 L1199.72 1447.87 L1201.81 1447.87 L1203.9 1447.87 \n",
       "  L1205.99 1447.87 L1208.08 1447.87 L1210.17 1447.87 L1212.26 1447.87 L1214.35 1447.87 L1216.44 1447.87 L1218.53 1447.87 L1220.61 1447.87 L1222.7 1447.87 L1224.79 1447.87 \n",
       "  L1226.88 1447.87 L1228.97 1447.87 L1231.06 1447.87 L1233.15 1447.87 L1235.24 1447.87 L1237.33 1447.87 L1239.41 1447.87 L1241.5 1447.87 L1243.59 1447.87 L1245.68 1447.87 \n",
       "  L1247.77 1447.87 L1249.86 1447.87 L1251.95 1447.87 L1254.04 1447.87 L1256.13 1447.87 L1258.21 1447.87 L1260.3 1447.87 L1262.39 1447.87 L1264.48 1447.87 L1266.57 1447.87 \n",
       "  L1268.66 1447.87 L1270.75 1447.87 L1272.84 1447.87 L1274.93 1447.87 L1277.02 1447.87 L1279.1 1447.87 L1281.19 1447.87 L1283.28 1447.87 L1285.37 1447.87 L1287.46 1447.87 \n",
       "  L1289.55 1447.87 L1291.64 1447.87 L1293.73 1447.87 L1295.82 1447.87 L1297.9 1447.87 L1299.99 1447.87 L1302.08 1447.87 L1304.17 1447.87 L1306.26 1447.87 L1308.35 1447.87 \n",
       "  L1310.44 1447.87 L1312.53 1447.87 L1314.62 1447.87 L1316.71 1447.87 L1318.79 1447.87 L1320.88 1447.87 L1322.97 1447.87 L1325.06 1447.87 L1327.15 1447.87 L1329.24 1447.87 \n",
       "  L1331.33 1447.87 L1333.42 1447.87 L1335.51 1447.87 L1337.59 1447.87 L1339.68 1447.87 L1341.77 1447.87 L1343.86 1447.87 L1345.95 1447.87 L1348.04 1447.87 L1350.13 1447.87 \n",
       "  L1352.22 1447.87 L1354.31 1447.87 L1356.39 1447.87 L1358.48 1447.87 L1360.57 1447.87 L1362.66 1447.87 L1364.75 1447.87 L1366.84 1447.87 L1368.93 1447.87 L1371.02 1447.87 \n",
       "  L1373.11 1447.87 L1375.2 1447.87 L1377.28 1447.87 L1379.37 1447.87 L1381.46 1447.87 L1383.55 1447.87 L1385.64 1447.87 L1387.73 1447.87 L1389.82 1447.87 L1391.91 1447.87 \n",
       "  L1394 1447.87 L1396.08 1447.87 L1398.17 1447.87 L1400.26 1447.87 L1402.35 1447.87 L1404.44 1447.87 L1406.53 1447.87 L1408.62 1447.87 L1410.71 1447.87 L1412.8 1447.87 \n",
       "  L1414.89 1447.87 L1416.97 1447.87 L1419.06 1447.87 L1421.15 1447.87 L1423.24 1447.87 L1425.33 1447.87 L1427.42 1447.87 L1429.51 1447.87 L1431.6 1447.87 L1433.69 1447.87 \n",
       "  L1435.77 1447.87 L1437.86 1447.87 L1439.95 1447.87 L1442.04 1447.87 L1444.13 1447.87 L1446.22 1447.87 L1448.31 1447.87 L1450.4 1447.87 L1452.49 1447.87 L1454.58 1447.87 \n",
       "  L1456.66 1447.87 L1458.75 1447.87 L1460.84 1447.87 L1462.93 1447.87 L1465.02 1447.87 L1467.11 1447.87 L1469.2 1447.87 L1471.29 1447.87 L1473.38 1447.87 L1475.46 1447.87 \n",
       "  L1477.55 1447.86 L1479.64 1447.86 L1481.73 1447.86 L1483.82 1447.86 L1485.91 1447.85 L1488 1447.85 L1490.09 1447.84 L1492.18 1447.83 L1494.26 1447.82 L1496.35 1447.81 \n",
       "  L1498.44 1447.8 L1500.53 1447.78 L1502.62 1447.76 L1504.71 1447.74 L1506.8 1447.71 L1508.89 1447.68 L1510.98 1447.63 L1513.07 1447.58 L1515.15 1447.53 L1517.24 1447.45 \n",
       "  L1519.33 1447.37 L1521.42 1447.27 L1523.51 1447.15 L1525.6 1447.01 L1527.69 1446.85 L1529.78 1446.66 L1531.87 1446.43 L1533.95 1446.16 L1536.04 1445.85 L1538.13 1445.49 \n",
       "  L1540.22 1445.06 L1542.31 1444.57 L1544.4 1444.01 L1546.49 1443.35 L1548.58 1442.59 L1550.67 1441.72 L1552.76 1440.71 L1554.84 1439.56 L1556.93 1438.25 L1559.02 1436.75 \n",
       "  L1561.11 1435.05 L1563.2 1433.11 L1565.29 1430.91 L1567.38 1428.43 L1569.47 1425.64 L1571.56 1422.49 L1573.64 1418.96 L1575.73 1415.01 L1577.82 1410.59 L1579.91 1405.67 \n",
       "  L1582 1400.2 L1584.09 1394.13 L1586.18 1387.42 L1588.27 1380.01 L1590.36 1371.86 L1592.45 1362.91 L1594.53 1353.11 L1596.62 1342.41 L1598.71 1330.74 L1600.8 1318.07 \n",
       "  L1602.89 1304.33 L1604.98 1289.48 L1607.07 1273.48 L1609.16 1256.27 L1611.25 1237.82 L1613.33 1218.1 L1615.42 1197.08 L1617.51 1174.73 L1619.6 1151.05 L1621.69 1126.03 \n",
       "  L1623.78 1099.67 L1625.87 1071.98 L1627.96 1043 L1630.05 1012.76 L1632.13 981.306 L1634.22 948.702 L1636.31 915.024 L1638.4 880.36 L1640.49 844.813 L1642.58 808.497 \n",
       "  L1644.67 771.542 L1646.76 734.09 L1648.85 696.296 L1650.94 658.326 L1653.02 620.357 L1655.11 582.577 L1657.2 545.181 L1659.29 508.372 L1661.38 472.356 L1663.47 437.347 \n",
       "  L1665.56 403.555 L1667.65 371.196 L1669.74 340.477 L1671.82 311.605 L1673.91 284.779 L1676 260.188 L1678.09 238.01 L1680.18 218.41 L1682.27 201.538 L1684.36 187.527 \n",
       "  L1686.45 176.49 L1688.54 168.52 L1690.63 163.689 L1692.71 162.047 L1694.8 163.618 L1696.89 168.405 L1698.98 176.385 L1701.07 187.512 L1703.16 201.715 L1705.25 218.903 \n",
       "  L1707.34 238.96 L1709.43 261.752 L1711.51 287.123 L1713.6 314.902 L1715.69 344.902 L1717.78 376.923 L1719.87 410.753 L1721.96 446.172 L1724.05 482.954 L1726.14 520.867 \n",
       "  L1728.23 559.682 L1730.31 599.166 L1732.4 639.093 L1734.49 679.241 L1736.58 719.396 L1738.67 759.352 L1740.76 798.916 L1742.85 837.906 L1744.94 876.154 L1747.03 913.509 \n",
       "  L1749.12 949.833 L1751.2 985.005 L1753.29 1018.92 L1755.38 1051.49 L1757.47 1082.64 L1759.56 1112.32 L1761.65 1140.49 L1763.74 1167.12 L1765.83 1192.19 L1767.92 1215.72 \n",
       "  L1770 1237.71 L1772.09 1258.19 L1774.18 1277.19 L1776.27 1294.75 L1778.36 1310.92 L1780.45 1325.76 L1782.54 1339.33 L1784.63 1351.69 L1786.72 1362.91 L1788.81 1373.06 \n",
       "  L1790.89 1382.2 L1792.98 1390.41 L1795.07 1397.75 L1797.16 1404.3 L1799.25 1410.11 L1801.34 1415.26 L1803.43 1419.79 L1805.52 1423.78 L1807.61 1427.27 L1809.69 1430.31 \n",
       "  L1811.78 1432.95 L1813.87 1435.24 L1815.96 1437.22 L1818.05 1438.91 L1820.14 1440.37 L1822.23 1441.6 L1824.32 1442.66 L1826.41 1443.55 L1828.5 1444.3 L1830.58 1444.93 \n",
       "  L1832.67 1445.46 L1834.76 1445.9 L1836.85 1446.27 L1838.94 1446.57 L1841.03 1446.82 L1843.12 1447.03 L1845.21 1447.19 L1847.3 1447.33 L1849.38 1447.44 L1851.47 1447.53 \n",
       "  L1853.56 1447.6 L1855.65 1447.66 L1857.74 1447.71 L1859.83 1447.74 L1861.92 1447.77 L1864.01 1447.79 L1866.1 1447.81 L1868.18 1447.83 L1870.27 1447.84 L1872.36 1447.85 \n",
       "  L1874.45 1447.85 L1876.54 1447.86 L1878.63 1447.86 L1880.72 1447.86 L1882.81 1447.87 L1884.9 1447.87 L1886.99 1447.87 L1889.07 1447.87 L1891.16 1447.87 L1893.25 1447.87 \n",
       "  L1895.34 1447.87 L1897.43 1447.87 L1899.52 1447.87 L1901.61 1447.87 L1903.7 1447.87 L1905.79 1447.87 L1907.87 1447.87 L1909.96 1447.87 L1912.05 1447.87 L1914.14 1447.87 \n",
       "  L1916.23 1447.87 L1918.32 1447.87 L1920.41 1447.87 L1922.5 1447.87 L1924.59 1447.87 L1926.68 1447.87 L1928.76 1447.87 L1930.85 1447.87 L1932.94 1447.87 L1935.03 1447.87 \n",
       "  L1937.12 1447.87 L1939.21 1447.87 L1941.3 1447.87 L1943.39 1447.87 L1945.48 1447.87 L1947.56 1447.87 L1949.65 1447.87 L1951.74 1447.87 L1953.83 1447.87 L1955.92 1447.87 \n",
       "  L1958.01 1447.87 L1960.1 1447.87 L1962.19 1447.87 L1964.28 1447.87 L1966.36 1447.87 L1968.45 1447.87 L1970.54 1447.87 L1972.63 1447.87 L1974.72 1447.87 L1976.81 1447.87 \n",
       "  L1978.9 1447.87 L1980.99 1447.87 L1983.08 1447.87 L1985.17 1447.87 L1987.25 1447.87 L1989.34 1447.87 L1991.43 1447.87 L1993.52 1447.87 L1995.61 1447.87 L1997.7 1447.87 \n",
       "  L1999.79 1447.87 L2001.88 1447.87 L2003.97 1447.87 L2006.05 1447.87 L2008.14 1447.87 L2010.23 1447.87 L2012.32 1447.87 L2014.41 1447.87 L2016.5 1447.87 L2018.59 1447.87 \n",
       "  L2020.68 1447.87 L2022.77 1447.87 L2024.86 1447.87 L2026.94 1447.87 L2029.03 1447.87 L2031.12 1447.87 L2033.21 1447.87 L2035.3 1447.87 L2037.39 1447.87 L2039.48 1447.87 \n",
       "  L2041.57 1447.87 L2043.66 1447.87 L2045.74 1447.87 L2047.83 1447.87 L2049.92 1447.87 L2052.01 1447.87 L2054.1 1447.87 L2056.19 1447.87 L2058.28 1447.87 L2060.37 1447.87 \n",
       "  L2062.46 1447.87 L2064.55 1447.87 L2066.63 1447.87 L2068.72 1447.87 L2070.81 1447.87 L2072.9 1447.87 L2074.99 1447.87 L2077.08 1447.87 L2079.17 1447.87 L2081.26 1447.87 \n",
       "  L2083.35 1447.87 L2085.43 1447.87 L2087.52 1447.87 L2089.61 1447.87 L2091.7 1447.87 L2093.79 1447.87 L2095.88 1447.87 L2097.97 1447.87 L2100.06 1447.87 L2102.15 1447.87 \n",
       "  L2104.23 1447.87 L2106.32 1447.87 L2108.41 1447.87 L2110.5 1447.87 L2112.59 1447.87 L2114.68 1447.87 L2116.77 1447.87 L2118.86 1447.87 L2120.95 1447.87 L2123.04 1447.87 \n",
       "  L2125.12 1447.87 L2127.21 1447.87 L2129.3 1447.87 L2131.39 1447.87 L2133.48 1447.87 L2135.57 1447.87 L2137.66 1447.87 L2139.75 1447.87 L2141.84 1447.87 L2143.92 1447.87 \n",
       "  L2146.01 1447.87 L2148.1 1447.87 L2150.19 1447.87 L2152.28 1447.87 L2154.37 1447.87 L2156.46 1447.87 L2158.55 1447.87 L2160.64 1447.87 L2162.73 1447.87 L2164.81 1447.87 \n",
       "  L2166.9 1447.87 L2168.99 1447.87 L2171.08 1447.87 L2173.17 1447.87 L2175.26 1447.87 L2177.35 1447.87 L2179.44 1447.87 L2181.53 1447.87 L2183.61 1447.87 L2185.7 1447.87 \n",
       "  L2187.79 1447.87 L2189.88 1447.87 L2191.97 1447.87 L2194.06 1447.87 L2196.15 1447.87 L2198.24 1447.87 L2200.33 1447.87 L2202.42 1447.87 L2204.5 1447.87 L2206.59 1447.87 \n",
       "  L2208.68 1447.87 L2210.77 1447.87 L2212.86 1447.87 L2214.95 1447.87 L2217.04 1447.87 L2219.13 1447.87 L2221.22 1447.87 L2223.3 1447.87 L2225.39 1447.87 L2227.48 1447.87 \n",
       "  L2229.57 1447.87 L2231.66 1447.87 L2233.75 1447.87 L2235.84 1447.87 L2237.93 1447.87 L2240.02 1447.87 L2242.1 1447.87 L2244.19 1447.87 L2246.28 1447.87 L2248.37 1447.87 \n",
       "  L2250.46 1447.87 L2252.55 1447.87 L2254.64 1447.87 L2256.73 1447.87 L2258.82 1447.87 L2260.91 1447.87 L2262.99 1447.87 L2265.08 1447.87 L2267.17 1447.87 L2269.26 1447.87 \n",
       "  L2271.35 1447.87 L2273.44 1447.87 L2275.53 1447.87 L2277.62 1447.87 L2279.71 1447.87 L2281.79 1447.87 L2283.88 1447.87 L2285.97 1447.87 L2288.06 1447.87 L2290.15 1447.87 \n",
       "  L2290.15 1447.87 L2288.06 1447.87 L2285.97 1447.87 L2283.88 1447.87 L2281.79 1447.87 L2279.71 1447.87 L2277.62 1447.87 L2275.53 1447.87 L2273.44 1447.87 L2271.35 1447.87 \n",
       "  L2269.26 1447.87 L2267.17 1447.87 L2265.08 1447.87 L2262.99 1447.87 L2260.91 1447.87 L2258.82 1447.87 L2256.73 1447.87 L2254.64 1447.87 L2252.55 1447.87 L2250.46 1447.87 \n",
       "  L2248.37 1447.87 L2246.28 1447.87 L2244.19 1447.87 L2242.1 1447.87 L2240.02 1447.87 L2237.93 1447.87 L2235.84 1447.87 L2233.75 1447.87 L2231.66 1447.87 L2229.57 1447.87 \n",
       "  L2227.48 1447.87 L2225.39 1447.87 L2223.3 1447.87 L2221.22 1447.87 L2219.13 1447.87 L2217.04 1447.87 L2214.95 1447.87 L2212.86 1447.87 L2210.77 1447.87 L2208.68 1447.87 \n",
       "  L2206.59 1447.87 L2204.5 1447.87 L2202.42 1447.87 L2200.33 1447.87 L2198.24 1447.87 L2196.15 1447.87 L2194.06 1447.87 L2191.97 1447.87 L2189.88 1447.87 L2187.79 1447.87 \n",
       "  L2185.7 1447.87 L2183.61 1447.87 L2181.53 1447.87 L2179.44 1447.87 L2177.35 1447.87 L2175.26 1447.87 L2173.17 1447.87 L2171.08 1447.87 L2168.99 1447.87 L2166.9 1447.87 \n",
       "  L2164.81 1447.87 L2162.73 1447.87 L2160.64 1447.87 L2158.55 1447.87 L2156.46 1447.87 L2154.37 1447.87 L2152.28 1447.87 L2150.19 1447.87 L2148.1 1447.87 L2146.01 1447.87 \n",
       "  L2143.92 1447.87 L2141.84 1447.87 L2139.75 1447.87 L2137.66 1447.87 L2135.57 1447.87 L2133.48 1447.87 L2131.39 1447.87 L2129.3 1447.87 L2127.21 1447.87 L2125.12 1447.87 \n",
       "  L2123.04 1447.87 L2120.95 1447.87 L2118.86 1447.87 L2116.77 1447.87 L2114.68 1447.87 L2112.59 1447.87 L2110.5 1447.87 L2108.41 1447.87 L2106.32 1447.87 L2104.23 1447.87 \n",
       "  L2102.15 1447.87 L2100.06 1447.87 L2097.97 1447.87 L2095.88 1447.87 L2093.79 1447.87 L2091.7 1447.87 L2089.61 1447.87 L2087.52 1447.87 L2085.43 1447.87 L2083.35 1447.87 \n",
       "  L2081.26 1447.87 L2079.17 1447.87 L2077.08 1447.87 L2074.99 1447.87 L2072.9 1447.87 L2070.81 1447.87 L2068.72 1447.87 L2066.63 1447.87 L2064.55 1447.87 L2062.46 1447.87 \n",
       "  L2060.37 1447.87 L2058.28 1447.87 L2056.19 1447.87 L2054.1 1447.87 L2052.01 1447.87 L2049.92 1447.87 L2047.83 1447.87 L2045.74 1447.87 L2043.66 1447.87 L2041.57 1447.87 \n",
       "  L2039.48 1447.87 L2037.39 1447.87 L2035.3 1447.87 L2033.21 1447.87 L2031.12 1447.87 L2029.03 1447.87 L2026.94 1447.87 L2024.86 1447.87 L2022.77 1447.87 L2020.68 1447.87 \n",
       "  L2018.59 1447.87 L2016.5 1447.87 L2014.41 1447.87 L2012.32 1447.87 L2010.23 1447.87 L2008.14 1447.87 L2006.05 1447.87 L2003.97 1447.87 L2001.88 1447.87 L1999.79 1447.87 \n",
       "  L1997.7 1447.87 L1995.61 1447.87 L1993.52 1447.87 L1991.43 1447.87 L1989.34 1447.87 L1987.25 1447.87 L1985.17 1447.87 L1983.08 1447.87 L1980.99 1447.87 L1978.9 1447.87 \n",
       "  L1976.81 1447.87 L1974.72 1447.87 L1972.63 1447.87 L1970.54 1447.87 L1968.45 1447.87 L1966.36 1447.87 L1964.28 1447.87 L1962.19 1447.87 L1960.1 1447.87 L1958.01 1447.87 \n",
       "  L1955.92 1447.87 L1953.83 1447.87 L1951.74 1447.87 L1949.65 1447.87 L1947.56 1447.87 L1945.48 1447.87 L1943.39 1447.87 L1941.3 1447.87 L1939.21 1447.87 L1937.12 1447.87 \n",
       "  L1935.03 1447.87 L1932.94 1447.87 L1930.85 1447.87 L1928.76 1447.87 L1926.68 1447.87 L1924.59 1447.87 L1922.5 1447.87 L1920.41 1447.87 L1918.32 1447.87 L1916.23 1447.87 \n",
       "  L1914.14 1447.87 L1912.05 1447.87 L1909.96 1447.87 L1907.87 1447.87 L1905.79 1447.87 L1903.7 1447.87 L1901.61 1447.87 L1899.52 1447.87 L1897.43 1447.87 L1895.34 1447.87 \n",
       "  L1893.25 1447.87 L1891.16 1447.87 L1889.07 1447.87 L1886.99 1447.87 L1884.9 1447.87 L1882.81 1447.87 L1880.72 1447.87 L1878.63 1447.87 L1876.54 1447.87 L1874.45 1447.87 \n",
       "  L1872.36 1447.87 L1870.27 1447.87 L1868.18 1447.87 L1866.1 1447.87 L1864.01 1447.87 L1861.92 1447.87 L1859.83 1447.87 L1857.74 1447.87 L1855.65 1447.87 L1853.56 1447.87 \n",
       "  L1851.47 1447.87 L1849.38 1447.87 L1847.3 1447.87 L1845.21 1447.87 L1843.12 1447.87 L1841.03 1447.87 L1838.94 1447.87 L1836.85 1447.87 L1834.76 1447.87 L1832.67 1447.87 \n",
       "  L1830.58 1447.87 L1828.5 1447.87 L1826.41 1447.87 L1824.32 1447.87 L1822.23 1447.87 L1820.14 1447.87 L1818.05 1447.87 L1815.96 1447.87 L1813.87 1447.87 L1811.78 1447.87 \n",
       "  L1809.69 1447.87 L1807.61 1447.87 L1805.52 1447.87 L1803.43 1447.87 L1801.34 1447.87 L1799.25 1447.87 L1797.16 1447.87 L1795.07 1447.87 L1792.98 1447.87 L1790.89 1447.87 \n",
       "  L1788.81 1447.87 L1786.72 1447.87 L1784.63 1447.87 L1782.54 1447.87 L1780.45 1447.87 L1778.36 1447.87 L1776.27 1447.87 L1774.18 1447.87 L1772.09 1447.87 L1770 1447.87 \n",
       "  L1767.92 1447.87 L1765.83 1447.87 L1763.74 1447.87 L1761.65 1447.87 L1759.56 1447.87 L1757.47 1447.87 L1755.38 1447.87 L1753.29 1447.87 L1751.2 1447.87 L1749.12 1447.87 \n",
       "  L1747.03 1447.87 L1744.94 1447.87 L1742.85 1447.87 L1740.76 1447.87 L1738.67 1447.87 L1736.58 1447.87 L1734.49 1447.87 L1732.4 1447.87 L1730.31 1447.87 L1728.23 1447.87 \n",
       "  L1726.14 1447.87 L1724.05 1447.87 L1721.96 1447.87 L1719.87 1447.87 L1717.78 1447.87 L1715.69 1447.87 L1713.6 1447.87 L1711.51 1447.87 L1709.43 1447.87 L1707.34 1447.87 \n",
       "  L1705.25 1447.87 L1703.16 1447.87 L1701.07 1447.87 L1698.98 1447.87 L1696.89 1447.87 L1694.8 1447.87 L1692.71 1447.87 L1690.63 1447.87 L1688.54 1447.87 L1686.45 1447.87 \n",
       "  L1684.36 1447.87 L1682.27 1447.87 L1680.18 1447.87 L1678.09 1447.87 L1676 1447.87 L1673.91 1447.87 L1671.82 1447.87 L1669.74 1447.87 L1667.65 1447.87 L1665.56 1447.87 \n",
       "  L1663.47 1447.87 L1661.38 1447.87 L1659.29 1447.87 L1657.2 1447.87 L1655.11 1447.87 L1653.02 1447.87 L1650.94 1447.87 L1648.85 1447.87 L1646.76 1447.87 L1644.67 1447.87 \n",
       "  L1642.58 1447.87 L1640.49 1447.87 L1638.4 1447.87 L1636.31 1447.87 L1634.22 1447.87 L1632.13 1447.87 L1630.05 1447.87 L1627.96 1447.87 L1625.87 1447.87 L1623.78 1447.87 \n",
       "  L1621.69 1447.87 L1619.6 1447.87 L1617.51 1447.87 L1615.42 1447.87 L1613.33 1447.87 L1611.25 1447.87 L1609.16 1447.87 L1607.07 1447.87 L1604.98 1447.87 L1602.89 1447.87 \n",
       "  L1600.8 1447.87 L1598.71 1447.87 L1596.62 1447.87 L1594.53 1447.87 L1592.45 1447.87 L1590.36 1447.87 L1588.27 1447.87 L1586.18 1447.87 L1584.09 1447.87 L1582 1447.87 \n",
       "  L1579.91 1447.87 L1577.82 1447.87 L1575.73 1447.87 L1573.64 1447.87 L1571.56 1447.87 L1569.47 1447.87 L1567.38 1447.87 L1565.29 1447.87 L1563.2 1447.87 L1561.11 1447.87 \n",
       "  L1559.02 1447.87 L1556.93 1447.87 L1554.84 1447.87 L1552.76 1447.87 L1550.67 1447.87 L1548.58 1447.87 L1546.49 1447.87 L1544.4 1447.87 L1542.31 1447.87 L1540.22 1447.87 \n",
       "  L1538.13 1447.87 L1536.04 1447.87 L1533.95 1447.87 L1531.87 1447.87 L1529.78 1447.87 L1527.69 1447.87 L1525.6 1447.87 L1523.51 1447.87 L1521.42 1447.87 L1519.33 1447.87 \n",
       "  L1517.24 1447.87 L1515.15 1447.87 L1513.07 1447.87 L1510.98 1447.87 L1508.89 1447.87 L1506.8 1447.87 L1504.71 1447.87 L1502.62 1447.87 L1500.53 1447.87 L1498.44 1447.87 \n",
       "  L1496.35 1447.87 L1494.26 1447.87 L1492.18 1447.87 L1490.09 1447.87 L1488 1447.87 L1485.91 1447.87 L1483.82 1447.87 L1481.73 1447.87 L1479.64 1447.87 L1477.55 1447.87 \n",
       "  L1475.46 1447.87 L1473.38 1447.87 L1471.29 1447.87 L1469.2 1447.87 L1467.11 1447.87 L1465.02 1447.87 L1462.93 1447.87 L1460.84 1447.87 L1458.75 1447.87 L1456.66 1447.87 \n",
       "  L1454.58 1447.87 L1452.49 1447.87 L1450.4 1447.87 L1448.31 1447.87 L1446.22 1447.87 L1444.13 1447.87 L1442.04 1447.87 L1439.95 1447.87 L1437.86 1447.87 L1435.77 1447.87 \n",
       "  L1433.69 1447.87 L1431.6 1447.87 L1429.51 1447.87 L1427.42 1447.87 L1425.33 1447.87 L1423.24 1447.87 L1421.15 1447.87 L1419.06 1447.87 L1416.97 1447.87 L1414.89 1447.87 \n",
       "  L1412.8 1447.87 L1410.71 1447.87 L1408.62 1447.87 L1406.53 1447.87 L1404.44 1447.87 L1402.35 1447.87 L1400.26 1447.87 L1398.17 1447.87 L1396.08 1447.87 L1394 1447.87 \n",
       "  L1391.91 1447.87 L1389.82 1447.87 L1387.73 1447.87 L1385.64 1447.87 L1383.55 1447.87 L1381.46 1447.87 L1379.37 1447.87 L1377.28 1447.87 L1375.2 1447.87 L1373.11 1447.87 \n",
       "  L1371.02 1447.87 L1368.93 1447.87 L1366.84 1447.87 L1364.75 1447.87 L1362.66 1447.87 L1360.57 1447.87 L1358.48 1447.87 L1356.39 1447.87 L1354.31 1447.87 L1352.22 1447.87 \n",
       "  L1350.13 1447.87 L1348.04 1447.87 L1345.95 1447.87 L1343.86 1447.87 L1341.77 1447.87 L1339.68 1447.87 L1337.59 1447.87 L1335.51 1447.87 L1333.42 1447.87 L1331.33 1447.87 \n",
       "  L1329.24 1447.87 L1327.15 1447.87 L1325.06 1447.87 L1322.97 1447.87 L1320.88 1447.87 L1318.79 1447.87 L1316.71 1447.87 L1314.62 1447.87 L1312.53 1447.87 L1310.44 1447.87 \n",
       "  L1308.35 1447.87 L1306.26 1447.87 L1304.17 1447.87 L1302.08 1447.87 L1299.99 1447.87 L1297.9 1447.87 L1295.82 1447.87 L1293.73 1447.87 L1291.64 1447.87 L1289.55 1447.87 \n",
       "  L1287.46 1447.87 L1285.37 1447.87 L1283.28 1447.87 L1281.19 1447.87 L1279.1 1447.87 L1277.02 1447.87 L1274.93 1447.87 L1272.84 1447.87 L1270.75 1447.87 L1268.66 1447.87 \n",
       "  L1266.57 1447.87 L1264.48 1447.87 L1262.39 1447.87 L1260.3 1447.87 L1258.21 1447.87 L1256.13 1447.87 L1254.04 1447.87 L1251.95 1447.87 L1249.86 1447.87 L1247.77 1447.87 \n",
       "  L1245.68 1447.87 L1243.59 1447.87 L1241.5 1447.87 L1239.41 1447.87 L1237.33 1447.87 L1235.24 1447.87 L1233.15 1447.87 L1231.06 1447.87 L1228.97 1447.87 L1226.88 1447.87 \n",
       "  L1224.79 1447.87 L1222.7 1447.87 L1220.61 1447.87 L1218.53 1447.87 L1216.44 1447.87 L1214.35 1447.87 L1212.26 1447.87 L1210.17 1447.87 L1208.08 1447.87 L1205.99 1447.87 \n",
       "  L1203.9 1447.87 L1201.81 1447.87 L1199.72 1447.87 L1197.64 1447.87 L1195.55 1447.87 L1193.46 1447.87 L1191.37 1447.87 L1189.28 1447.87 L1187.19 1447.87 L1185.1 1447.87 \n",
       "  L1183.01 1447.87 L1180.92 1447.87 L1178.84 1447.87 L1176.75 1447.87 L1174.66 1447.87 L1172.57 1447.87 L1170.48 1447.87 L1168.39 1447.87 L1166.3 1447.87 L1164.21 1447.87 \n",
       "  L1162.12 1447.87 L1160.03 1447.87 L1157.95 1447.87 L1155.86 1447.87 L1153.77 1447.87 L1151.68 1447.87 L1149.59 1447.87 L1147.5 1447.87 L1145.41 1447.87 L1143.32 1447.87 \n",
       "  L1141.23 1447.87 L1139.15 1447.87 L1137.06 1447.87 L1134.97 1447.87 L1132.88 1447.87 L1130.79 1447.87 L1128.7 1447.87 L1126.61 1447.87 L1124.52 1447.87 L1122.43 1447.87 \n",
       "  L1120.34 1447.87 L1118.26 1447.87 L1116.17 1447.87 L1114.08 1447.87 L1111.99 1447.87 L1109.9 1447.87 L1107.81 1447.87 L1105.72 1447.87 L1103.63 1447.87 L1101.54 1447.87 \n",
       "  L1099.46 1447.87 L1097.37 1447.87 L1095.28 1447.87 L1093.19 1447.87 L1091.1 1447.87 L1089.01 1447.87 L1086.92 1447.87 L1084.83 1447.87 L1082.74 1447.87 L1080.66 1447.87 \n",
       "  L1078.57 1447.87 L1076.48 1447.87 L1074.39 1447.87 L1072.3 1447.87 L1070.21 1447.87 L1068.12 1447.87 L1066.03 1447.87 L1063.94 1447.87 L1061.85 1447.87 L1059.77 1447.87 \n",
       "  L1057.68 1447.87 L1055.59 1447.87 L1053.5 1447.87 L1051.41 1447.87 L1049.32 1447.87 L1047.23 1447.87 L1045.14 1447.87 L1043.05 1447.87 L1040.97 1447.87 L1038.88 1447.87 \n",
       "  L1036.79 1447.87 L1034.7 1447.87 L1032.61 1447.87 L1030.52 1447.87 L1028.43 1447.87 L1026.34 1447.87 L1024.25 1447.87 L1022.16 1447.87 L1020.08 1447.87 L1017.99 1447.87 \n",
       "  L1015.9 1447.87 L1013.81 1447.87 L1011.72 1447.87 L1009.63 1447.87 L1007.54 1447.87 L1005.45 1447.87 L1003.36 1447.87 L1001.28 1447.87 L999.187 1447.87 L997.098 1447.87 \n",
       "  L995.009 1447.87 L992.92 1447.87 L990.831 1447.87 L988.742 1447.87 L986.653 1447.87 L984.564 1447.87 L982.475 1447.87 L980.386 1447.87 L978.297 1447.87 L976.208 1447.87 \n",
       "  L974.119 1447.87 L972.03 1447.87 L969.941 1447.87 L967.852 1447.87 L965.764 1447.87 L963.675 1447.87 L961.586 1447.87 L959.497 1447.87 L957.408 1447.87 L955.319 1447.87 \n",
       "  L953.23 1447.87 L951.141 1447.87 L949.052 1447.87 L946.963 1447.87 L944.874 1447.87 L942.785 1447.87 L940.696 1447.87 L938.607 1447.87 L936.518 1447.87 L934.429 1447.87 \n",
       "  L932.341 1447.87 L930.252 1447.87 L928.163 1447.87 L926.074 1447.87 L923.985 1447.87 L921.896 1447.87 L919.807 1447.87 L917.718 1447.87 L915.629 1447.87 L913.54 1447.87 \n",
       "  L911.451 1447.87 L909.362 1447.87 L907.273 1447.87 L905.184 1447.87 L903.095 1447.87 L901.006 1447.87 L898.917 1447.87 L896.829 1447.87 L894.74 1447.87 L892.651 1447.87 \n",
       "  L890.562 1447.87 L888.473 1447.87 L886.384 1447.87 L884.295 1447.87 L882.206 1447.87 L880.117 1447.87 L878.028 1447.87 L875.939 1447.87 L873.85 1447.87 L871.761 1447.87 \n",
       "  L869.672 1447.87 L867.583 1447.87 L865.494 1447.87 L863.406 1447.87 L861.317 1447.87 L859.228 1447.87 L857.139 1447.87 L855.05 1447.87 L852.961 1447.87 L850.872 1447.87 \n",
       "  L848.783 1447.87 L846.694 1447.87 L844.605 1447.87 L842.516 1447.87 L840.427 1447.87 L838.338 1447.87 L836.249 1447.87 L834.16 1447.87 L832.071 1447.87 L829.983 1447.87 \n",
       "  L827.894 1447.87 L825.805 1447.87 L823.716 1447.87 L821.627 1447.87 L819.538 1447.87 L817.449 1447.87 L815.36 1447.87 L813.271 1447.87 L811.182 1447.87 L809.093 1447.87 \n",
       "  L807.004 1447.87 L804.915 1447.87 L802.826 1447.87 L800.737 1447.87 L798.648 1447.87 L796.56 1447.87 L794.471 1447.87 L792.382 1447.87 L790.293 1447.87 L788.204 1447.87 \n",
       "  L786.115 1447.87 L784.026 1447.87 L781.937 1447.87 L779.848 1447.87 L777.759 1447.87 L775.67 1447.87 L773.581 1447.87 L771.492 1447.87 L769.403 1447.87 L767.314 1447.87 \n",
       "  L765.225 1447.87 L763.136 1447.87 L761.048 1447.87 L758.959 1447.87 L756.87 1447.87 L754.781 1447.87 L752.692 1447.87 L750.603 1447.87 L748.514 1447.87 L746.425 1447.87 \n",
       "  L744.336 1447.87 L742.247 1447.87 L740.158 1447.87 L738.069 1447.87 L735.98 1447.87 L733.891 1447.87 L731.802 1447.87 L729.713 1447.87 L727.625 1447.87 L725.536 1447.87 \n",
       "  L723.447 1447.87 L721.358 1447.87 L719.269 1447.87 L717.18 1447.87 L715.091 1447.87 L713.002 1447.87 L710.913 1447.87 L708.824 1447.87 L706.735 1447.87 L704.646 1447.87 \n",
       "  L702.557 1447.87 L700.468 1447.87 L698.379 1447.87 L696.29 1447.87 L694.202 1447.87 L692.113 1447.87 L690.024 1447.87 L687.935 1447.87 L685.846 1447.87 L683.757 1447.87 \n",
       "  L681.668 1447.87 L679.579 1447.87 L677.49 1447.87 L675.401 1447.87 L673.312 1447.87 L671.223 1447.87 L669.134 1447.87 L667.045 1447.87 L664.956 1447.87 L662.867 1447.87 \n",
       "  L660.779 1447.87 L658.69 1447.87 L656.601 1447.87 L654.512 1447.87 L652.423 1447.87 L650.334 1447.87 L648.245 1447.87 L646.156 1447.87 L644.067 1447.87 L641.978 1447.87 \n",
       "  L639.889 1447.87 L637.8 1447.87 L635.711 1447.87 L633.622 1447.87 L631.533 1447.87 L629.444 1447.87 L627.356 1447.87 L625.267 1447.87 L623.178 1447.87 L621.089 1447.87 \n",
       "  L619 1447.87 L616.911 1447.87 L614.822 1447.87 L612.733 1447.87 L610.644 1447.87 L608.555 1447.87 L606.466 1447.87 L604.377 1447.87 L602.288 1447.87 L600.199 1447.87 \n",
       "  L598.11 1447.87 L596.021 1447.87 L593.932 1447.87 L591.844 1447.87 L589.755 1447.87 L587.666 1447.87 L585.577 1447.87 L583.488 1447.87 L581.399 1447.87 L579.31 1447.87 \n",
       "  L577.221 1447.87 L575.132 1447.87 L573.043 1447.87 L570.954 1447.87 L568.865 1447.87 L566.776 1447.87 L564.687 1447.87 L562.598 1447.87 L560.509 1447.87 L558.421 1447.87 \n",
       "  L556.332 1447.87 L554.243 1447.87 L552.154 1447.87 L550.065 1447.87 L547.976 1447.87 L545.887 1447.87 L543.798 1447.87 L541.709 1447.87 L539.62 1447.87 L537.531 1447.87 \n",
       "  L535.442 1447.87 L533.353 1447.87 L531.264 1447.87 L529.175 1447.87 L527.086 1447.87 L524.998 1447.87 L522.909 1447.87 L520.82 1447.87 L518.731 1447.87 L516.642 1447.87 \n",
       "  L514.553 1447.87 L512.464 1447.87 L510.375 1447.87 L508.286 1447.87 L506.197 1447.87 L504.108 1447.87 L502.019 1447.87 L499.93 1447.87 L497.841 1447.87 L495.752 1447.87 \n",
       "  L493.663 1447.87 L491.575 1447.87 L489.486 1447.87 L487.397 1447.87 L485.308 1447.87 L483.219 1447.87 L481.13 1447.87 L479.041 1447.87 L476.952 1447.87 L474.863 1447.87 \n",
       "  L472.774 1447.87 L470.685 1447.87 L468.596 1447.87 L466.507 1447.87 L464.418 1447.87 L462.329 1447.87 L460.24 1447.87 L458.152 1447.87 L456.063 1447.87 L453.974 1447.87 \n",
       "  L451.885 1447.87 L449.796 1447.87 L447.707 1447.87 L445.618 1447.87 L443.529 1447.87 L441.44 1447.87 L439.351 1447.87 L437.262 1447.87 L435.173 1447.87 L433.084 1447.87 \n",
       "  L430.995 1447.87 L428.906 1447.87 L426.817 1447.87 L424.728 1447.87 L422.64 1447.87 L420.551 1447.87 L418.462 1447.87 L416.373 1447.87 L414.284 1447.87 L412.195 1447.87 \n",
       "  L410.106 1447.87 L408.017 1447.87 L405.928 1447.87 L403.839 1447.87 L401.75 1447.87 L399.661 1447.87 L397.572 1447.87 L395.483 1447.87 L393.394 1447.87 L391.305 1447.87 \n",
       "  L389.217 1447.87 L387.128 1447.87 L385.039 1447.87 L382.95 1447.87 L380.861 1447.87 L378.772 1447.87 L376.683 1447.87 L374.594 1447.87 L372.505 1447.87 L370.416 1447.87 \n",
       "  L368.327 1447.87 L366.238 1447.87 L364.149 1447.87 L362.06 1447.87 L359.971 1447.87 L357.882 1447.87 L355.794 1447.87 L353.705 1447.87 L351.616 1447.87 L349.527 1447.87 \n",
       "  L347.438 1447.87 L345.349 1447.87 L343.26 1447.87 L341.171 1447.87 L339.082 1447.87 L336.993 1447.87 L334.904 1447.87 L332.815 1447.87 L330.726 1447.87 L328.637 1447.87 \n",
       "  L326.548 1447.87 L324.459 1447.87 L322.371 1447.87 L320.282 1447.87 L318.193 1447.87 L316.104 1447.87 L314.015 1447.87 L311.926 1447.87 L309.837 1447.87 L307.748 1447.87 \n",
       "  L305.659 1447.87 L303.57 1447.87 L301.481 1447.87 L299.392 1447.87 L297.303 1447.87 L295.214 1447.87 L293.125 1447.87 L291.036 1447.87 L288.947 1447.87 L286.859 1447.87 \n",
       "  L284.77 1447.87 L282.681 1447.87 L280.592 1447.87 L278.503 1447.87 L276.414 1447.87 L274.325 1447.87 L272.236 1447.87 L270.147 1447.87 L268.058 1447.87 L265.969 1447.87 \n",
       "  L263.88 1447.87 L261.791 1447.87 L259.702 1447.87 L257.613 1447.87 L255.524 1447.87 L253.436 1447.87 L251.347 1447.87 L249.258 1447.87 L247.169 1447.87 L245.08 1447.87 \n",
       "  L242.991 1447.87 L240.902 1447.87 L238.813 1447.87 L236.724 1447.87 L234.635 1447.87 L232.546 1447.87 L230.457 1447.87 L228.368 1447.87 L226.279 1447.87 L224.19 1447.87 \n",
       "  L222.101 1447.87 L220.013 1447.87 L217.924 1447.87 L215.835 1447.87 L213.746 1447.87 L211.657 1447.87 L209.568 1447.87 L207.479 1447.87 L205.39 1447.87 L203.301 1447.87 \n",
       "   Z\n",
       "  \" fill=\"#3da44d\" fill-rule=\"evenodd\" fill-opacity=\"0.3\"/>\n",
       "<polyline clip-path=\"url(#clip992)\" style=\"stroke:#3da44d; stroke-linecap:round; stroke-linejoin:round; stroke-width:4; stroke-opacity:1; fill:none\" points=\"\n",
       "  203.301,1447.87 205.39,1447.87 207.479,1447.87 209.568,1447.87 211.657,1447.87 213.746,1447.87 215.835,1447.87 217.924,1447.87 220.013,1447.87 222.101,1447.87 \n",
       "  224.19,1447.87 226.279,1447.87 228.368,1447.87 230.457,1447.87 232.546,1447.87 234.635,1447.87 236.724,1447.87 238.813,1447.87 240.902,1447.87 242.991,1447.87 \n",
       "  245.08,1447.87 247.169,1447.87 249.258,1447.87 251.347,1447.87 253.436,1447.87 255.524,1447.87 257.613,1447.87 259.702,1447.87 261.791,1447.87 263.88,1447.87 \n",
       "  265.969,1447.87 268.058,1447.87 270.147,1447.87 272.236,1447.87 274.325,1447.87 276.414,1447.87 278.503,1447.87 280.592,1447.87 282.681,1447.87 284.77,1447.87 \n",
       "  286.859,1447.87 288.947,1447.87 291.036,1447.87 293.125,1447.87 295.214,1447.87 297.303,1447.87 299.392,1447.87 301.481,1447.87 303.57,1447.87 305.659,1447.87 \n",
       "  307.748,1447.87 309.837,1447.87 311.926,1447.87 314.015,1447.87 316.104,1447.87 318.193,1447.87 320.282,1447.87 322.371,1447.87 324.459,1447.87 326.548,1447.87 \n",
       "  328.637,1447.87 330.726,1447.87 332.815,1447.87 334.904,1447.87 336.993,1447.87 339.082,1447.87 341.171,1447.87 343.26,1447.87 345.349,1447.87 347.438,1447.87 \n",
       "  349.527,1447.87 351.616,1447.87 353.705,1447.87 355.794,1447.87 357.882,1447.87 359.971,1447.87 362.06,1447.87 364.149,1447.87 366.238,1447.87 368.327,1447.87 \n",
       "  370.416,1447.87 372.505,1447.87 374.594,1447.87 376.683,1447.87 378.772,1447.87 380.861,1447.87 382.95,1447.87 385.039,1447.87 387.128,1447.87 389.217,1447.87 \n",
       "  391.305,1447.87 393.394,1447.87 395.483,1447.87 397.572,1447.87 399.661,1447.87 401.75,1447.87 403.839,1447.87 405.928,1447.87 408.017,1447.87 410.106,1447.87 \n",
       "  412.195,1447.87 414.284,1447.87 416.373,1447.87 418.462,1447.87 420.551,1447.87 422.64,1447.87 424.728,1447.87 426.817,1447.87 428.906,1447.87 430.995,1447.87 \n",
       "  433.084,1447.87 435.173,1447.87 437.262,1447.87 439.351,1447.87 441.44,1447.87 443.529,1447.87 445.618,1447.87 447.707,1447.87 449.796,1447.87 451.885,1447.87 \n",
       "  453.974,1447.87 456.063,1447.87 458.152,1447.87 460.24,1447.87 462.329,1447.87 464.418,1447.87 466.507,1447.87 468.596,1447.87 470.685,1447.87 472.774,1447.87 \n",
       "  474.863,1447.87 476.952,1447.87 479.041,1447.87 481.13,1447.87 483.219,1447.87 485.308,1447.87 487.397,1447.87 489.486,1447.87 491.575,1447.87 493.663,1447.87 \n",
       "  495.752,1447.87 497.841,1447.87 499.93,1447.87 502.019,1447.87 504.108,1447.87 506.197,1447.87 508.286,1447.87 510.375,1447.87 512.464,1447.87 514.553,1447.87 \n",
       "  516.642,1447.87 518.731,1447.87 520.82,1447.87 522.909,1447.87 524.998,1447.87 527.086,1447.87 529.175,1447.87 531.264,1447.87 533.353,1447.87 535.442,1447.87 \n",
       "  537.531,1447.87 539.62,1447.87 541.709,1447.87 543.798,1447.87 545.887,1447.87 547.976,1447.87 550.065,1447.87 552.154,1447.87 554.243,1447.87 556.332,1447.87 \n",
       "  558.421,1447.87 560.509,1447.87 562.598,1447.87 564.687,1447.87 566.776,1447.87 568.865,1447.87 570.954,1447.87 573.043,1447.87 575.132,1447.87 577.221,1447.87 \n",
       "  579.31,1447.87 581.399,1447.87 583.488,1447.87 585.577,1447.87 587.666,1447.87 589.755,1447.87 591.844,1447.87 593.932,1447.87 596.021,1447.87 598.11,1447.87 \n",
       "  600.199,1447.87 602.288,1447.87 604.377,1447.87 606.466,1447.87 608.555,1447.87 610.644,1447.87 612.733,1447.87 614.822,1447.87 616.911,1447.87 619,1447.87 \n",
       "  621.089,1447.87 623.178,1447.87 625.267,1447.87 627.356,1447.87 629.444,1447.87 631.533,1447.87 633.622,1447.87 635.711,1447.87 637.8,1447.87 639.889,1447.87 \n",
       "  641.978,1447.87 644.067,1447.87 646.156,1447.87 648.245,1447.87 650.334,1447.87 652.423,1447.87 654.512,1447.87 656.601,1447.87 658.69,1447.87 660.779,1447.87 \n",
       "  662.867,1447.87 664.956,1447.87 667.045,1447.87 669.134,1447.87 671.223,1447.87 673.312,1447.87 675.401,1447.87 677.49,1447.87 679.579,1447.87 681.668,1447.87 \n",
       "  683.757,1447.87 685.846,1447.87 687.935,1447.87 690.024,1447.87 692.113,1447.87 694.202,1447.87 696.29,1447.87 698.379,1447.87 700.468,1447.87 702.557,1447.87 \n",
       "  704.646,1447.87 706.735,1447.87 708.824,1447.87 710.913,1447.87 713.002,1447.87 715.091,1447.87 717.18,1447.87 719.269,1447.87 721.358,1447.87 723.447,1447.87 \n",
       "  725.536,1447.87 727.625,1447.87 729.713,1447.87 731.802,1447.87 733.891,1447.87 735.98,1447.87 738.069,1447.87 740.158,1447.87 742.247,1447.87 744.336,1447.87 \n",
       "  746.425,1447.87 748.514,1447.87 750.603,1447.87 752.692,1447.87 754.781,1447.87 756.87,1447.87 758.959,1447.87 761.048,1447.87 763.136,1447.87 765.225,1447.87 \n",
       "  767.314,1447.87 769.403,1447.87 771.492,1447.87 773.581,1447.87 775.67,1447.87 777.759,1447.87 779.848,1447.87 781.937,1447.87 784.026,1447.87 786.115,1447.87 \n",
       "  788.204,1447.87 790.293,1447.87 792.382,1447.87 794.471,1447.87 796.56,1447.87 798.648,1447.87 800.737,1447.87 802.826,1447.87 804.915,1447.87 807.004,1447.87 \n",
       "  809.093,1447.87 811.182,1447.87 813.271,1447.87 815.36,1447.87 817.449,1447.87 819.538,1447.87 821.627,1447.87 823.716,1447.87 825.805,1447.87 827.894,1447.87 \n",
       "  829.983,1447.87 832.071,1447.87 834.16,1447.87 836.249,1447.87 838.338,1447.87 840.427,1447.87 842.516,1447.87 844.605,1447.87 846.694,1447.87 848.783,1447.87 \n",
       "  850.872,1447.87 852.961,1447.87 855.05,1447.87 857.139,1447.87 859.228,1447.87 861.317,1447.87 863.406,1447.87 865.494,1447.87 867.583,1447.87 869.672,1447.87 \n",
       "  871.761,1447.87 873.85,1447.87 875.939,1447.87 878.028,1447.87 880.117,1447.87 882.206,1447.87 884.295,1447.87 886.384,1447.87 888.473,1447.87 890.562,1447.87 \n",
       "  892.651,1447.87 894.74,1447.87 896.829,1447.87 898.917,1447.87 901.006,1447.87 903.095,1447.87 905.184,1447.87 907.273,1447.87 909.362,1447.87 911.451,1447.87 \n",
       "  913.54,1447.87 915.629,1447.87 917.718,1447.87 919.807,1447.87 921.896,1447.87 923.985,1447.87 926.074,1447.87 928.163,1447.87 930.252,1447.87 932.341,1447.87 \n",
       "  934.429,1447.87 936.518,1447.87 938.607,1447.87 940.696,1447.87 942.785,1447.87 944.874,1447.87 946.963,1447.87 949.052,1447.87 951.141,1447.87 953.23,1447.87 \n",
       "  955.319,1447.87 957.408,1447.87 959.497,1447.87 961.586,1447.87 963.675,1447.87 965.764,1447.87 967.852,1447.87 969.941,1447.87 972.03,1447.87 974.119,1447.87 \n",
       "  976.208,1447.87 978.297,1447.87 980.386,1447.87 982.475,1447.87 984.564,1447.87 986.653,1447.87 988.742,1447.87 990.831,1447.87 992.92,1447.87 995.009,1447.87 \n",
       "  997.098,1447.87 999.187,1447.87 1001.28,1447.87 1003.36,1447.87 1005.45,1447.87 1007.54,1447.87 1009.63,1447.87 1011.72,1447.87 1013.81,1447.87 1015.9,1447.87 \n",
       "  1017.99,1447.87 1020.08,1447.87 1022.16,1447.87 1024.25,1447.87 1026.34,1447.87 1028.43,1447.87 1030.52,1447.87 1032.61,1447.87 1034.7,1447.87 1036.79,1447.87 \n",
       "  1038.88,1447.87 1040.97,1447.87 1043.05,1447.87 1045.14,1447.87 1047.23,1447.87 1049.32,1447.87 1051.41,1447.87 1053.5,1447.87 1055.59,1447.87 1057.68,1447.87 \n",
       "  1059.77,1447.87 1061.85,1447.87 1063.94,1447.87 1066.03,1447.87 1068.12,1447.87 1070.21,1447.87 1072.3,1447.87 1074.39,1447.87 1076.48,1447.87 1078.57,1447.87 \n",
       "  1080.66,1447.87 1082.74,1447.87 1084.83,1447.87 1086.92,1447.87 1089.01,1447.87 1091.1,1447.87 1093.19,1447.87 1095.28,1447.87 1097.37,1447.87 1099.46,1447.87 \n",
       "  1101.54,1447.87 1103.63,1447.87 1105.72,1447.87 1107.81,1447.87 1109.9,1447.87 1111.99,1447.87 1114.08,1447.87 1116.17,1447.87 1118.26,1447.87 1120.34,1447.87 \n",
       "  1122.43,1447.87 1124.52,1447.87 1126.61,1447.87 1128.7,1447.87 1130.79,1447.87 1132.88,1447.87 1134.97,1447.87 1137.06,1447.87 1139.15,1447.87 1141.23,1447.87 \n",
       "  1143.32,1447.87 1145.41,1447.87 1147.5,1447.87 1149.59,1447.87 1151.68,1447.87 1153.77,1447.87 1155.86,1447.87 1157.95,1447.87 1160.03,1447.87 1162.12,1447.87 \n",
       "  1164.21,1447.87 1166.3,1447.87 1168.39,1447.87 1170.48,1447.87 1172.57,1447.87 1174.66,1447.87 1176.75,1447.87 1178.84,1447.87 1180.92,1447.87 1183.01,1447.87 \n",
       "  1185.1,1447.87 1187.19,1447.87 1189.28,1447.87 1191.37,1447.87 1193.46,1447.87 1195.55,1447.87 1197.64,1447.87 1199.72,1447.87 1201.81,1447.87 1203.9,1447.87 \n",
       "  1205.99,1447.87 1208.08,1447.87 1210.17,1447.87 1212.26,1447.87 1214.35,1447.87 1216.44,1447.87 1218.53,1447.87 1220.61,1447.87 1222.7,1447.87 1224.79,1447.87 \n",
       "  1226.88,1447.87 1228.97,1447.87 1231.06,1447.87 1233.15,1447.87 1235.24,1447.87 1237.33,1447.87 1239.41,1447.87 1241.5,1447.87 1243.59,1447.87 1245.68,1447.87 \n",
       "  1247.77,1447.87 1249.86,1447.87 1251.95,1447.87 1254.04,1447.87 1256.13,1447.87 1258.21,1447.87 1260.3,1447.87 1262.39,1447.87 1264.48,1447.87 1266.57,1447.87 \n",
       "  1268.66,1447.87 1270.75,1447.87 1272.84,1447.87 1274.93,1447.87 1277.02,1447.87 1279.1,1447.87 1281.19,1447.87 1283.28,1447.87 1285.37,1447.87 1287.46,1447.87 \n",
       "  1289.55,1447.87 1291.64,1447.87 1293.73,1447.87 1295.82,1447.87 1297.9,1447.87 1299.99,1447.87 1302.08,1447.87 1304.17,1447.87 1306.26,1447.87 1308.35,1447.87 \n",
       "  1310.44,1447.87 1312.53,1447.87 1314.62,1447.87 1316.71,1447.87 1318.79,1447.87 1320.88,1447.87 1322.97,1447.87 1325.06,1447.87 1327.15,1447.87 1329.24,1447.87 \n",
       "  1331.33,1447.87 1333.42,1447.87 1335.51,1447.87 1337.59,1447.87 1339.68,1447.87 1341.77,1447.87 1343.86,1447.87 1345.95,1447.87 1348.04,1447.87 1350.13,1447.87 \n",
       "  1352.22,1447.87 1354.31,1447.87 1356.39,1447.87 1358.48,1447.87 1360.57,1447.87 1362.66,1447.87 1364.75,1447.87 1366.84,1447.87 1368.93,1447.87 1371.02,1447.87 \n",
       "  1373.11,1447.87 1375.2,1447.87 1377.28,1447.87 1379.37,1447.87 1381.46,1447.87 1383.55,1447.87 1385.64,1447.87 1387.73,1447.87 1389.82,1447.87 1391.91,1447.87 \n",
       "  1394,1447.87 1396.08,1447.87 1398.17,1447.87 1400.26,1447.87 1402.35,1447.87 1404.44,1447.87 1406.53,1447.87 1408.62,1447.87 1410.71,1447.87 1412.8,1447.87 \n",
       "  1414.89,1447.87 1416.97,1447.87 1419.06,1447.87 1421.15,1447.87 1423.24,1447.87 1425.33,1447.87 1427.42,1447.87 1429.51,1447.87 1431.6,1447.87 1433.69,1447.87 \n",
       "  1435.77,1447.87 1437.86,1447.87 1439.95,1447.87 1442.04,1447.87 1444.13,1447.87 1446.22,1447.87 1448.31,1447.87 1450.4,1447.87 1452.49,1447.87 1454.58,1447.87 \n",
       "  1456.66,1447.87 1458.75,1447.87 1460.84,1447.87 1462.93,1447.87 1465.02,1447.87 1467.11,1447.87 1469.2,1447.87 1471.29,1447.87 1473.38,1447.87 1475.46,1447.87 \n",
       "  1477.55,1447.86 1479.64,1447.86 1481.73,1447.86 1483.82,1447.86 1485.91,1447.85 1488,1447.85 1490.09,1447.84 1492.18,1447.83 1494.26,1447.82 1496.35,1447.81 \n",
       "  1498.44,1447.8 1500.53,1447.78 1502.62,1447.76 1504.71,1447.74 1506.8,1447.71 1508.89,1447.68 1510.98,1447.63 1513.07,1447.58 1515.15,1447.53 1517.24,1447.45 \n",
       "  1519.33,1447.37 1521.42,1447.27 1523.51,1447.15 1525.6,1447.01 1527.69,1446.85 1529.78,1446.66 1531.87,1446.43 1533.95,1446.16 1536.04,1445.85 1538.13,1445.49 \n",
       "  1540.22,1445.06 1542.31,1444.57 1544.4,1444.01 1546.49,1443.35 1548.58,1442.59 1550.67,1441.72 1552.76,1440.71 1554.84,1439.56 1556.93,1438.25 1559.02,1436.75 \n",
       "  1561.11,1435.05 1563.2,1433.11 1565.29,1430.91 1567.38,1428.43 1569.47,1425.64 1571.56,1422.49 1573.64,1418.96 1575.73,1415.01 1577.82,1410.59 1579.91,1405.67 \n",
       "  1582,1400.2 1584.09,1394.13 1586.18,1387.42 1588.27,1380.01 1590.36,1371.86 1592.45,1362.91 1594.53,1353.11 1596.62,1342.41 1598.71,1330.74 1600.8,1318.07 \n",
       "  1602.89,1304.33 1604.98,1289.48 1607.07,1273.48 1609.16,1256.27 1611.25,1237.82 1613.33,1218.1 1615.42,1197.08 1617.51,1174.73 1619.6,1151.05 1621.69,1126.03 \n",
       "  1623.78,1099.67 1625.87,1071.98 1627.96,1043 1630.05,1012.76 1632.13,981.306 1634.22,948.702 1636.31,915.024 1638.4,880.36 1640.49,844.813 1642.58,808.497 \n",
       "  1644.67,771.542 1646.76,734.09 1648.85,696.296 1650.94,658.326 1653.02,620.357 1655.11,582.577 1657.2,545.181 1659.29,508.372 1661.38,472.356 1663.47,437.347 \n",
       "  1665.56,403.555 1667.65,371.196 1669.74,340.477 1671.82,311.605 1673.91,284.779 1676,260.188 1678.09,238.01 1680.18,218.41 1682.27,201.538 1684.36,187.527 \n",
       "  1686.45,176.49 1688.54,168.52 1690.63,163.689 1692.71,162.047 1694.8,163.618 1696.89,168.405 1698.98,176.385 1701.07,187.512 1703.16,201.715 1705.25,218.903 \n",
       "  1707.34,238.96 1709.43,261.752 1711.51,287.123 1713.6,314.902 1715.69,344.902 1717.78,376.923 1719.87,410.753 1721.96,446.172 1724.05,482.954 1726.14,520.867 \n",
       "  1728.23,559.682 1730.31,599.166 1732.4,639.093 1734.49,679.241 1736.58,719.396 1738.67,759.352 1740.76,798.916 1742.85,837.906 1744.94,876.154 1747.03,913.509 \n",
       "  1749.12,949.833 1751.2,985.005 1753.29,1018.92 1755.38,1051.49 1757.47,1082.64 1759.56,1112.32 1761.65,1140.49 1763.74,1167.12 1765.83,1192.19 1767.92,1215.72 \n",
       "  1770,1237.71 1772.09,1258.19 1774.18,1277.19 1776.27,1294.75 1778.36,1310.92 1780.45,1325.76 1782.54,1339.33 1784.63,1351.69 1786.72,1362.91 1788.81,1373.06 \n",
       "  1790.89,1382.2 1792.98,1390.41 1795.07,1397.75 1797.16,1404.3 1799.25,1410.11 1801.34,1415.26 1803.43,1419.79 1805.52,1423.78 1807.61,1427.27 1809.69,1430.31 \n",
       "  1811.78,1432.95 1813.87,1435.24 1815.96,1437.22 1818.05,1438.91 1820.14,1440.37 1822.23,1441.6 1824.32,1442.66 1826.41,1443.55 1828.5,1444.3 1830.58,1444.93 \n",
       "  1832.67,1445.46 1834.76,1445.9 1836.85,1446.27 1838.94,1446.57 1841.03,1446.82 1843.12,1447.03 1845.21,1447.19 1847.3,1447.33 1849.38,1447.44 1851.47,1447.53 \n",
       "  1853.56,1447.6 1855.65,1447.66 1857.74,1447.71 1859.83,1447.74 1861.92,1447.77 1864.01,1447.79 1866.1,1447.81 1868.18,1447.83 1870.27,1447.84 1872.36,1447.85 \n",
       "  1874.45,1447.85 1876.54,1447.86 1878.63,1447.86 1880.72,1447.86 1882.81,1447.87 1884.9,1447.87 1886.99,1447.87 1889.07,1447.87 1891.16,1447.87 1893.25,1447.87 \n",
       "  1895.34,1447.87 1897.43,1447.87 1899.52,1447.87 1901.61,1447.87 1903.7,1447.87 1905.79,1447.87 1907.87,1447.87 1909.96,1447.87 1912.05,1447.87 1914.14,1447.87 \n",
       "  1916.23,1447.87 1918.32,1447.87 1920.41,1447.87 1922.5,1447.87 1924.59,1447.87 1926.68,1447.87 1928.76,1447.87 1930.85,1447.87 1932.94,1447.87 1935.03,1447.87 \n",
       "  1937.12,1447.87 1939.21,1447.87 1941.3,1447.87 1943.39,1447.87 1945.48,1447.87 1947.56,1447.87 1949.65,1447.87 1951.74,1447.87 1953.83,1447.87 1955.92,1447.87 \n",
       "  1958.01,1447.87 1960.1,1447.87 1962.19,1447.87 1964.28,1447.87 1966.36,1447.87 1968.45,1447.87 1970.54,1447.87 1972.63,1447.87 1974.72,1447.87 1976.81,1447.87 \n",
       "  1978.9,1447.87 1980.99,1447.87 1983.08,1447.87 1985.17,1447.87 1987.25,1447.87 1989.34,1447.87 1991.43,1447.87 1993.52,1447.87 1995.61,1447.87 1997.7,1447.87 \n",
       "  1999.79,1447.87 2001.88,1447.87 2003.97,1447.87 2006.05,1447.87 2008.14,1447.87 2010.23,1447.87 2012.32,1447.87 2014.41,1447.87 2016.5,1447.87 2018.59,1447.87 \n",
       "  2020.68,1447.87 2022.77,1447.87 2024.86,1447.87 2026.94,1447.87 2029.03,1447.87 2031.12,1447.87 2033.21,1447.87 2035.3,1447.87 2037.39,1447.87 2039.48,1447.87 \n",
       "  2041.57,1447.87 2043.66,1447.87 2045.74,1447.87 2047.83,1447.87 2049.92,1447.87 2052.01,1447.87 2054.1,1447.87 2056.19,1447.87 2058.28,1447.87 2060.37,1447.87 \n",
       "  2062.46,1447.87 2064.55,1447.87 2066.63,1447.87 2068.72,1447.87 2070.81,1447.87 2072.9,1447.87 2074.99,1447.87 2077.08,1447.87 2079.17,1447.87 2081.26,1447.87 \n",
       "  2083.35,1447.87 2085.43,1447.87 2087.52,1447.87 2089.61,1447.87 2091.7,1447.87 2093.79,1447.87 2095.88,1447.87 2097.97,1447.87 2100.06,1447.87 2102.15,1447.87 \n",
       "  2104.23,1447.87 2106.32,1447.87 2108.41,1447.87 2110.5,1447.87 2112.59,1447.87 2114.68,1447.87 2116.77,1447.87 2118.86,1447.87 2120.95,1447.87 2123.04,1447.87 \n",
       "  2125.12,1447.87 2127.21,1447.87 2129.3,1447.87 2131.39,1447.87 2133.48,1447.87 2135.57,1447.87 2137.66,1447.87 2139.75,1447.87 2141.84,1447.87 2143.92,1447.87 \n",
       "  2146.01,1447.87 2148.1,1447.87 2150.19,1447.87 2152.28,1447.87 2154.37,1447.87 2156.46,1447.87 2158.55,1447.87 2160.64,1447.87 2162.73,1447.87 2164.81,1447.87 \n",
       "  2166.9,1447.87 2168.99,1447.87 2171.08,1447.87 2173.17,1447.87 2175.26,1447.87 2177.35,1447.87 2179.44,1447.87 2181.53,1447.87 2183.61,1447.87 2185.7,1447.87 \n",
       "  2187.79,1447.87 2189.88,1447.87 2191.97,1447.87 2194.06,1447.87 2196.15,1447.87 2198.24,1447.87 2200.33,1447.87 2202.42,1447.87 2204.5,1447.87 2206.59,1447.87 \n",
       "  2208.68,1447.87 2210.77,1447.87 2212.86,1447.87 2214.95,1447.87 2217.04,1447.87 2219.13,1447.87 2221.22,1447.87 2223.3,1447.87 2225.39,1447.87 2227.48,1447.87 \n",
       "  2229.57,1447.87 2231.66,1447.87 2233.75,1447.87 2235.84,1447.87 2237.93,1447.87 2240.02,1447.87 2242.1,1447.87 2244.19,1447.87 2246.28,1447.87 2248.37,1447.87 \n",
       "  2250.46,1447.87 2252.55,1447.87 2254.64,1447.87 2256.73,1447.87 2258.82,1447.87 2260.91,1447.87 2262.99,1447.87 2265.08,1447.87 2267.17,1447.87 2269.26,1447.87 \n",
       "  2271.35,1447.87 2273.44,1447.87 2275.53,1447.87 2277.62,1447.87 2279.71,1447.87 2281.79,1447.87 2283.88,1447.87 2285.97,1447.87 2288.06,1447.87 2290.15,1447.87 \n",
       "  \n",
       "  \"/>\n",
       "<polyline clip-path=\"url(#clip992)\" style=\"stroke:#e26f46; stroke-linecap:round; stroke-linejoin:round; stroke-width:4; stroke-opacity:1; fill:none\" points=\"\n",
       "  1768.44,2849.42 1768.44,-1239.5 \n",
       "  \"/>\n",
       "<path clip-path=\"url(#clip990)\" d=\"\n",
       "M1917.7 324.425 L2279.02 324.425 L2279.02 168.905 L1917.7 168.905  Z\n",
       "  \" fill=\"#ffffff\" fill-rule=\"evenodd\" fill-opacity=\"1\"/>\n",
       "<polyline clip-path=\"url(#clip990)\" style=\"stroke:#000000; stroke-linecap:round; stroke-linejoin:round; stroke-width:4; stroke-opacity:1; fill:none\" points=\"\n",
       "  1917.7,324.425 2279.02,324.425 2279.02,168.905 1917.7,168.905 1917.7,324.425 \n",
       "  \"/>\n",
       "<path clip-path=\"url(#clip990)\" d=\"\n",
       "M1942.28 241.481 L2089.75 241.481 L2089.75 200.009 L1942.28 200.009 L1942.28 241.481  Z\n",
       "  \" fill=\"#3da44d\" fill-rule=\"evenodd\" fill-opacity=\"0.3\"/>\n",
       "<polyline clip-path=\"url(#clip990)\" style=\"stroke:#3da44d; stroke-linecap:round; stroke-linejoin:round; stroke-width:4; stroke-opacity:1; fill:none\" points=\"\n",
       "  1942.28,200.009 2089.75,200.009 \n",
       "  \"/>\n",
       "<path clip-path=\"url(#clip990)\" d=\"M2119 207.307 L2119 220.293 L2124.88 220.293 Q2128.15 220.293 2129.93 218.603 Q2131.71 216.914 2131.71 213.789 Q2131.71 210.687 2129.93 208.997 Q2128.15 207.307 2124.88 207.307 L2119 207.307 M2114.33 203.465 L2124.88 203.465 Q2130.69 203.465 2133.66 206.104 Q2136.64 208.719 2136.64 213.789 Q2136.64 218.904 2133.66 221.52 Q2130.69 224.136 2124.88 224.136 L2119 224.136 L2119 238.025 L2114.33 238.025 L2114.33 203.465 Z\" fill=\"#000000\" fill-rule=\"evenodd\" fill-opacity=\"1\" /><path clip-path=\"url(#clip990)\" d=\"M2152.96 202.053 Q2149.86 207.377 2148.35 212.585 Q2146.85 217.793 2146.85 223.14 Q2146.85 228.488 2148.35 233.742 Q2149.88 238.974 2152.96 244.275 L2149.26 244.275 Q2145.79 238.835 2144.05 233.58 Q2142.34 228.326 2142.34 223.14 Q2142.34 217.978 2144.05 212.747 Q2145.76 207.516 2149.26 202.053 L2152.96 202.053 Z\" fill=\"#000000\" fill-rule=\"evenodd\" fill-opacity=\"1\" /><path clip-path=\"url(#clip990)\" d=\"M2165.35 234.136 L2165.35 247.886 L2161.06 247.886 L2161.06 212.099 L2165.35 212.099 L2165.35 216.034 Q2166.69 213.719 2168.72 212.608 Q2170.79 211.474 2173.63 211.474 Q2178.35 211.474 2181.29 215.224 Q2184.26 218.974 2184.26 225.085 Q2184.26 231.196 2181.29 234.946 Q2178.35 238.696 2173.63 238.696 Q2170.79 238.696 2168.72 237.585 Q2166.69 236.451 2165.35 234.136 M2179.84 225.085 Q2179.84 220.386 2177.89 217.724 Q2175.97 215.039 2172.59 215.039 Q2169.21 215.039 2167.27 217.724 Q2165.35 220.386 2165.35 225.085 Q2165.35 229.784 2167.27 232.469 Q2169.21 235.131 2172.59 235.131 Q2175.97 235.131 2177.89 232.469 Q2179.84 229.784 2179.84 225.085 Z\" fill=\"#000000\" fill-rule=\"evenodd\" fill-opacity=\"1\" /><path clip-path=\"url(#clip990)\" d=\"M2196.8 201.798 L2196.8 249.205 L2192.87 249.205 L2192.87 201.798 L2196.8 201.798 Z\" fill=\"#000000\" fill-rule=\"evenodd\" fill-opacity=\"1\" /><path clip-path=\"url(#clip990)\" d=\"M2218.08 240.432 Q2216.27 245.062 2214.56 246.474 Q2212.85 247.886 2209.97 247.886 L2206.57 247.886 L2206.57 244.321 L2209.07 244.321 Q2210.83 244.321 2211.8 243.488 Q2212.78 242.654 2213.96 239.552 L2214.72 237.608 L2204.23 212.099 L2208.75 212.099 L2216.85 232.377 L2224.95 212.099 L2229.47 212.099 L2218.08 240.432 Z\" fill=\"#000000\" fill-rule=\"evenodd\" fill-opacity=\"1\" /><path clip-path=\"url(#clip990)\" d=\"M2234.67 202.053 L2238.38 202.053 Q2241.85 207.516 2243.56 212.747 Q2245.3 217.978 2245.3 223.14 Q2245.3 228.326 2243.56 233.58 Q2241.85 238.835 2238.38 244.275 L2234.67 244.275 Q2237.75 238.974 2239.26 233.742 Q2240.78 228.488 2240.78 223.14 Q2240.78 217.793 2239.26 212.585 Q2237.75 207.377 2234.67 202.053 Z\" fill=\"#000000\" fill-rule=\"evenodd\" fill-opacity=\"1\" /><polyline clip-path=\"url(#clip990)\" style=\"stroke:#e26f46; stroke-linecap:round; stroke-linejoin:round; stroke-width:4; stroke-opacity:1; fill:none\" points=\"\n",
       "  1942.28,272.585 2089.75,272.585 \n",
       "  \"/>\n",
       "<path clip-path=\"url(#clip990)\" d=\"M2130.72 273.661 Q2132.22 274.17 2133.63 275.837 Q2135.07 277.504 2136.5 280.42 L2141.25 289.865 L2136.23 289.865 L2131.8 280.999 Q2130.09 277.527 2128.47 276.393 Q2126.87 275.258 2124.1 275.258 L2119 275.258 L2119 289.865 L2114.33 289.865 L2114.33 255.305 L2124.88 255.305 Q2130.81 255.305 2133.73 257.781 Q2136.64 260.258 2136.64 265.258 Q2136.64 268.522 2135.11 270.675 Q2133.61 272.828 2130.72 273.661 M2119 259.147 L2119 271.416 L2124.88 271.416 Q2128.26 271.416 2129.98 269.865 Q2131.71 268.291 2131.71 265.258 Q2131.71 262.226 2129.98 260.698 Q2128.26 259.147 2124.88 259.147 L2119 259.147 Z\" fill=\"#000000\" fill-rule=\"evenodd\" fill-opacity=\"1\" /><path clip-path=\"url(#clip990)\" d=\"M2167.13 275.837 L2167.13 277.92 L2147.54 277.92 Q2147.82 282.318 2150.18 284.633 Q2152.57 286.925 2156.8 286.925 Q2159.26 286.925 2161.55 286.323 Q2163.86 285.721 2166.13 284.517 L2166.13 288.545 Q2163.84 289.517 2161.43 290.027 Q2159.03 290.536 2156.55 290.536 Q2150.35 290.536 2146.71 286.925 Q2143.1 283.314 2143.1 277.156 Q2143.1 270.791 2146.53 267.064 Q2149.98 263.314 2155.81 263.314 Q2161.04 263.314 2164.07 266.693 Q2167.13 270.05 2167.13 275.837 M2162.87 274.587 Q2162.82 271.092 2160.9 269.008 Q2159 266.925 2155.85 266.925 Q2152.29 266.925 2150.14 268.939 Q2148.01 270.953 2147.68 274.61 L2162.87 274.587 Z\" fill=\"#000000\" fill-rule=\"evenodd\" fill-opacity=\"1\" /><path clip-path=\"url(#clip990)\" d=\"M2185.9 276.832 Q2180.74 276.832 2178.75 278.013 Q2176.76 279.193 2176.76 282.041 Q2176.76 284.309 2178.24 285.652 Q2179.74 286.971 2182.31 286.971 Q2185.85 286.971 2187.98 284.471 Q2190.14 281.948 2190.14 277.781 L2190.14 276.832 L2185.9 276.832 M2194.4 275.073 L2194.4 289.865 L2190.14 289.865 L2190.14 285.929 Q2188.68 288.291 2186.5 289.425 Q2184.33 290.536 2181.18 290.536 Q2177.2 290.536 2174.84 288.314 Q2172.5 286.068 2172.5 282.318 Q2172.5 277.943 2175.41 275.721 Q2178.35 273.499 2184.16 273.499 L2190.14 273.499 L2190.14 273.082 Q2190.14 270.143 2188.19 268.545 Q2186.27 266.925 2182.78 266.925 Q2180.55 266.925 2178.45 267.457 Q2176.34 267.99 2174.4 269.055 L2174.4 265.119 Q2176.73 264.217 2178.93 263.777 Q2181.13 263.314 2183.22 263.314 Q2188.84 263.314 2191.62 266.231 Q2194.4 269.147 2194.4 275.073 Z\" fill=\"#000000\" fill-rule=\"evenodd\" fill-opacity=\"1\" /><path clip-path=\"url(#clip990)\" d=\"M2203.17 253.846 L2207.43 253.846 L2207.43 289.865 L2203.17 289.865 L2203.17 253.846 Z\" fill=\"#000000\" fill-rule=\"evenodd\" fill-opacity=\"1\" /><path clip-path=\"url(#clip990)\" d=\"M2235.53 285.976 L2235.53 299.726 L2231.25 299.726 L2231.25 263.939 L2235.53 263.939 L2235.53 267.874 Q2236.87 265.559 2238.91 264.448 Q2240.97 263.314 2243.82 263.314 Q2248.54 263.314 2251.48 267.064 Q2254.44 270.814 2254.44 276.925 Q2254.44 283.036 2251.48 286.786 Q2248.54 290.536 2243.82 290.536 Q2240.97 290.536 2238.91 289.425 Q2236.87 288.291 2235.53 285.976 M2250.02 276.925 Q2250.02 272.226 2248.08 269.564 Q2246.16 266.879 2242.78 266.879 Q2239.4 266.879 2237.45 269.564 Q2235.53 272.226 2235.53 276.925 Q2235.53 281.624 2237.45 284.309 Q2239.4 286.971 2242.78 286.971 Q2246.16 286.971 2248.08 284.309 Q2250.02 281.624 2250.02 276.925 Z\" fill=\"#000000\" fill-rule=\"evenodd\" fill-opacity=\"1\" /></svg>\n"
      ]
     },
     "execution_count": 14,
     "metadata": {},
     "output_type": "execute_result"
    }
   ],
   "source": [
    "using Plots\n",
    "\n",
    "rθ = range(0, 1, length = 1000)\n",
    "\n",
    "p = plot(title = \"Inference results\")\n",
    "\n",
    "plot!(rθ, (x) -> pdf(result_mybernoulli.posteriors[:π], x), fillalpha=0.3, fillrange = 0, label=\"P(p|y)\", c=3)\n",
    "vline!([p_real], label=\"Real p\")"
   ]
  },
  {
   "attachments": {},
   "cell_type": "markdown",
   "metadata": {},
   "source": [
    "As a sanity check, we can create the same model with the `RxInfer` built-in node `Bernoulli` and compare the resulting posterior distribution with the one obtained using our custom `MyBernoulli` node. This will give us confidence that our custom node is working correctly. We use the `Bernoulli` node with the same `Beta` prior and the observed data, and then run inference. We can compare the two posterior distributions and observe that they are exactly the same, which indicates that our custom node is performing as expected."
   ]
  },
  {
   "cell_type": "code",
   "execution_count": 15,
   "metadata": {},
   "outputs": [
    {
     "name": "stdout",
     "output_type": "stream",
     "text": [
      "true\n"
     ]
    }
   ],
   "source": [
    "@model function coin_model(n)\n",
    "    \n",
    "    y = datavar(Float64, n)\n",
    "    p ~ Beta(4.0, 8.0)\n",
    "\n",
    "    for i in 1:n\n",
    "        y[i] ~ Bernoulli(p)\n",
    "    end\n",
    "\n",
    "end\n",
    "result_bernoulli = inference(\n",
    "    model = coin_model(length(dataset)), \n",
    "    data  = (y = dataset, ),\n",
    ")\n",
    "println(result_bernoulli.posteriors[:p] == result_mybernoulli.posteriors[:π])"
   ]
  },
  {
   "attachments": {},
   "cell_type": "markdown",
   "metadata": {},
   "source": [
    "Congratulations! You have succesfully implemented your own custom node in `RxInfer`. We went through the definition of a node to the implementation of the update rules and marginal posterior calculations. Finally we tested our custom node in a model and checked if we implemented everything correctly."
   ]
  }
 ],
 "metadata": {
  "kernelspec": {
   "display_name": "Julia 1.8.1",
   "language": "julia",
   "name": "julia-1.8"
  },
  "language_info": {
   "file_extension": ".jl",
   "mimetype": "application/julia",
   "name": "julia",
   "version": "1.8.1"
  },
  "orig_nbformat": 4
 },
 "nbformat": 4,
 "nbformat_minor": 2
}
